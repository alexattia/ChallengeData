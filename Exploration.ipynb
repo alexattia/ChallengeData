{
 "cells": [
  {
   "cell_type": "code",
   "execution_count": 1,
   "metadata": {
    "ExecuteTime": {
     "end_time": "2018-03-05T16:58:33.558670Z",
     "start_time": "2018-03-05T16:58:32.588186Z"
    }
   },
   "outputs": [
    {
     "name": "stderr",
     "output_type": "stream",
     "text": [
      "/home/alexattia/anaconda3/lib/python3.6/site-packages/h5py/__init__.py:36: FutureWarning: Conversion of the second argument of issubdtype from `float` to `np.floating` is deprecated. In future, it will be treated as `np.float64 == np.dtype(float).type`.\n",
      "  from ._conv import register_converters as _register_converters\n",
      "Using TensorFlow backend.\n"
     ]
    }
   ],
   "source": [
    "import pandas as pd\n",
    "import numpy as np\n",
    "import csv\n",
    "import matplotlib.pyplot as plt\n",
    "import seaborn as sns\n",
    "from sklearn.metrics import confusion_matrix, recall_score, precision_score\n",
    "from keras.models import Sequential\n",
    "from keras.layers import Dense, Dropout, LSTM, Activation\n",
    "%matplotlib inline"
   ]
  },
  {
   "cell_type": "code",
   "execution_count": 2,
   "metadata": {
    "ExecuteTime": {
     "end_time": "2018-03-05T16:59:32.230318Z",
     "start_time": "2018-03-05T16:58:33.559720Z"
    }
   },
   "outputs": [],
   "source": [
    "df = pd.read_csv('./train.csv')"
   ]
  },
  {
   "cell_type": "code",
   "execution_count": 3,
   "metadata": {
    "ExecuteTime": {
     "end_time": "2018-02-28T15:09:15.057142Z",
     "start_time": "2018-02-28T15:09:07.302027Z"
    }
   },
   "outputs": [],
   "source": [
    "df_test = pd.read_csv('./test.csv')"
   ]
  },
  {
   "cell_type": "code",
   "execution_count": 3,
   "metadata": {
    "ExecuteTime": {
     "end_time": "2018-03-05T16:59:35.222142Z",
     "start_time": "2018-03-05T16:59:33.907895Z"
    }
   },
   "outputs": [],
   "source": [
    "target = pd.read_csv('./challenge_output_data_training_file_nba_challenge.csv', sep=';')"
   ]
  },
  {
   "cell_type": "markdown",
   "metadata": {},
   "source": [
    "**Data**   \n",
    "Play-by-play datasets from the last 15 NBA seasons.  \n",
    "Each game is described by 11 variables for every second of the game from the fist halft (1440 seconds, **1440x11 = 15840 columns**). These variables such as : \"offensive rebound\", \"defensive rebound\", \"offensive foul\", \"defensive foul\", \"assist\", \"lost ball\",  \"steals\", \"bad pass\",\"block\", \"miss\" difference between the invited and home team. The scores/key indicators - represent the current score/key indicators differences.\n",
    "\n",
    "The training set : 12576 NBA games.  \n",
    "The test set : 4192 games."
   ]
  },
  {
   "cell_type": "code",
   "execution_count": 4,
   "metadata": {
    "ExecuteTime": {
     "end_time": "2018-02-27T13:18:01.964021Z",
     "start_time": "2018-02-27T13:18:01.918031Z"
    }
   },
   "outputs": [
    {
     "name": "stdout",
     "output_type": "stream",
     "text": [
      "(12576, 15841)\n",
      "(12576, 2)\n"
     ]
    },
    {
     "data": {
      "text/html": [
       "<div>\n",
       "<style>\n",
       "    .dataframe thead tr:only-child th {\n",
       "        text-align: right;\n",
       "    }\n",
       "\n",
       "    .dataframe thead th {\n",
       "        text-align: left;\n",
       "    }\n",
       "\n",
       "    .dataframe tbody tr th {\n",
       "        vertical-align: top;\n",
       "    }\n",
       "</style>\n",
       "<table border=\"1\" class=\"dataframe\">\n",
       "  <thead>\n",
       "    <tr style=\"text-align: right;\">\n",
       "      <th></th>\n",
       "      <th>ID</th>\n",
       "      <th>score_1</th>\n",
       "      <th>offensive rebound_1</th>\n",
       "      <th>defensive rebound_1</th>\n",
       "      <th>offensive foul_1</th>\n",
       "      <th>defensive foul_1</th>\n",
       "      <th>assist_1</th>\n",
       "      <th>lost ball_1</th>\n",
       "      <th>steals_1</th>\n",
       "      <th>bad pass_1</th>\n",
       "      <th>...</th>\n",
       "      <th>offensive rebound_1440</th>\n",
       "      <th>defensive rebound_1440</th>\n",
       "      <th>offensive foul_1440</th>\n",
       "      <th>defensive foul_1440</th>\n",
       "      <th>assist_1440</th>\n",
       "      <th>lost ball_1440</th>\n",
       "      <th>steals_1440</th>\n",
       "      <th>bad pass_1440</th>\n",
       "      <th>block_1440</th>\n",
       "      <th>miss_1440</th>\n",
       "    </tr>\n",
       "  </thead>\n",
       "  <tbody>\n",
       "    <tr>\n",
       "      <th>0</th>\n",
       "      <td>14186</td>\n",
       "      <td>-2</td>\n",
       "      <td>0</td>\n",
       "      <td>0</td>\n",
       "      <td>0</td>\n",
       "      <td>0</td>\n",
       "      <td>0</td>\n",
       "      <td>0</td>\n",
       "      <td>0</td>\n",
       "      <td>0</td>\n",
       "      <td>...</td>\n",
       "      <td>8</td>\n",
       "      <td>-4</td>\n",
       "      <td>2</td>\n",
       "      <td>0</td>\n",
       "      <td>-3</td>\n",
       "      <td>3</td>\n",
       "      <td>3</td>\n",
       "      <td>-2</td>\n",
       "      <td>1</td>\n",
       "      <td>9</td>\n",
       "    </tr>\n",
       "    <tr>\n",
       "      <th>1</th>\n",
       "      <td>13013</td>\n",
       "      <td>0</td>\n",
       "      <td>0</td>\n",
       "      <td>-1</td>\n",
       "      <td>0</td>\n",
       "      <td>0</td>\n",
       "      <td>0</td>\n",
       "      <td>0</td>\n",
       "      <td>0</td>\n",
       "      <td>0</td>\n",
       "      <td>...</td>\n",
       "      <td>1</td>\n",
       "      <td>5</td>\n",
       "      <td>0</td>\n",
       "      <td>0</td>\n",
       "      <td>1</td>\n",
       "      <td>0</td>\n",
       "      <td>0</td>\n",
       "      <td>1</td>\n",
       "      <td>-2</td>\n",
       "      <td>-1</td>\n",
       "    </tr>\n",
       "    <tr>\n",
       "      <th>2</th>\n",
       "      <td>7102</td>\n",
       "      <td>0</td>\n",
       "      <td>0</td>\n",
       "      <td>0</td>\n",
       "      <td>0</td>\n",
       "      <td>0</td>\n",
       "      <td>0</td>\n",
       "      <td>0</td>\n",
       "      <td>1</td>\n",
       "      <td>1</td>\n",
       "      <td>...</td>\n",
       "      <td>-1</td>\n",
       "      <td>-5</td>\n",
       "      <td>-5</td>\n",
       "      <td>0</td>\n",
       "      <td>0</td>\n",
       "      <td>5</td>\n",
       "      <td>5</td>\n",
       "      <td>-2</td>\n",
       "      <td>3</td>\n",
       "      <td>-5</td>\n",
       "    </tr>\n",
       "    <tr>\n",
       "      <th>3</th>\n",
       "      <td>7637</td>\n",
       "      <td>-2</td>\n",
       "      <td>0</td>\n",
       "      <td>0</td>\n",
       "      <td>0</td>\n",
       "      <td>0</td>\n",
       "      <td>0</td>\n",
       "      <td>0</td>\n",
       "      <td>0</td>\n",
       "      <td>0</td>\n",
       "      <td>...</td>\n",
       "      <td>2</td>\n",
       "      <td>8</td>\n",
       "      <td>1</td>\n",
       "      <td>0</td>\n",
       "      <td>-1</td>\n",
       "      <td>-1</td>\n",
       "      <td>2</td>\n",
       "      <td>2</td>\n",
       "      <td>-1</td>\n",
       "      <td>-1</td>\n",
       "    </tr>\n",
       "    <tr>\n",
       "      <th>4</th>\n",
       "      <td>12350</td>\n",
       "      <td>0</td>\n",
       "      <td>0</td>\n",
       "      <td>0</td>\n",
       "      <td>0</td>\n",
       "      <td>0</td>\n",
       "      <td>0</td>\n",
       "      <td>0</td>\n",
       "      <td>0</td>\n",
       "      <td>0</td>\n",
       "      <td>...</td>\n",
       "      <td>4</td>\n",
       "      <td>1</td>\n",
       "      <td>0</td>\n",
       "      <td>0</td>\n",
       "      <td>4</td>\n",
       "      <td>3</td>\n",
       "      <td>2</td>\n",
       "      <td>1</td>\n",
       "      <td>1</td>\n",
       "      <td>3</td>\n",
       "    </tr>\n",
       "  </tbody>\n",
       "</table>\n",
       "<p>5 rows × 15841 columns</p>\n",
       "</div>"
      ],
      "text/plain": [
       "      ID  score_1  offensive rebound_1  defensive rebound_1  offensive foul_1  \\\n",
       "0  14186       -2                    0                    0                 0   \n",
       "1  13013        0                    0                   -1                 0   \n",
       "2   7102        0                    0                    0                 0   \n",
       "3   7637       -2                    0                    0                 0   \n",
       "4  12350        0                    0                    0                 0   \n",
       "\n",
       "   defensive foul_1  assist_1  lost ball_1  steals_1  bad pass_1    ...      \\\n",
       "0                 0         0            0         0           0    ...       \n",
       "1                 0         0            0         0           0    ...       \n",
       "2                 0         0            0         1           1    ...       \n",
       "3                 0         0            0         0           0    ...       \n",
       "4                 0         0            0         0           0    ...       \n",
       "\n",
       "   offensive rebound_1440  defensive rebound_1440  offensive foul_1440  \\\n",
       "0                       8                      -4                    2   \n",
       "1                       1                       5                    0   \n",
       "2                      -1                      -5                   -5   \n",
       "3                       2                       8                    1   \n",
       "4                       4                       1                    0   \n",
       "\n",
       "   defensive foul_1440  assist_1440  lost ball_1440  steals_1440  \\\n",
       "0                    0           -3               3            3   \n",
       "1                    0            1               0            0   \n",
       "2                    0            0               5            5   \n",
       "3                    0           -1              -1            2   \n",
       "4                    0            4               3            2   \n",
       "\n",
       "   bad pass_1440  block_1440  miss_1440  \n",
       "0             -2           1          9  \n",
       "1              1          -2         -1  \n",
       "2             -2           3         -5  \n",
       "3              2          -1         -1  \n",
       "4              1           1          3  \n",
       "\n",
       "[5 rows x 15841 columns]"
      ]
     },
     "execution_count": 4,
     "metadata": {},
     "output_type": "execute_result"
    }
   ],
   "source": [
    "print(df.shape)\n",
    "print(target.shape)\n",
    "df.head()"
   ]
  },
  {
   "cell_type": "code",
   "execution_count": 4,
   "metadata": {
    "ExecuteTime": {
     "end_time": "2018-03-05T13:23:17.556006Z",
     "start_time": "2018-03-05T13:23:15.693662Z"
    },
    "scrolled": true
   },
   "outputs": [
    {
     "name": "stdout",
     "output_type": "stream",
     "text": [
      "Probability that the half-time leader is the full-time winner 0.743\n"
     ]
    }
   ],
   "source": [
    "df_tot = pd.merge(df, target, on='ID')\n",
    "# When the HT winner is the FT winner\n",
    "same_mt_f = df_tot[((df_tot.score_1440 <= 0) & (df_tot.label == 0)) | ((df_tot.score_1440 >= 0) & (df_tot.label == 1))]\n",
    "print('Probability that the half-time leader is the full-time winner %.3f' % (len(same_mt_f)/len(df_tot)))"
   ]
  },
  {
   "cell_type": "code",
   "execution_count": 71,
   "metadata": {
    "ExecuteTime": {
     "end_time": "2018-02-28T12:05:20.903668Z",
     "start_time": "2018-02-28T12:05:20.397805Z"
    }
   },
   "outputs": [
    {
     "name": "stdout",
     "output_type": "stream",
     "text": [
      "Probability that the 8 pt margin half-time  leader is the full-time winner 0.856\n",
      "Over 0.463 of data\n"
     ]
    }
   ],
   "source": [
    "diff_goals = 8\n",
    "same_mt_f = df_tot[((df_tot.score_1440 <= -1*diff_goals) & (df_tot.label == 0)) | ((df_tot.score_1440 >= diff_goals) & (df_tot.label == 1))]\n",
    "temp = df_tot[(df_tot.score_1440 <= -1*diff_goals) | (df_tot.score_1440 >= diff_goals)]\n",
    "print('Probability that the %d pt margin half-time  leader is the full-time winner %.3f' % (diff_goals, len(same_mt_f)/len(temp)))\n",
    "print('Over %.3f of data' % (len(temp)/len(df_tot)))"
   ]
  },
  {
   "cell_type": "code",
   "execution_count": 87,
   "metadata": {
    "ExecuteTime": {
     "end_time": "2018-02-28T12:17:32.251715Z",
     "start_time": "2018-02-28T12:17:31.526569Z"
    }
   },
   "outputs": [
    {
     "name": "stderr",
     "output_type": "stream",
     "text": [
      "/home/alexattia/anaconda3/lib/python3.6/site-packages/ipykernel_launcher.py:5: UserWarning: Boolean Series key will be reindexed to match DataFrame index.\n",
      "  \"\"\"\n"
     ]
    },
    {
     "name": "stdout",
     "output_type": "stream",
     "text": [
      "Probability that the less than 8 pt margin and more than 3 assist margin half-time leader is the full-time winner 0.800\n",
      "Over 0.455 of data\n"
     ]
    }
   ],
   "source": [
    "diff_goals = 8\n",
    "diff_assists = 3\n",
    "temp = df_tot[(np.abs(df_tot.score_1440) < diff_goals) ]\n",
    "same_mt_f = temp[((temp.assist_1440 >= -1*diff_assists) & (temp.label == 0)) \n",
    "                   | ((temp.assist_1440 <= diff_assists) & (df_tot.label == 1))]\n",
    "temp2 = temp[np.abs(temp.assist_1440 <= diff_assists) ]\n",
    "#temp = df_tot[(np.abs(df_tot.score_1440) <= diff_goals) & (np.abs(df_tot.miss_1440) >= 5)]\n",
    "print('Probability that the less than %d pt margin and more than %d assist margin half-time leader is the full-time winner %.3f' % (diff_goals, diff_assists, len(same_mt_f)/len(temp)))\n",
    "print('Over %.3f of data' % (len(temp2)/len(df_tot)))"
   ]
  },
  {
   "cell_type": "code",
   "execution_count": 75,
   "metadata": {
    "ExecuteTime": {
     "end_time": "2018-02-28T12:07:41.617676Z",
     "start_time": "2018-02-28T12:07:41.499077Z"
    }
   },
   "outputs": [
    {
     "data": {
      "image/png": "[encoded data removed]",
      "text/plain": [
       "<matplotlib.figure.Figure at 0x7ff9f3d0e668>"
      ]
     },
     "metadata": {},
     "output_type": "display_data"
    }
   ],
   "source": [
    "import matplotlib.pyplot as plt\n",
    "f, ax = plt.subplots()\n",
    "ax.hist(np.abs(df_tot.miss_1440.values), bins=50, normed=1,  cumulative=True)\n",
    "_ = ax.set_xlim([0, 20])\n",
    "_ = ax.grid()\n",
    "_ = ax.set_title('Cumulative histogram for half-time misses')"
   ]
  },
  {
   "cell_type": "code",
   "execution_count": 18,
   "metadata": {
    "ExecuteTime": {
     "end_time": "2018-03-05T13:26:22.888891Z",
     "start_time": "2018-03-05T13:26:22.884113Z"
    }
   },
   "outputs": [
    {
     "data": {
      "text/plain": [
       "0.5891380407124682"
      ]
     },
     "execution_count": 18,
     "metadata": {},
     "output_type": "execute_result"
    }
   ],
   "source": [
    "np.sum(df_tot.score_1440.values <= 0)/len(df_tot)"
   ]
  },
  {
   "cell_type": "code",
   "execution_count": 25,
   "metadata": {
    "ExecuteTime": {
     "end_time": "2018-03-05T13:28:36.674948Z",
     "start_time": "2018-03-05T13:28:36.515294Z"
    }
   },
   "outputs": [
    {
     "data": {
      "image/png": "[encoded data removed]",
      "text/plain": [
       "<matplotlib.figure.Figure at 0x7fbe937f8be0>"
      ]
     },
     "metadata": {},
     "output_type": "display_data"
    }
   ],
   "source": [
    "import matplotlib.pyplot as plt\n",
    "f, ax = plt.subplots()\n",
    "ax.hist(df_tot.score_1440.values, bins=100, normed=1,  cumulative=True)\n",
    "ax.set_xlim([-35, 35])\n",
    "ax.grid()\n",
    "vals = ax.get_yticks()\n",
    "ax.set_yticklabels(['{:1.0f}%'.format(x*100) for x in vals])\n",
    "_ = ax.set_title('Cumulative histogram for half-time score difference')"
   ]
  },
  {
   "cell_type": "code",
   "execution_count": 7,
   "metadata": {
    "ExecuteTime": {
     "end_time": "2018-03-05T13:24:08.084258Z",
     "start_time": "2018-03-05T13:24:07.482318Z"
    }
   },
   "outputs": [
    {
     "name": "stdout",
     "output_type": "stream",
     "text": [
      "Probability that the home team wins the game at FT 0.564\n",
      "Probability that the home team wins the game at HT 0.589\n"
     ]
    }
   ],
   "source": [
    "print('Probability that the home team wins the game at FT %.3f' % (len(df_tot[df_tot.label == 0])/len(df_tot)))\n",
    "print('Probability that the home team wins the game at HT %.3f' % (len(df_tot[df_tot.score_1440 <= 0])/len(df_tot)))"
   ]
  },
  {
   "cell_type": "code",
   "execution_count": 27,
   "metadata": {
    "ExecuteTime": {
     "end_time": "2018-03-05T13:38:34.877657Z",
     "start_time": "2018-03-05T13:38:34.732421Z"
    }
   },
   "outputs": [
    {
     "data": {
      "text/plain": [
       "<matplotlib.axes._subplots.AxesSubplot at 0x7fbe936725c0>"
      ]
     },
     "execution_count": 27,
     "metadata": {},
     "output_type": "execute_result"
    },
    {
     "data": {
      "image/png": "[encoded data removed]",
      "text/plain": [
       "<matplotlib.figure.Figure at 0x7fbe8d495710>"
      ]
     },
     "metadata": {},
     "output_type": "display_data"
    }
   ],
   "source": [
    "corr_ht = df_tot[[k for k in df_tot.columns if '1440' in k and 'defensive foul' not in k]+['label']].corr()\n",
    "sns.heatmap(corr_ht, mask=np.zeros_like(corr_ht, dtype=np.bool), cmap=sns.diverging_palette(220, 10, as_cmap=True),\n",
    "            square=True)\n",
    "#_ = plt.title('Features correlation at half-time and winner')"
   ]
  },
  {
   "cell_type": "code",
   "execution_count": 28,
   "metadata": {
    "ExecuteTime": {
     "end_time": "2018-03-05T13:55:22.037658Z",
     "start_time": "2018-03-05T13:55:03.752016Z"
    }
   },
   "outputs": [
    {
     "name": "stdout",
     "output_type": "stream",
     "text": [
      "Current key indicators : {'block', 'bad pass', 'defensive rebound', 'lost ball', 'defensive foul', 'offensive rebound', 'offensive foul', 'miss', 'assist', 'score', 'steals'}\n",
      "Added total (off+def) rebound stats\n"
     ]
    }
   ],
   "source": [
    "# Add new stats\n",
    "ki = set([k.split('_')[0] for k in df_tot.columns if k not in ['label', 'ID']])\n",
    "print('Current key indicators :', ki)\n",
    "\n",
    "# Add total rebound\n",
    "for k in range(1,1441):\n",
    "    df_tot['total rebound_%d' % k] = df_tot['offensive rebound_%d' % k] + df_tot['defensive rebound_%d' % k]\n",
    "\n",
    "# Re-sort columns\n",
    "def sorter(x):\n",
    "    if x not in ['label', 'ID']:\n",
    "        return int(x.split('_')[1])\n",
    "    else:\n",
    "        return 0\n",
    "    \n",
    "df_tot = df_tot[sorted(df_tot.columns, key=sorter)]\n",
    "print('Added total (off+def) rebound stats')"
   ]
  },
  {
   "cell_type": "code",
   "execution_count": 5,
   "metadata": {
    "ExecuteTime": {
     "end_time": "2018-02-28T15:09:21.985990Z",
     "start_time": "2018-02-28T15:09:15.088988Z"
    }
   },
   "outputs": [
    {
     "name": "stdout",
     "output_type": "stream",
     "text": [
      "Current key indicators : {'miss', 'block', 'defensive foul', 'bad pass', 'offensive rebound', 'assist', 'offensive foul', 'defensive rebound', 'score', 'steals', 'lost ball'}\n",
      "Added total (off+def) rebound stats\n"
     ]
    }
   ],
   "source": [
    "# Add new stats\n",
    "ki = set([k.split('_')[0] for k in df_test.columns if k not in ['label', 'ID']])\n",
    "print('Current key indicators :', ki)\n",
    "\n",
    "# Add total rebound\n",
    "for k in range(1,1441):\n",
    "    df_test['total rebound_%d' % k] = df_test['offensive rebound_%d' % k] + df_test['defensive rebound_%d' % k]\n",
    "\n",
    "# Re-sort columns\n",
    "def sorter(x):\n",
    "    if x not in ['label', 'ID']:\n",
    "        return int(x.split('_')[1])\n",
    "    else:\n",
    "        return 0\n",
    "    \n",
    "df_test = df_test[sorted(df_test.columns, key=sorter)]\n",
    "print('Added total (off+def) rebound stats')"
   ]
  },
  {
   "cell_type": "code",
   "execution_count": 70,
   "metadata": {
    "ExecuteTime": {
     "end_time": "2018-03-05T14:06:10.990944Z",
     "start_time": "2018-03-05T14:06:10.735330Z"
    },
    "scrolled": false
   },
   "outputs": [
    {
     "data": {
      "image/png": "[encoded data removed]",
      "text/plain": [
       "<matplotlib.figure.Figure at 0x7fbe8fdafda0>"
      ]
     },
     "metadata": {},
     "output_type": "display_data"
    }
   ],
   "source": [
    "f, ax = plt.subplots()\n",
    "df_tot[[k for k in df_tot.columns if 'score' in k]].mean().plot(ax=ax, label='score')\n",
    "df_tot[[k for k in df_tot.columns if 'total rebound' in k]].mean().plot(ax=ax, label='rebound')\n",
    "df_tot[[k for k in df_tot.columns if 'assist' in k]].mean().plot(ax=ax, label='assist')\n",
    "#ax.set_title('Advantage key indicator for the home team')\n",
    "ax.set_xlabel('Seconds')\n",
    "ax.set_ylabel('Key indicator value')\n",
    "p = ax.get_xticklabels()\n",
    "ax.set_xticklabels([int(k.get_text().replace('assist_', ''))-1 if '1' in k.get_text() else '' for k in p])\n",
    "_ = ax.legend()"
   ]
  },
  {
   "cell_type": "code",
   "execution_count": 62,
   "metadata": {
    "ExecuteTime": {
     "end_time": "2018-03-05T14:03:33.957617Z",
     "start_time": "2018-03-05T14:03:33.954039Z"
    }
   },
   "outputs": [
    {
     "data": {
      "text/plain": [
       "['1', '201', '401', '601', '801', '1001', '1201', '1401', '']"
      ]
     },
     "execution_count": 62,
     "metadata": {},
     "output_type": "execute_result"
    }
   ],
   "source": []
  },
  {
   "cell_type": "code",
   "execution_count": 54,
   "metadata": {
    "ExecuteTime": {
     "end_time": "2018-03-05T14:01:45.584985Z",
     "start_time": "2018-03-05T14:01:45.486318Z"
    }
   },
   "outputs": [
    {
     "data": {
      "text/plain": [
       "score_1      -0.035782\n",
       "score_2      -0.035782\n",
       "score_3      -0.036419\n",
       "score_4      -0.036021\n",
       "score_5      -0.035226\n",
       "score_6      -0.035226\n",
       "score_7      -0.033874\n",
       "score_8      -0.032284\n",
       "score_9      -0.032522\n",
       "score_10     -0.032522\n",
       "score_11     -0.031807\n",
       "score_12     -0.031250\n",
       "score_13     -0.030137\n",
       "score_14     -0.030137\n",
       "score_15     -0.028785\n",
       "score_16     -0.020118\n",
       "score_17     -0.020118\n",
       "score_18     -0.025684\n",
       "score_19     -0.024094\n",
       "score_20     -0.024571\n",
       "score_21     -0.024571\n",
       "score_22     -0.025048\n",
       "score_23     -0.017891\n",
       "score_24     -0.020515\n",
       "score_25     -0.020515\n",
       "score_26     -0.023139\n",
       "score_27     -0.018289\n",
       "score_28     -0.014631\n",
       "score_29     -0.014631\n",
       "score_30     -0.021151\n",
       "                ...   \n",
       "score_1411   -1.780852\n",
       "score_1412   -1.779183\n",
       "score_1413   -1.781886\n",
       "score_1414   -1.784192\n",
       "score_1415   -1.792462\n",
       "score_1416   -1.794370\n",
       "score_1417   -1.796279\n",
       "score_1418   -1.800095\n",
       "score_1419   -1.803515\n",
       "score_1420   -1.807570\n",
       "score_1421   -1.810194\n",
       "score_1422   -1.812023\n",
       "score_1423   -1.810035\n",
       "score_1424   -1.806934\n",
       "score_1425   -1.808683\n",
       "score_1426   -1.810274\n",
       "score_1427   -1.810751\n",
       "score_1428   -1.814329\n",
       "score_1429   -1.813375\n",
       "score_1430   -1.815522\n",
       "score_1431   -1.818066\n",
       "score_1432   -1.818941\n",
       "score_1433   -1.818941\n",
       "score_1434   -1.814249\n",
       "score_1435   -1.811387\n",
       "score_1436   -1.806377\n",
       "score_1437   -1.809796\n",
       "score_1438   -1.808524\n",
       "score_1439   -1.805821\n",
       "score_1440   -1.805503\n",
       "Length: 1440, dtype: float64"
      ]
     },
     "execution_count": 54,
     "metadata": {},
     "output_type": "execute_result"
    }
   ],
   "source": [
    "df_tot[[k for k in df_tot.columns if 'score' in k]].mean()"
   ]
  },
  {
   "cell_type": "code",
   "execution_count": 52,
   "metadata": {
    "ExecuteTime": {
     "end_time": "2018-03-05T14:01:00.144824Z",
     "start_time": "2018-03-05T14:01:00.140543Z"
    }
   },
   "outputs": [
    {
     "data": {
      "text/plain": [
       "160.11111111111111"
      ]
     },
     "execution_count": 52,
     "metadata": {},
     "output_type": "execute_result"
    }
   ],
   "source": [
    "1441/9"
   ]
  },
  {
   "cell_type": "markdown",
   "metadata": {},
   "source": [
    "https://github.com/Azure/lstms_for_predictive_maintenance/blob/master/Deep%20Learning%20Basics%20for%20Predictive%20Maintenance.ipynb  \n",
    "Keras LSTM layers expect an input in the shape of a numpy array of 3 dimensions (samples, time steps, features) where samples is the number of training sequences, time steps is the look back window or sequence length and features is the number of features of each sequence at each time step."
   ]
  },
  {
   "cell_type": "code",
   "execution_count": 8,
   "metadata": {
    "ExecuteTime": {
     "end_time": "2018-02-28T09:11:24.015688Z",
     "start_time": "2018-02-28T09:11:24.010143Z"
    }
   },
   "outputs": [
    {
     "data": {
      "text/plain": [
       "(12576, 17282)"
      ]
     },
     "execution_count": 8,
     "metadata": {},
     "output_type": "execute_result"
    }
   ],
   "source": [
    "df_tot.shape"
   ]
  },
  {
   "cell_type": "code",
   "execution_count": 19,
   "metadata": {
    "ExecuteTime": {
     "end_time": "2018-02-28T15:17:00.574622Z",
     "start_time": "2018-02-28T15:17:00.530295Z"
    }
   },
   "outputs": [],
   "source": [
    "# Reformat with only 10 games\n",
    "# For the reformating with reshape the dataframe\n",
    "# from (10, 17282) to (10*1440, n_features)\n",
    "df1 = df_tot#.sample(1000)"
   ]
  },
  {
   "cell_type": "code",
   "execution_count": 45,
   "metadata": {
    "ExecuteTime": {
     "end_time": "2018-02-28T15:42:20.685832Z",
     "start_time": "2018-02-28T15:41:57.857812Z"
    }
   },
   "outputs": [],
   "source": [
    "df_train, df_val = train_test_split(df1, test_size=0.15, random_state=42)"
   ]
  },
  {
   "cell_type": "code",
   "execution_count": 46,
   "metadata": {
    "ExecuteTime": {
     "end_time": "2018-02-28T15:43:42.481726Z",
     "start_time": "2018-02-28T15:42:20.796738Z"
    }
   },
   "outputs": [],
   "source": [
    "df_val_tot = pd.DataFrame()\n",
    "for sec in range(1,1441):\n",
    "    df_sec = df_val[['ID', 'label']+[k for k in df_val.columns if k not in ['label', 'ID'] and k.split('_')[1] == str(sec)]]\n",
    "    df_sec.columns = [k.split('_')[0] if k not in ['ID', 'time_step', 'label'] else k for k in df_sec.columns]\n",
    "    df_sec = df_sec.assign(time_step = sec)\n",
    "    df_val_tot = pd.concat([df_val_tot, df_sec])\n",
    "df_val_tot = df_val_tot.sort_values(['ID', 'time_step'])"
   ]
  },
  {
   "cell_type": "code",
   "execution_count": 20,
   "metadata": {
    "ExecuteTime": {
     "end_time": "2018-02-28T15:26:44.124556Z",
     "start_time": "2018-02-28T15:17:00.591948Z"
    }
   },
   "outputs": [],
   "source": [
    "df1_tot = pd.DataFrame()\n",
    "for sec in range(1,1441):\n",
    "    df_sec = df1[['ID', 'label']+[k for k in df1.columns if k not in ['label', 'ID'] and k.split('_')[1] == str(sec)]]\n",
    "    df_sec.columns = [k.split('_')[0] if k not in ['ID', 'time_step', 'label'] else k for k in df_sec.columns]\n",
    "    df_sec = df_sec.assign(time_step = sec)\n",
    "    df1_tot = pd.concat([df1_tot, df_sec])\n",
    "df1_tot = df1_tot.sort_values(['ID', 'time_step'])"
   ]
  },
  {
   "cell_type": "code",
   "execution_count": 6,
   "metadata": {
    "ExecuteTime": {
     "end_time": "2018-02-28T15:11:56.375622Z",
     "start_time": "2018-02-28T15:09:21.986787Z"
    }
   },
   "outputs": [],
   "source": [
    "df_test_tot = pd.DataFrame()\n",
    "for sec in range(1,1441):\n",
    "    df_sec = df_test[['ID']+[k for k in df_test.columns if k not in ['ID'] and k.split('_')[1] == str(sec)]]\n",
    "    df_sec.columns = [k.split('_')[0] if k not in ['ID', 'time_step'] else k for k in df_sec.columns]\n",
    "    df_sec = df_sec.assign(time_step = sec)\n",
    "    df_test_tot = pd.concat([df_test_tot, df_sec])\n",
    "df_test_tot = df_test_tot.sort_values(['ID', 'time_step'])"
   ]
  },
  {
   "cell_type": "code",
   "execution_count": 8,
   "metadata": {
    "ExecuteTime": {
     "end_time": "2018-02-27T16:11:57.177700Z",
     "start_time": "2018-02-27T16:11:57.165629Z"
    }
   },
   "outputs": [
    {
     "data": {
      "text/html": [
       "<div>\n",
       "<style>\n",
       "    .dataframe thead tr:only-child th {\n",
       "        text-align: right;\n",
       "    }\n",
       "\n",
       "    .dataframe thead th {\n",
       "        text-align: left;\n",
       "    }\n",
       "\n",
       "    .dataframe tbody tr th {\n",
       "        vertical-align: top;\n",
       "    }\n",
       "</style>\n",
       "<table border=\"1\" class=\"dataframe\">\n",
       "  <thead>\n",
       "    <tr style=\"text-align: right;\">\n",
       "      <th></th>\n",
       "      <th>ID</th>\n",
       "      <th>label</th>\n",
       "      <th>score</th>\n",
       "      <th>offensive rebound</th>\n",
       "      <th>defensive rebound</th>\n",
       "      <th>offensive foul</th>\n",
       "      <th>defensive foul</th>\n",
       "      <th>assist</th>\n",
       "      <th>lost ball</th>\n",
       "      <th>steals</th>\n",
       "      <th>bad pass</th>\n",
       "      <th>block</th>\n",
       "      <th>miss</th>\n",
       "      <th>total rebound</th>\n",
       "      <th>time_step</th>\n",
       "    </tr>\n",
       "  </thead>\n",
       "  <tbody>\n",
       "    <tr>\n",
       "      <th>2677</th>\n",
       "      <td>1</td>\n",
       "      <td>1</td>\n",
       "      <td>0</td>\n",
       "      <td>0</td>\n",
       "      <td>0</td>\n",
       "      <td>0</td>\n",
       "      <td>0</td>\n",
       "      <td>0</td>\n",
       "      <td>0</td>\n",
       "      <td>0</td>\n",
       "      <td>0</td>\n",
       "      <td>0</td>\n",
       "      <td>-1</td>\n",
       "      <td>0</td>\n",
       "      <td>1</td>\n",
       "    </tr>\n",
       "    <tr>\n",
       "      <th>2677</th>\n",
       "      <td>1</td>\n",
       "      <td>1</td>\n",
       "      <td>0</td>\n",
       "      <td>0</td>\n",
       "      <td>0</td>\n",
       "      <td>0</td>\n",
       "      <td>0</td>\n",
       "      <td>0</td>\n",
       "      <td>0</td>\n",
       "      <td>0</td>\n",
       "      <td>0</td>\n",
       "      <td>0</td>\n",
       "      <td>-1</td>\n",
       "      <td>0</td>\n",
       "      <td>2</td>\n",
       "    </tr>\n",
       "    <tr>\n",
       "      <th>2677</th>\n",
       "      <td>1</td>\n",
       "      <td>1</td>\n",
       "      <td>0</td>\n",
       "      <td>0</td>\n",
       "      <td>0</td>\n",
       "      <td>0</td>\n",
       "      <td>0</td>\n",
       "      <td>0</td>\n",
       "      <td>0</td>\n",
       "      <td>0</td>\n",
       "      <td>0</td>\n",
       "      <td>0</td>\n",
       "      <td>-1</td>\n",
       "      <td>0</td>\n",
       "      <td>3</td>\n",
       "    </tr>\n",
       "    <tr>\n",
       "      <th>2677</th>\n",
       "      <td>1</td>\n",
       "      <td>1</td>\n",
       "      <td>0</td>\n",
       "      <td>0</td>\n",
       "      <td>0</td>\n",
       "      <td>0</td>\n",
       "      <td>0</td>\n",
       "      <td>0</td>\n",
       "      <td>0</td>\n",
       "      <td>0</td>\n",
       "      <td>0</td>\n",
       "      <td>0</td>\n",
       "      <td>-1</td>\n",
       "      <td>0</td>\n",
       "      <td>4</td>\n",
       "    </tr>\n",
       "    <tr>\n",
       "      <th>2677</th>\n",
       "      <td>1</td>\n",
       "      <td>1</td>\n",
       "      <td>0</td>\n",
       "      <td>0</td>\n",
       "      <td>0</td>\n",
       "      <td>0</td>\n",
       "      <td>0</td>\n",
       "      <td>0</td>\n",
       "      <td>0</td>\n",
       "      <td>0</td>\n",
       "      <td>0</td>\n",
       "      <td>0</td>\n",
       "      <td>-1</td>\n",
       "      <td>0</td>\n",
       "      <td>5</td>\n",
       "    </tr>\n",
       "  </tbody>\n",
       "</table>\n",
       "</div>"
      ],
      "text/plain": [
       "      ID  label  score  offensive rebound  defensive rebound  offensive foul  \\\n",
       "2677   1      1      0                  0                  0               0   \n",
       "2677   1      1      0                  0                  0               0   \n",
       "2677   1      1      0                  0                  0               0   \n",
       "2677   1      1      0                  0                  0               0   \n",
       "2677   1      1      0                  0                  0               0   \n",
       "\n",
       "      defensive foul  assist  lost ball  steals  bad pass  block  miss  \\\n",
       "2677               0       0          0       0         0      0    -1   \n",
       "2677               0       0          0       0         0      0    -1   \n",
       "2677               0       0          0       0         0      0    -1   \n",
       "2677               0       0          0       0         0      0    -1   \n",
       "2677               0       0          0       0         0      0    -1   \n",
       "\n",
       "      total rebound  time_step  \n",
       "2677              0          1  \n",
       "2677              0          2  \n",
       "2677              0          3  \n",
       "2677              0          4  \n",
       "2677              0          5  "
      ]
     },
     "execution_count": 8,
     "metadata": {},
     "output_type": "execute_result"
    }
   ],
   "source": [
    "df1_tot.head()"
   ]
  },
  {
   "cell_type": "code",
   "execution_count": 9,
   "metadata": {
    "ExecuteTime": {
     "end_time": "2018-02-27T16:12:00.129873Z",
     "start_time": "2018-02-27T16:12:00.125094Z"
    }
   },
   "outputs": [
    {
     "name": "stdout",
     "output_type": "stream",
     "text": [
      "Initial Shape (12576, 17282)\n",
      "Final Shape (18109440, 15)\n"
     ]
    }
   ],
   "source": [
    "print('Initial Shape', df1.shape)\n",
    "print('Final Shape', df1_tot.shape)"
   ]
  },
  {
   "cell_type": "code",
   "execution_count": 23,
   "metadata": {
    "ExecuteTime": {
     "end_time": "2018-02-28T15:31:32.145957Z",
     "start_time": "2018-02-28T15:31:30.719065Z"
    }
   },
   "outputs": [],
   "source": [
    "from sklearn.model_selection import train_test_split"
   ]
  },
  {
   "cell_type": "code",
   "execution_count": 27,
   "metadata": {
    "ExecuteTime": {
     "end_time": "2018-02-28T15:32:25.914275Z",
     "start_time": "2018-02-28T15:32:21.551359Z"
    }
   },
   "outputs": [],
   "source": [
    "df_train, df_val = train_test_split(df1_tot, test_size=0.15, random_state=42)"
   ]
  },
  {
   "cell_type": "code",
   "execution_count": 33,
   "metadata": {
    "ExecuteTime": {
     "end_time": "2018-02-28T15:34:34.296254Z",
     "start_time": "2018-02-28T15:34:34.288636Z"
    }
   },
   "outputs": [
    {
     "data": {
      "text/html": [
       "<div>\n",
       "<style>\n",
       "    .dataframe thead tr:only-child th {\n",
       "        text-align: right;\n",
       "    }\n",
       "\n",
       "    .dataframe thead th {\n",
       "        text-align: left;\n",
       "    }\n",
       "\n",
       "    .dataframe tbody tr th {\n",
       "        vertical-align: top;\n",
       "    }\n",
       "</style>\n",
       "<table border=\"1\" class=\"dataframe\">\n",
       "  <thead>\n",
       "    <tr style=\"text-align: right;\">\n",
       "      <th></th>\n",
       "      <th>ID</th>\n",
       "      <th>label</th>\n",
       "      <th>score</th>\n",
       "      <th>offensive rebound</th>\n",
       "      <th>defensive rebound</th>\n",
       "      <th>offensive foul</th>\n",
       "      <th>defensive foul</th>\n",
       "      <th>assist</th>\n",
       "      <th>lost ball</th>\n",
       "      <th>steals</th>\n",
       "      <th>bad pass</th>\n",
       "      <th>block</th>\n",
       "      <th>miss</th>\n",
       "      <th>total rebound</th>\n",
       "      <th>time_step</th>\n",
       "    </tr>\n",
       "  </thead>\n",
       "  <tbody>\n",
       "    <tr>\n",
       "      <th>8886</th>\n",
       "      <td>15931</td>\n",
       "      <td>0</td>\n",
       "      <td>6</td>\n",
       "      <td>1</td>\n",
       "      <td>5</td>\n",
       "      <td>0</td>\n",
       "      <td>0</td>\n",
       "      <td>5</td>\n",
       "      <td>1</td>\n",
       "      <td>-1</td>\n",
       "      <td>-2</td>\n",
       "      <td>-3</td>\n",
       "      <td>1</td>\n",
       "      <td>6</td>\n",
       "      <td>1042</td>\n",
       "    </tr>\n",
       "    <tr>\n",
       "      <th>8125</th>\n",
       "      <td>12977</td>\n",
       "      <td>0</td>\n",
       "      <td>4</td>\n",
       "      <td>0</td>\n",
       "      <td>1</td>\n",
       "      <td>0</td>\n",
       "      <td>0</td>\n",
       "      <td>2</td>\n",
       "      <td>0</td>\n",
       "      <td>-1</td>\n",
       "      <td>-1</td>\n",
       "      <td>1</td>\n",
       "      <td>-4</td>\n",
       "      <td>1</td>\n",
       "      <td>654</td>\n",
       "    </tr>\n",
       "    <tr>\n",
       "      <th>12226</th>\n",
       "      <td>1162</td>\n",
       "      <td>0</td>\n",
       "      <td>1</td>\n",
       "      <td>2</td>\n",
       "      <td>1</td>\n",
       "      <td>1</td>\n",
       "      <td>0</td>\n",
       "      <td>3</td>\n",
       "      <td>0</td>\n",
       "      <td>0</td>\n",
       "      <td>0</td>\n",
       "      <td>0</td>\n",
       "      <td>3</td>\n",
       "      <td>3</td>\n",
       "      <td>956</td>\n",
       "    </tr>\n",
       "  </tbody>\n",
       "</table>\n",
       "</div>"
      ],
      "text/plain": [
       "          ID  label  score  offensive rebound  defensive rebound  \\\n",
       "8886   15931      0      6                  1                  5   \n",
       "8125   12977      0      4                  0                  1   \n",
       "12226   1162      0      1                  2                  1   \n",
       "\n",
       "       offensive foul  defensive foul  assist  lost ball  steals  bad pass  \\\n",
       "8886                0               0       5          1      -1        -2   \n",
       "8125                0               0       2          0      -1        -1   \n",
       "12226               1               0       3          0       0         0   \n",
       "\n",
       "       block  miss  total rebound  time_step  \n",
       "8886      -3     1              6       1042  \n",
       "8125       1    -4              1        654  \n",
       "12226      0     3              3        956  "
      ]
     },
     "execution_count": 33,
     "metadata": {},
     "output_type": "execute_result"
    }
   ],
   "source": [
    "df_val.head(3)"
   ]
  },
  {
   "cell_type": "code",
   "execution_count": 47,
   "metadata": {
    "ExecuteTime": {
     "end_time": "2018-02-28T15:43:47.143659Z",
     "start_time": "2018-02-28T15:43:42.482770Z"
    }
   },
   "outputs": [
    {
     "data": {
      "text/plain": [
       "((1887, 1440, 12), (1887, 1))"
      ]
     },
     "execution_count": 47,
     "metadata": {},
     "output_type": "execute_result"
    }
   ],
   "source": [
    "df_val = df_val_tot[df_val_tot.time_step < 1441]\n",
    "X_val = []\n",
    "y_val = df_val.groupby('ID').mean()['label'].values\n",
    "y_val = y_val.reshape((len(y_val), 1))\n",
    "for id_ in df_val.ID.unique():\n",
    "    X_val.append(df_val[df_val.ID == id_][cols].values)\n",
    "X_val = np.array(X_val)\n",
    "X_val.shape, y_val.shape"
   ]
  },
  {
   "cell_type": "code",
   "execution_count": 50,
   "metadata": {
    "ExecuteTime": {
     "end_time": "2018-02-28T16:06:11.849173Z",
     "start_time": "2018-02-28T16:05:14.664058Z"
    }
   },
   "outputs": [],
   "source": [
    "y_pred_val = my_model_.predict(X_val, batch_size=32)"
   ]
  },
  {
   "cell_type": "code",
   "execution_count": 54,
   "metadata": {
    "ExecuteTime": {
     "end_time": "2018-02-28T16:06:52.374667Z",
     "start_time": "2018-02-28T16:06:52.315803Z"
    }
   },
   "outputs": [],
   "source": [
    "Pred_val = pd.DataFrame(np.argmax(y_pred_val, axis=1), columns= ['label'])\n",
    "Pred_val['ID'] = df_val.groupby('ID').ID.first().values\n",
    "Pred_val['true'] = df_val.groupby('ID').label.first().values\n",
    "#Pred[['ID', 'label']].to_csv('pred_v2.csv', index=False)"
   ]
  },
  {
   "cell_type": "code",
   "execution_count": 56,
   "metadata": {
    "ExecuteTime": {
     "end_time": "2018-02-28T16:07:17.146867Z",
     "start_time": "2018-02-28T16:07:17.131422Z"
    }
   },
   "outputs": [
    {
     "data": {
      "text/plain": [
       "0.7503974562798092"
      ]
     },
     "execution_count": 56,
     "metadata": {},
     "output_type": "execute_result"
    }
   ],
   "source": [
    "np.mean(Pred_val['label'] ==Pred_val['true'])"
   ]
  },
  {
   "cell_type": "code",
   "execution_count": 7,
   "metadata": {
    "ExecuteTime": {
     "end_time": "2018-02-28T15:11:56.378057Z",
     "start_time": "2018-02-28T15:11:56.376493Z"
    }
   },
   "outputs": [],
   "source": [
    "cols = ['score', 'offensive rebound', 'defensive rebound',\n",
    "       'offensive foul', 'defensive foul', 'assist', 'lost ball', 'steals',\n",
    "       'bad pass', 'block', 'miss', 'total rebound']"
   ]
  },
  {
   "cell_type": "code",
   "execution_count": 12,
   "metadata": {
    "ExecuteTime": {
     "end_time": "2018-02-28T09:23:34.229349Z",
     "start_time": "2018-02-28T09:20:06.343538Z"
    }
   },
   "outputs": [
    {
     "data": {
      "text/plain": [
       "((12576, 1440, 12), (12576, 1))"
      ]
     },
     "execution_count": 12,
     "metadata": {},
     "output_type": "execute_result"
    }
   ],
   "source": [
    "df_X = df1_tot[df1_tot.time_step < 1441]\n",
    "X_train = []\n",
    "y_train = df_X.groupby('ID').mean()['label'].values\n",
    "y_train = y_train.reshape((len(y_train), 1))\n",
    "for id_ in df1_tot.ID.unique():\n",
    "    X_train.append(df_X[df_X.ID == id_][cols].values)\n",
    "X_train = np.array(X_train)\n",
    "X_train.shape, y_train.shape"
   ]
  },
  {
   "cell_type": "code",
   "execution_count": 8,
   "metadata": {
    "ExecuteTime": {
     "end_time": "2018-02-28T15:12:12.405593Z",
     "start_time": "2018-02-28T15:11:56.378815Z"
    }
   },
   "outputs": [
    {
     "data": {
      "text/plain": [
       "(4192, 1440, 12)"
      ]
     },
     "execution_count": 8,
     "metadata": {},
     "output_type": "execute_result"
    }
   ],
   "source": [
    "df_X_test = df_test_tot[df_test_tot.time_step < 1441]\n",
    "X_test = []\n",
    "for id_ in df_X_test.ID.unique():\n",
    "    X_test.append(df_X_test[df_X_test.ID == id_][cols].values)\n",
    "X_test = np.array(X_test)\n",
    "X_test.shape"
   ]
  },
  {
   "cell_type": "code",
   "execution_count": 13,
   "metadata": {
    "ExecuteTime": {
     "end_time": "2018-02-28T09:25:47.320028Z",
     "start_time": "2018-02-28T09:25:46.378570Z"
    }
   },
   "outputs": [],
   "source": [
    "from keras.utils import to_categorical\n",
    "y_train = to_categorical(y_train)"
   ]
  },
  {
   "cell_type": "code",
   "execution_count": 47,
   "metadata": {
    "ExecuteTime": {
     "end_time": "2018-02-28T09:41:02.132221Z",
     "start_time": "2018-02-28T09:41:02.126799Z"
    }
   },
   "outputs": [],
   "source": [
    "train_set = (X_train, y_train)"
   ]
  },
  {
   "cell_type": "code",
   "execution_count": 9,
   "metadata": {
    "ExecuteTime": {
     "end_time": "2018-02-28T15:12:12.459643Z",
     "start_time": "2018-02-28T15:12:12.406414Z"
    }
   },
   "outputs": [],
   "source": [
    "id_test = df_X_test.groupby('ID').ID.first().values"
   ]
  },
  {
   "cell_type": "code",
   "execution_count": 10,
   "metadata": {
    "ExecuteTime": {
     "end_time": "2018-02-28T15:12:12.500593Z",
     "start_time": "2018-02-28T15:12:12.460520Z"
    }
   },
   "outputs": [],
   "source": [
    "test_set = (X_test, id_test)"
   ]
  },
  {
   "cell_type": "code",
   "execution_count": 12,
   "metadata": {
    "ExecuteTime": {
     "end_time": "2018-02-28T15:12:21.819536Z",
     "start_time": "2018-02-28T15:12:19.265686Z"
    }
   },
   "outputs": [],
   "source": [
    "import pickle\n",
    "with open('test_set.pkl', 'wb') as f:\n",
    "    pickle.dump(test_set, f)"
   ]
  },
  {
   "cell_type": "code",
   "execution_count": null,
   "metadata": {
    "ExecuteTime": {
     "start_time": "2018-02-28T15:07:50.167Z"
    }
   },
   "outputs": [],
   "source": [
    "import pickle\n",
    "# with open('train_set.pkl', 'rb') as f:\n",
    "#     (X_train, y_train) = pickle.load(f)\n",
    "with open('test_set.pkl', 'rb') as f:\n",
    "    X_test, id_test = pickle.load(f)"
   ]
  },
  {
   "cell_type": "code",
   "execution_count": 23,
   "metadata": {
    "ExecuteTime": {
     "end_time": "2018-02-28T11:19:50.995588Z",
     "start_time": "2018-02-28T11:19:50.538537Z"
    },
    "scrolled": false
   },
   "outputs": [
    {
     "name": "stdout",
     "output_type": "stream",
     "text": [
      "(None, 1440, 12)\n",
      "(None, 1440, 12, 1)\n",
      "(None, 1436, 8, 128)\n",
      "(None, 1436, 1024)\n",
      "(None, 1436, 128)\n",
      "(None, 1436, 8, 16)\n",
      "(None, 1432, 4, 64)\n",
      "(None, 1432, 256)\n",
      "(None, 1432, 64)\n",
      "(None, 1432, 8, 8)\n",
      "(None, 1428, 4, 64)\n",
      "(None, 1428, 256)\n",
      "(None, 1428, 64)\n",
      "(None, 1428, 64)\n",
      "(None, 1428, 2)\n",
      "(None, 2)\n"
     ]
    }
   ],
   "source": [
    "from keras.layers import BatchNormalization, Conv2D, Reshape, LSTM, Dropout, Dense, TimeDistributed, Lambda, MaxPool2D\n",
    "from keras.optimizers import Adam\n",
    "from keras.regularizers import l2\n",
    "\n",
    "nb_timestep = 1440\n",
    "nb_features = 12\n",
    "num_classes = 2\n",
    "\n",
    "my_model = Sequential()\n",
    "\n",
    "my_model.add(BatchNormalization(input_shape = (nb_timestep,nb_features)))\n",
    "print(my_model.output_shape)\n",
    "my_model.add(Reshape([nb_timestep,nb_features,1]))\n",
    "print(my_model.output_shape)\n",
    "my_model.add(Conv2D(128, 5,activation=\"relu\"))\n",
    "print(my_model.output_shape)\n",
    "my_model.add(Reshape([my_model.output_shape[1], my_model.output_shape[2]*my_model.output_shape[3]]))\n",
    "print(my_model.output_shape)\n",
    "my_model.add(LSTM(128, return_sequences=True))\n",
    "print(my_model.output_shape)\n",
    "my_model.add(Reshape([my_model.output_shape[1], 8, 16]))\n",
    "print(my_model.output_shape)\n",
    "my_model.add(Conv2D(64,5,activation=\"relu\"))\n",
    "print(my_model.output_shape)\n",
    "my_model.add(Reshape([my_model.output_shape[1], my_model.output_shape[2]*my_model.output_shape[3]]))\n",
    "print(my_model.output_shape)\n",
    "my_model.add(LSTM(64, return_sequences=True))\n",
    "print(my_model.output_shape)\n",
    "my_model.add(Reshape([my_model.output_shape[1], 8, 8]))\n",
    "print(my_model.output_shape)\n",
    "my_model.add(Conv2D(64,5,activation=\"relu\"))\n",
    "print(my_model.output_shape)\n",
    "my_model.add(Reshape([my_model.output_shape[1], my_model.output_shape[2]*my_model.output_shape[3]]))\n",
    "print(my_model.output_shape)\n",
    "my_model.add(LSTM(64, return_sequences=True))\n",
    "print(my_model.output_shape)\n",
    "my_model.add(Dropout(0.2))\n",
    "print(my_model.output_shape)\n",
    "my_model.add(TimeDistributed(Dense(2,activation=\"sigmoid\", kernel_regularizer=l2(0.0001))))\n",
    "print(my_model.output_shape)\n",
    "my_model.add(Lambda(lambda x: x[:, -1, :], output_shape=[num_classes]))\n",
    "print(my_model.output_shape)\n",
    "my_model.compile(loss='binary_crossentropy', optimizer=Adam(lr=0.0001), metrics=['accuracy'])"
   ]
  },
  {
   "cell_type": "code",
   "execution_count": 8,
   "metadata": {
    "ExecuteTime": {
     "end_time": "2018-02-28T14:53:11.660657Z",
     "start_time": "2018-02-28T14:53:11.659226Z"
    },
    "scrolled": false
   },
   "outputs": [],
   "source": [
    "my_model.fit(X_train, y_train, epochs=10, batch_size=32, validation_split=0.15, verbose=1)"
   ]
  },
  {
   "cell_type": "code",
   "execution_count": 49,
   "metadata": {
    "ExecuteTime": {
     "end_time": "2018-02-28T16:05:10.095834Z",
     "start_time": "2018-02-28T16:04:55.154733Z"
    }
   },
   "outputs": [],
   "source": [
    "from keras.models import load_model\n",
    "my_model_ = load_model('my_model.h5')"
   ]
  },
  {
   "cell_type": "code",
   "execution_count": 16,
   "metadata": {
    "ExecuteTime": {
     "end_time": "2018-02-28T15:01:42.227981Z",
     "start_time": "2018-02-28T14:59:49.446821Z"
    }
   },
   "outputs": [],
   "source": [
    "y_pred = my_model_.predict(X_test, batch_size=32)"
   ]
  },
  {
   "cell_type": "code",
   "execution_count": 99,
   "metadata": {
    "ExecuteTime": {
     "end_time": "2018-02-27T18:18:31.202753Z",
     "start_time": "2018-02-27T18:18:31.168720Z"
    }
   },
   "outputs": [
    {
     "data": {
      "text/plain": [
       "0.7252703562340967"
      ]
     },
     "execution_count": 99,
     "metadata": {},
     "output_type": "execute_result"
    }
   ],
   "source": [
    "import public_accuracy\n",
    "public_accuracy.score_function(y_train, np.round(y_))"
   ]
  },
  {
   "cell_type": "code",
   "execution_count": 100,
   "metadata": {
    "ExecuteTime": {
     "end_time": "2018-02-27T18:19:31.797960Z",
     "start_time": "2018-02-27T18:19:31.791601Z"
    }
   },
   "outputs": [],
   "source": [
    "import numpy as np\n",
    "            \n",
    "def score_function(y_true, y_pred):\n",
    "    score = 0\n",
    "    length1 = y_true.shape[0]\n",
    "    for i in range(length1):\n",
    "        if y_pred[i] == y_true[i]:\n",
    "            score += 1\n",
    "    return float(score)/float(length1)"
   ]
  },
  {
   "cell_type": "code",
   "execution_count": 101,
   "metadata": {
    "ExecuteTime": {
     "end_time": "2018-02-27T18:19:45.030418Z",
     "start_time": "2018-02-27T18:19:45.026347Z"
    }
   },
   "outputs": [
    {
     "data": {
      "text/plain": [
       "0.7252703562340967"
      ]
     },
     "execution_count": 101,
     "metadata": {},
     "output_type": "execute_result"
    }
   ],
   "source": [
    "score_function(np.argmax(y_train, axis=1), np.argmax(y_, axis=1))"
   ]
  },
  {
   "cell_type": "code",
   "execution_count": 17,
   "metadata": {
    "ExecuteTime": {
     "end_time": "2018-02-28T15:02:56.062605Z",
     "start_time": "2018-02-28T15:02:55.957711Z"
    }
   },
   "outputs": [],
   "source": [
    "Pred = pd.DataFrame(np.argmax(y_pred, axis=1), columns= ['label'])\n",
    "Pred['ID'] = df_X_test.groupby('ID').ID.first().values\n",
    "Pred[['ID', 'label']].to_csv('pred_v2.csv', index=False)"
   ]
  },
  {
   "cell_type": "code",
   "execution_count": 62,
   "metadata": {
    "ExecuteTime": {
     "end_time": "2018-02-28T16:51:38.351280Z",
     "start_time": "2018-02-28T16:51:38.294210Z"
    }
   },
   "outputs": [
    {
     "data": {
      "text/plain": [
       "array([    0,     3,     6, ..., 18393, 18398, 18400])"
      ]
     },
     "execution_count": 62,
     "metadata": {},
     "output_type": "execute_result"
    }
   ],
   "source": [
    "df_X_test.groupby('ID').ID.first().values"
   ]
  },
  {
   "cell_type": "code",
   "execution_count": 59,
   "metadata": {
    "ExecuteTime": {
     "end_time": "2018-02-28T16:49:10.453891Z",
     "start_time": "2018-02-28T16:49:10.433611Z"
    }
   },
   "outputs": [
    {
     "data": {
      "text/plain": [
       "array([    0,     3,     6, ..., 18393, 18398, 18400])"
      ]
     },
     "execution_count": 59,
     "metadata": {},
     "output_type": "execute_result"
    }
   ],
   "source": [
    "df_X_test.ID.unique()"
   ]
  },
  {
   "cell_type": "code",
   "execution_count": 19,
   "metadata": {
    "ExecuteTime": {
     "end_time": "2018-02-28T15:03:13.764198Z",
     "start_time": "2018-02-28T15:03:13.753985Z"
    }
   },
   "outputs": [
    {
     "data": {
      "text/html": [
       "<div>\n",
       "<style>\n",
       "    .dataframe thead tr:only-child th {\n",
       "        text-align: right;\n",
       "    }\n",
       "\n",
       "    .dataframe thead th {\n",
       "        text-align: left;\n",
       "    }\n",
       "\n",
       "    .dataframe tbody tr th {\n",
       "        vertical-align: top;\n",
       "    }\n",
       "</style>\n",
       "<table border=\"1\" class=\"dataframe\">\n",
       "  <thead>\n",
       "    <tr style=\"text-align: right;\">\n",
       "      <th></th>\n",
       "      <th>ID</th>\n",
       "      <th>label</th>\n",
       "    </tr>\n",
       "  </thead>\n",
       "  <tbody>\n",
       "    <tr>\n",
       "      <th>0</th>\n",
       "      <td>0</td>\n",
       "      <td>0</td>\n",
       "    </tr>\n",
       "    <tr>\n",
       "      <th>1</th>\n",
       "      <td>3</td>\n",
       "      <td>0</td>\n",
       "    </tr>\n",
       "    <tr>\n",
       "      <th>2</th>\n",
       "      <td>6</td>\n",
       "      <td>0</td>\n",
       "    </tr>\n",
       "    <tr>\n",
       "      <th>3</th>\n",
       "      <td>12</td>\n",
       "      <td>0</td>\n",
       "    </tr>\n",
       "    <tr>\n",
       "      <th>4</th>\n",
       "      <td>13</td>\n",
       "      <td>1</td>\n",
       "    </tr>\n",
       "    <tr>\n",
       "      <th>5</th>\n",
       "      <td>24</td>\n",
       "      <td>0</td>\n",
       "    </tr>\n",
       "    <tr>\n",
       "      <th>6</th>\n",
       "      <td>26</td>\n",
       "      <td>0</td>\n",
       "    </tr>\n",
       "    <tr>\n",
       "      <th>7</th>\n",
       "      <td>27</td>\n",
       "      <td>0</td>\n",
       "    </tr>\n",
       "    <tr>\n",
       "      <th>8</th>\n",
       "      <td>42</td>\n",
       "      <td>0</td>\n",
       "    </tr>\n",
       "    <tr>\n",
       "      <th>9</th>\n",
       "      <td>48</td>\n",
       "      <td>1</td>\n",
       "    </tr>\n",
       "    <tr>\n",
       "      <th>10</th>\n",
       "      <td>49</td>\n",
       "      <td>0</td>\n",
       "    </tr>\n",
       "    <tr>\n",
       "      <th>11</th>\n",
       "      <td>50</td>\n",
       "      <td>0</td>\n",
       "    </tr>\n",
       "    <tr>\n",
       "      <th>12</th>\n",
       "      <td>52</td>\n",
       "      <td>0</td>\n",
       "    </tr>\n",
       "    <tr>\n",
       "      <th>13</th>\n",
       "      <td>55</td>\n",
       "      <td>0</td>\n",
       "    </tr>\n",
       "    <tr>\n",
       "      <th>14</th>\n",
       "      <td>66</td>\n",
       "      <td>1</td>\n",
       "    </tr>\n",
       "    <tr>\n",
       "      <th>15</th>\n",
       "      <td>67</td>\n",
       "      <td>0</td>\n",
       "    </tr>\n",
       "    <tr>\n",
       "      <th>16</th>\n",
       "      <td>69</td>\n",
       "      <td>1</td>\n",
       "    </tr>\n",
       "    <tr>\n",
       "      <th>17</th>\n",
       "      <td>76</td>\n",
       "      <td>0</td>\n",
       "    </tr>\n",
       "    <tr>\n",
       "      <th>18</th>\n",
       "      <td>83</td>\n",
       "      <td>1</td>\n",
       "    </tr>\n",
       "    <tr>\n",
       "      <th>19</th>\n",
       "      <td>86</td>\n",
       "      <td>0</td>\n",
       "    </tr>\n",
       "    <tr>\n",
       "      <th>20</th>\n",
       "      <td>87</td>\n",
       "      <td>0</td>\n",
       "    </tr>\n",
       "    <tr>\n",
       "      <th>21</th>\n",
       "      <td>90</td>\n",
       "      <td>0</td>\n",
       "    </tr>\n",
       "    <tr>\n",
       "      <th>22</th>\n",
       "      <td>93</td>\n",
       "      <td>1</td>\n",
       "    </tr>\n",
       "    <tr>\n",
       "      <th>23</th>\n",
       "      <td>95</td>\n",
       "      <td>1</td>\n",
       "    </tr>\n",
       "    <tr>\n",
       "      <th>24</th>\n",
       "      <td>119</td>\n",
       "      <td>0</td>\n",
       "    </tr>\n",
       "    <tr>\n",
       "      <th>25</th>\n",
       "      <td>121</td>\n",
       "      <td>0</td>\n",
       "    </tr>\n",
       "    <tr>\n",
       "      <th>26</th>\n",
       "      <td>124</td>\n",
       "      <td>0</td>\n",
       "    </tr>\n",
       "    <tr>\n",
       "      <th>27</th>\n",
       "      <td>129</td>\n",
       "      <td>0</td>\n",
       "    </tr>\n",
       "    <tr>\n",
       "      <th>28</th>\n",
       "      <td>143</td>\n",
       "      <td>0</td>\n",
       "    </tr>\n",
       "    <tr>\n",
       "      <th>29</th>\n",
       "      <td>144</td>\n",
       "      <td>1</td>\n",
       "    </tr>\n",
       "    <tr>\n",
       "      <th>...</th>\n",
       "      <td>...</td>\n",
       "      <td>...</td>\n",
       "    </tr>\n",
       "    <tr>\n",
       "      <th>4162</th>\n",
       "      <td>18299</td>\n",
       "      <td>0</td>\n",
       "    </tr>\n",
       "    <tr>\n",
       "      <th>4163</th>\n",
       "      <td>18300</td>\n",
       "      <td>1</td>\n",
       "    </tr>\n",
       "    <tr>\n",
       "      <th>4164</th>\n",
       "      <td>18301</td>\n",
       "      <td>1</td>\n",
       "    </tr>\n",
       "    <tr>\n",
       "      <th>4165</th>\n",
       "      <td>18304</td>\n",
       "      <td>0</td>\n",
       "    </tr>\n",
       "    <tr>\n",
       "      <th>4166</th>\n",
       "      <td>18305</td>\n",
       "      <td>1</td>\n",
       "    </tr>\n",
       "    <tr>\n",
       "      <th>4167</th>\n",
       "      <td>18307</td>\n",
       "      <td>0</td>\n",
       "    </tr>\n",
       "    <tr>\n",
       "      <th>4168</th>\n",
       "      <td>18312</td>\n",
       "      <td>0</td>\n",
       "    </tr>\n",
       "    <tr>\n",
       "      <th>4169</th>\n",
       "      <td>18314</td>\n",
       "      <td>1</td>\n",
       "    </tr>\n",
       "    <tr>\n",
       "      <th>4170</th>\n",
       "      <td>18317</td>\n",
       "      <td>0</td>\n",
       "    </tr>\n",
       "    <tr>\n",
       "      <th>4171</th>\n",
       "      <td>18318</td>\n",
       "      <td>1</td>\n",
       "    </tr>\n",
       "    <tr>\n",
       "      <th>4172</th>\n",
       "      <td>18319</td>\n",
       "      <td>1</td>\n",
       "    </tr>\n",
       "    <tr>\n",
       "      <th>4173</th>\n",
       "      <td>18327</td>\n",
       "      <td>1</td>\n",
       "    </tr>\n",
       "    <tr>\n",
       "      <th>4174</th>\n",
       "      <td>18331</td>\n",
       "      <td>0</td>\n",
       "    </tr>\n",
       "    <tr>\n",
       "      <th>4175</th>\n",
       "      <td>18336</td>\n",
       "      <td>0</td>\n",
       "    </tr>\n",
       "    <tr>\n",
       "      <th>4176</th>\n",
       "      <td>18341</td>\n",
       "      <td>1</td>\n",
       "    </tr>\n",
       "    <tr>\n",
       "      <th>4177</th>\n",
       "      <td>18345</td>\n",
       "      <td>0</td>\n",
       "    </tr>\n",
       "    <tr>\n",
       "      <th>4178</th>\n",
       "      <td>18347</td>\n",
       "      <td>0</td>\n",
       "    </tr>\n",
       "    <tr>\n",
       "      <th>4179</th>\n",
       "      <td>18357</td>\n",
       "      <td>1</td>\n",
       "    </tr>\n",
       "    <tr>\n",
       "      <th>4180</th>\n",
       "      <td>18358</td>\n",
       "      <td>0</td>\n",
       "    </tr>\n",
       "    <tr>\n",
       "      <th>4181</th>\n",
       "      <td>18366</td>\n",
       "      <td>0</td>\n",
       "    </tr>\n",
       "    <tr>\n",
       "      <th>4182</th>\n",
       "      <td>18373</td>\n",
       "      <td>1</td>\n",
       "    </tr>\n",
       "    <tr>\n",
       "      <th>4183</th>\n",
       "      <td>18378</td>\n",
       "      <td>1</td>\n",
       "    </tr>\n",
       "    <tr>\n",
       "      <th>4184</th>\n",
       "      <td>18379</td>\n",
       "      <td>1</td>\n",
       "    </tr>\n",
       "    <tr>\n",
       "      <th>4185</th>\n",
       "      <td>18385</td>\n",
       "      <td>1</td>\n",
       "    </tr>\n",
       "    <tr>\n",
       "      <th>4186</th>\n",
       "      <td>18386</td>\n",
       "      <td>0</td>\n",
       "    </tr>\n",
       "    <tr>\n",
       "      <th>4187</th>\n",
       "      <td>18388</td>\n",
       "      <td>1</td>\n",
       "    </tr>\n",
       "    <tr>\n",
       "      <th>4188</th>\n",
       "      <td>18391</td>\n",
       "      <td>0</td>\n",
       "    </tr>\n",
       "    <tr>\n",
       "      <th>4189</th>\n",
       "      <td>18393</td>\n",
       "      <td>0</td>\n",
       "    </tr>\n",
       "    <tr>\n",
       "      <th>4190</th>\n",
       "      <td>18398</td>\n",
       "      <td>1</td>\n",
       "    </tr>\n",
       "    <tr>\n",
       "      <th>4191</th>\n",
       "      <td>18400</td>\n",
       "      <td>0</td>\n",
       "    </tr>\n",
       "  </tbody>\n",
       "</table>\n",
       "<p>4192 rows × 2 columns</p>\n",
       "</div>"
      ],
      "text/plain": [
       "         ID  label\n",
       "0         0      0\n",
       "1         3      0\n",
       "2         6      0\n",
       "3        12      0\n",
       "4        13      1\n",
       "5        24      0\n",
       "6        26      0\n",
       "7        27      0\n",
       "8        42      0\n",
       "9        48      1\n",
       "10       49      0\n",
       "11       50      0\n",
       "12       52      0\n",
       "13       55      0\n",
       "14       66      1\n",
       "15       67      0\n",
       "16       69      1\n",
       "17       76      0\n",
       "18       83      1\n",
       "19       86      0\n",
       "20       87      0\n",
       "21       90      0\n",
       "22       93      1\n",
       "23       95      1\n",
       "24      119      0\n",
       "25      121      0\n",
       "26      124      0\n",
       "27      129      0\n",
       "28      143      0\n",
       "29      144      1\n",
       "...     ...    ...\n",
       "4162  18299      0\n",
       "4163  18300      1\n",
       "4164  18301      1\n",
       "4165  18304      0\n",
       "4166  18305      1\n",
       "4167  18307      0\n",
       "4168  18312      0\n",
       "4169  18314      1\n",
       "4170  18317      0\n",
       "4171  18318      1\n",
       "4172  18319      1\n",
       "4173  18327      1\n",
       "4174  18331      0\n",
       "4175  18336      0\n",
       "4176  18341      1\n",
       "4177  18345      0\n",
       "4178  18347      0\n",
       "4179  18357      1\n",
       "4180  18358      0\n",
       "4181  18366      0\n",
       "4182  18373      1\n",
       "4183  18378      1\n",
       "4184  18379      1\n",
       "4185  18385      1\n",
       "4186  18386      0\n",
       "4187  18388      1\n",
       "4188  18391      0\n",
       "4189  18393      0\n",
       "4190  18398      1\n",
       "4191  18400      0\n",
       "\n",
       "[4192 rows x 2 columns]"
      ]
     },
     "execution_count": 19,
     "metadata": {},
     "output_type": "execute_result"
    }
   ],
   "source": [
    "Pred[['ID', 'label']]"
   ]
  },
  {
   "cell_type": "code",
   "execution_count": null,
   "metadata": {},
   "outputs": [],
   "source": []
  }
 ],
 "metadata": {
  "kernelspec": {
   "display_name": "TensorFlow",
   "language": "python",
   "name": "work_env"
  },
  "language_info": {
   "codemirror_mode": {
    "name": "ipython",
    "version": 3
   },
   "file_extension": ".py",
   "mimetype": "text/x-python",
   "name": "python",
   "nbconvert_exporter": "python",
   "pygments_lexer": "ipython3",
   "version": "3.6.4"
  },
  "toc": {
   "nav_menu": {},
   "number_sections": true,
   "sideBar": true,
   "skip_h1_title": false,
   "toc_cell": false,
   "toc_position": {},
   "toc_section_display": "block",
   "toc_window_display": false
  }
 },
 "nbformat": 4,
 "nbformat_minor": 2
}
