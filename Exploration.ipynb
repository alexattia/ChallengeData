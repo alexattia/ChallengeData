{
 "cells": [
  {
   "cell_type": "code",
   "execution_count": 35,
   "metadata": {
    "ExecuteTime": {
     "end_time": "2018-02-12T13:41:52.492590Z",
     "start_time": "2018-02-12T13:41:51.784187Z"
    }
   },
   "outputs": [],
   "source": [
    "import pandas as pd\n",
    "import numpy as np\n",
    "import csv\n",
    "import matplotlib.pyplot as plt\n",
    "import seaborn as sns\n",
    "%matplotlib inline"
   ]
  },
  {
   "cell_type": "code",
   "execution_count": 2,
   "metadata": {
    "ExecuteTime": {
     "end_time": "2018-02-12T13:21:06.978266Z",
     "start_time": "2018-02-12T13:20:14.538439Z"
    }
   },
   "outputs": [],
   "source": [
    "df = pd.read_csv('./train.csv')"
   ]
  },
  {
   "cell_type": "code",
   "execution_count": 16,
   "metadata": {
    "ExecuteTime": {
     "end_time": "2018-02-12T13:30:22.682505Z",
     "start_time": "2018-02-12T13:30:22.674129Z"
    }
   },
   "outputs": [],
   "source": [
    "target = pd.read_csv('./challenge_output_data_training_file_nba_challenge.csv', sep=';')"
   ]
  },
  {
   "cell_type": "markdown",
   "metadata": {},
   "source": [
    "**Data**   \n",
    "Play-by-play datasets from the last 15 NBA seasons.  \n",
    "Each game is described by 11 variables for every second of the game from the fist halft (1440 seconds, **1440x11 = 15840 columns**). These variables such as : \"offensive rebound\", \"defensive rebound\", \"offensive foul\", \"defensive foul\", \"assist\", \"lost ball\",  \"steals\", \"bad pass\",\"block\", \"miss\" difference between the invited and home team. The scores/key indicators - represent the current score/key indicators differences.\n",
    "\n",
    "The training set : 12576 NBA games.  \n",
    "The test set : 4192 games."
   ]
  },
  {
   "cell_type": "code",
   "execution_count": 17,
   "metadata": {
    "ExecuteTime": {
     "end_time": "2018-02-12T13:30:23.822397Z",
     "start_time": "2018-02-12T13:30:23.802110Z"
    }
   },
   "outputs": [
    {
     "name": "stdout",
     "output_type": "stream",
     "text": [
      "(12576, 15841)\n",
      "(12576, 2)\n"
     ]
    },
    {
     "data": {
      "text/html": [
       "<div>\n",
       "<style scoped>\n",
       "    .dataframe tbody tr th:only-of-type {\n",
       "        vertical-align: middle;\n",
       "    }\n",
       "\n",
       "    .dataframe tbody tr th {\n",
       "        vertical-align: top;\n",
       "    }\n",
       "\n",
       "    .dataframe thead th {\n",
       "        text-align: right;\n",
       "    }\n",
       "</style>\n",
       "<table border=\"1\" class=\"dataframe\">\n",
       "  <thead>\n",
       "    <tr style=\"text-align: right;\">\n",
       "      <th></th>\n",
       "      <th>ID</th>\n",
       "      <th>score_1</th>\n",
       "      <th>offensive rebound_1</th>\n",
       "      <th>defensive rebound_1</th>\n",
       "      <th>offensive foul_1</th>\n",
       "      <th>defensive foul_1</th>\n",
       "      <th>assist_1</th>\n",
       "      <th>lost ball_1</th>\n",
       "      <th>steals_1</th>\n",
       "      <th>bad pass_1</th>\n",
       "      <th>...</th>\n",
       "      <th>offensive rebound_1440</th>\n",
       "      <th>defensive rebound_1440</th>\n",
       "      <th>offensive foul_1440</th>\n",
       "      <th>defensive foul_1440</th>\n",
       "      <th>assist_1440</th>\n",
       "      <th>lost ball_1440</th>\n",
       "      <th>steals_1440</th>\n",
       "      <th>bad pass_1440</th>\n",
       "      <th>block_1440</th>\n",
       "      <th>miss_1440</th>\n",
       "    </tr>\n",
       "  </thead>\n",
       "  <tbody>\n",
       "    <tr>\n",
       "      <th>0</th>\n",
       "      <td>14186</td>\n",
       "      <td>-2</td>\n",
       "      <td>0</td>\n",
       "      <td>0</td>\n",
       "      <td>0</td>\n",
       "      <td>0</td>\n",
       "      <td>0</td>\n",
       "      <td>0</td>\n",
       "      <td>0</td>\n",
       "      <td>0</td>\n",
       "      <td>...</td>\n",
       "      <td>8</td>\n",
       "      <td>-4</td>\n",
       "      <td>2</td>\n",
       "      <td>0</td>\n",
       "      <td>-3</td>\n",
       "      <td>3</td>\n",
       "      <td>3</td>\n",
       "      <td>-2</td>\n",
       "      <td>1</td>\n",
       "      <td>9</td>\n",
       "    </tr>\n",
       "    <tr>\n",
       "      <th>1</th>\n",
       "      <td>13013</td>\n",
       "      <td>0</td>\n",
       "      <td>0</td>\n",
       "      <td>-1</td>\n",
       "      <td>0</td>\n",
       "      <td>0</td>\n",
       "      <td>0</td>\n",
       "      <td>0</td>\n",
       "      <td>0</td>\n",
       "      <td>0</td>\n",
       "      <td>...</td>\n",
       "      <td>1</td>\n",
       "      <td>5</td>\n",
       "      <td>0</td>\n",
       "      <td>0</td>\n",
       "      <td>1</td>\n",
       "      <td>0</td>\n",
       "      <td>0</td>\n",
       "      <td>1</td>\n",
       "      <td>-2</td>\n",
       "      <td>-1</td>\n",
       "    </tr>\n",
       "    <tr>\n",
       "      <th>2</th>\n",
       "      <td>7102</td>\n",
       "      <td>0</td>\n",
       "      <td>0</td>\n",
       "      <td>0</td>\n",
       "      <td>0</td>\n",
       "      <td>0</td>\n",
       "      <td>0</td>\n",
       "      <td>0</td>\n",
       "      <td>1</td>\n",
       "      <td>1</td>\n",
       "      <td>...</td>\n",
       "      <td>-1</td>\n",
       "      <td>-5</td>\n",
       "      <td>-5</td>\n",
       "      <td>0</td>\n",
       "      <td>0</td>\n",
       "      <td>5</td>\n",
       "      <td>5</td>\n",
       "      <td>-2</td>\n",
       "      <td>3</td>\n",
       "      <td>-5</td>\n",
       "    </tr>\n",
       "    <tr>\n",
       "      <th>3</th>\n",
       "      <td>7637</td>\n",
       "      <td>-2</td>\n",
       "      <td>0</td>\n",
       "      <td>0</td>\n",
       "      <td>0</td>\n",
       "      <td>0</td>\n",
       "      <td>0</td>\n",
       "      <td>0</td>\n",
       "      <td>0</td>\n",
       "      <td>0</td>\n",
       "      <td>...</td>\n",
       "      <td>2</td>\n",
       "      <td>8</td>\n",
       "      <td>1</td>\n",
       "      <td>0</td>\n",
       "      <td>-1</td>\n",
       "      <td>-1</td>\n",
       "      <td>2</td>\n",
       "      <td>2</td>\n",
       "      <td>-1</td>\n",
       "      <td>-1</td>\n",
       "    </tr>\n",
       "    <tr>\n",
       "      <th>4</th>\n",
       "      <td>12350</td>\n",
       "      <td>0</td>\n",
       "      <td>0</td>\n",
       "      <td>0</td>\n",
       "      <td>0</td>\n",
       "      <td>0</td>\n",
       "      <td>0</td>\n",
       "      <td>0</td>\n",
       "      <td>0</td>\n",
       "      <td>0</td>\n",
       "      <td>...</td>\n",
       "      <td>4</td>\n",
       "      <td>1</td>\n",
       "      <td>0</td>\n",
       "      <td>0</td>\n",
       "      <td>4</td>\n",
       "      <td>3</td>\n",
       "      <td>2</td>\n",
       "      <td>1</td>\n",
       "      <td>1</td>\n",
       "      <td>3</td>\n",
       "    </tr>\n",
       "  </tbody>\n",
       "</table>\n",
       "<p>5 rows × 15841 columns</p>\n",
       "</div>"
      ],
      "text/plain": [
       "      ID  score_1  offensive rebound_1  defensive rebound_1  offensive foul_1  \\\n",
       "0  14186       -2                    0                    0                 0   \n",
       "1  13013        0                    0                   -1                 0   \n",
       "2   7102        0                    0                    0                 0   \n",
       "3   7637       -2                    0                    0                 0   \n",
       "4  12350        0                    0                    0                 0   \n",
       "\n",
       "   defensive foul_1  assist_1  lost ball_1  steals_1  bad pass_1    ...      \\\n",
       "0                 0         0            0         0           0    ...       \n",
       "1                 0         0            0         0           0    ...       \n",
       "2                 0         0            0         1           1    ...       \n",
       "3                 0         0            0         0           0    ...       \n",
       "4                 0         0            0         0           0    ...       \n",
       "\n",
       "   offensive rebound_1440  defensive rebound_1440  offensive foul_1440  \\\n",
       "0                       8                      -4                    2   \n",
       "1                       1                       5                    0   \n",
       "2                      -1                      -5                   -5   \n",
       "3                       2                       8                    1   \n",
       "4                       4                       1                    0   \n",
       "\n",
       "   defensive foul_1440  assist_1440  lost ball_1440  steals_1440  \\\n",
       "0                    0           -3               3            3   \n",
       "1                    0            1               0            0   \n",
       "2                    0            0               5            5   \n",
       "3                    0           -1              -1            2   \n",
       "4                    0            4               3            2   \n",
       "\n",
       "   bad pass_1440  block_1440  miss_1440  \n",
       "0             -2           1          9  \n",
       "1              1          -2         -1  \n",
       "2             -2           3         -5  \n",
       "3              2          -1         -1  \n",
       "4              1           1          3  \n",
       "\n",
       "[5 rows x 15841 columns]"
      ]
     },
     "execution_count": 17,
     "metadata": {},
     "output_type": "execute_result"
    }
   ],
   "source": [
    "print(df.shape)\n",
    "print(target.shape)\n",
    "df.head()"
   ]
  },
  {
   "cell_type": "code",
   "execution_count": 28,
   "metadata": {
    "ExecuteTime": {
     "end_time": "2018-02-12T13:38:10.284160Z",
     "start_time": "2018-02-12T13:38:04.801669Z"
    },
    "scrolled": true
   },
   "outputs": [
    {
     "name": "stdout",
     "output_type": "stream",
     "text": [
      "Probability that the half-time leader is the full-time winner 0.743\n"
     ]
    }
   ],
   "source": [
    "df_tot = pd.merge(df, target, on='ID')\n",
    "# When the HT winner is the FT winner\n",
    "same_mt_f = df_tot[((df_tot.score_1440 <= 0) & (df_tot.label == 0)) | ((df_tot.score_1440 >= 0) & (df_tot.label == 1))]\n",
    "print('Probability that the half-time leader is the full-time winner %.3f' % (len(same_mt_f)/len(df_tot)))"
   ]
  },
  {
   "cell_type": "code",
   "execution_count": 66,
   "metadata": {
    "ExecuteTime": {
     "end_time": "2018-02-12T14:10:07.012826Z",
     "start_time": "2018-02-12T14:10:05.402943Z"
    }
   },
   "outputs": [
    {
     "name": "stdout",
     "output_type": "stream",
     "text": [
      "Probability that the home team wins the game at FT 0.564\n",
      "Probability that the home team wins the game at HT 0.589\n"
     ]
    }
   ],
   "source": [
    "print('Probability that the home team wins the game at FT %.3f' % (len(df_tot[df_tot.label == 0])/len(df_tot)))\n",
    "print('Probability that the home team wins the game at HT %.3f' % (len(df_tot[df_tot.score_1440 <= 0])/len(df_tot)))"
   ]
  },
  {
   "cell_type": "code",
   "execution_count": 42,
   "metadata": {
    "ExecuteTime": {
     "end_time": "2018-02-12T13:48:38.938688Z",
     "start_time": "2018-02-12T13:48:38.607782Z"
    }
   },
   "outputs": [
    {
     "data": {
      "image/png": "[encoded data removed]",
      "text/plain": [
       "<matplotlib.figure.Figure at 0x116e88470>"
      ]
     },
     "metadata": {},
     "output_type": "display_data"
    }
   ],
   "source": [
    "corr_ht = df_tot[[k for k in df_tot.columns if '1440' in k and 'defensive foul' not in k]+['label']].corr()\n",
    "sns.heatmap(corr_ht, mask=np.zeros_like(corr_ht, dtype=np.bool), cmap=sns.diverging_palette(220, 10, as_cmap=True),\n",
    "            square=True)\n",
    "_ = plt.title('Features correlation at half-time and winner')"
   ]
  },
  {
   "cell_type": "code",
   "execution_count": 67,
   "metadata": {
    "ExecuteTime": {
     "end_time": "2018-02-12T14:15:44.856564Z",
     "start_time": "2018-02-12T14:15:44.837390Z"
    }
   },
   "outputs": [
    {
     "name": "stdout",
     "output_type": "stream",
     "text": [
      "Current key indicators : {'miss', 'offensive rebound', 'score', 'block', 'steals', 'offensive foul', 'assist', 'lost ball', 'bad pass', 'defensive rebound', 'rebound', 'defensive foul'}\n",
      "Added total (off+def) rebound stats\n"
     ]
    }
   ],
   "source": [
    "# Add new stats\n",
    "ki = set([k.split('_')[0] for k in df_tot.columns if k not in ['label', 'ID']])\n",
    "print('Current key indicators :', ki)\n",
    "\n",
    "# Add total rebound\n",
    "for k in range(1,1441):\n",
    "    df_tot['rebound_%d' % k] = df_tot['offensive rebound_%d' % k] + df_tot['defensive rebound_%d' % k]\n",
    "\n",
    "# Re-sort columns\n",
    "def sorter(x):\n",
    "    if x not in ['label', 'ID']:\n",
    "        return int(x.split('_')[1])\n",
    "    else:\n",
    "        return 0\n",
    "    \n",
    "df_tot = df_tot[sorted(df_tot.columns, key=sorter)]\n",
    "print('Added total (off+def) rebound stats')"
   ]
  },
  {
   "cell_type": "code",
   "execution_count": null,
   "metadata": {},
   "outputs": [],
   "source": []
  }
 ],
 "metadata": {
  "kernelspec": {
   "display_name": "Python 3",
   "language": "python",
   "name": "python3"
  },
  "language_info": {
   "codemirror_mode": {
    "name": "ipython",
    "version": 3
   },
   "file_extension": ".py",
   "mimetype": "text/x-python",
   "name": "python",
   "nbconvert_exporter": "python",
   "pygments_lexer": "ipython3",
   "version": "3.6.3"
  },
  "toc": {
   "nav_menu": {},
   "number_sections": true,
   "sideBar": true,
   "skip_h1_title": false,
   "toc_cell": false,
   "toc_position": {},
   "toc_section_display": "block",
   "toc_window_display": false
  }
 },
 "nbformat": 4,
 "nbformat_minor": 2
}
