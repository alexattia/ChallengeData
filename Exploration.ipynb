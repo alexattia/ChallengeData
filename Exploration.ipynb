{
 "cells": [
  {
   "cell_type": "code",
   "execution_count": 211,
   "metadata": {
    "ExecuteTime": {
     "end_time": "2018-02-12T15:57:23.059009Z",
     "start_time": "2018-02-12T15:57:23.049011Z"
    }
   },
   "outputs": [],
   "source": [
    "import pandas as pd\n",
    "import numpy as np\n",
    "import csv\n",
    "import matplotlib.pyplot as plt\n",
    "import seaborn as sns\n",
    "from sklearn.metrics import confusion_matrix, recall_score, precision_score\n",
    "from keras.models import Sequential\n",
    "from keras.layers import Dense, Dropout, LSTM, Activation\n",
    "%matplotlib inline"
   ]
  },
  {
   "cell_type": "code",
   "execution_count": 2,
   "metadata": {
    "ExecuteTime": {
     "end_time": "2018-02-12T13:21:06.978266Z",
     "start_time": "2018-02-12T13:20:14.538439Z"
    }
   },
   "outputs": [],
   "source": [
    "df = pd.read_csv('./train.csv')"
   ]
  },
  {
   "cell_type": "code",
   "execution_count": 16,
   "metadata": {
    "ExecuteTime": {
     "end_time": "2018-02-12T13:30:22.682505Z",
     "start_time": "2018-02-12T13:30:22.674129Z"
    }
   },
   "outputs": [],
   "source": [
    "target = pd.read_csv('./challenge_output_data_training_file_nba_challenge.csv', sep=';')"
   ]
  },
  {
   "cell_type": "markdown",
   "metadata": {},
   "source": [
    "**Data**   \n",
    "Play-by-play datasets from the last 15 NBA seasons.  \n",
    "Each game is described by 11 variables for every second of the game from the fist halft (1440 seconds, **1440x11 = 15840 columns**). These variables such as : \"offensive rebound\", \"defensive rebound\", \"offensive foul\", \"defensive foul\", \"assist\", \"lost ball\",  \"steals\", \"bad pass\",\"block\", \"miss\" difference between the invited and home team. The scores/key indicators - represent the current score/key indicators differences.\n",
    "\n",
    "The training set : 12576 NBA games.  \n",
    "The test set : 4192 games."
   ]
  },
  {
   "cell_type": "code",
   "execution_count": 17,
   "metadata": {
    "ExecuteTime": {
     "end_time": "2018-02-12T13:30:23.822397Z",
     "start_time": "2018-02-12T13:30:23.802110Z"
    }
   },
   "outputs": [
    {
     "name": "stdout",
     "output_type": "stream",
     "text": [
      "(12576, 15841)\n",
      "(12576, 2)\n"
     ]
    },
    {
     "data": {
      "text/html": [
       "<div>\n",
       "<style scoped>\n",
       "    .dataframe tbody tr th:only-of-type {\n",
       "        vertical-align: middle;\n",
       "    }\n",
       "\n",
       "    .dataframe tbody tr th {\n",
       "        vertical-align: top;\n",
       "    }\n",
       "\n",
       "    .dataframe thead th {\n",
       "        text-align: right;\n",
       "    }\n",
       "</style>\n",
       "<table border=\"1\" class=\"dataframe\">\n",
       "  <thead>\n",
       "    <tr style=\"text-align: right;\">\n",
       "      <th></th>\n",
       "      <th>ID</th>\n",
       "      <th>score_1</th>\n",
       "      <th>offensive rebound_1</th>\n",
       "      <th>defensive rebound_1</th>\n",
       "      <th>offensive foul_1</th>\n",
       "      <th>defensive foul_1</th>\n",
       "      <th>assist_1</th>\n",
       "      <th>lost ball_1</th>\n",
       "      <th>steals_1</th>\n",
       "      <th>bad pass_1</th>\n",
       "      <th>...</th>\n",
       "      <th>offensive rebound_1440</th>\n",
       "      <th>defensive rebound_1440</th>\n",
       "      <th>offensive foul_1440</th>\n",
       "      <th>defensive foul_1440</th>\n",
       "      <th>assist_1440</th>\n",
       "      <th>lost ball_1440</th>\n",
       "      <th>steals_1440</th>\n",
       "      <th>bad pass_1440</th>\n",
       "      <th>block_1440</th>\n",
       "      <th>miss_1440</th>\n",
       "    </tr>\n",
       "  </thead>\n",
       "  <tbody>\n",
       "    <tr>\n",
       "      <th>0</th>\n",
       "      <td>14186</td>\n",
       "      <td>-2</td>\n",
       "      <td>0</td>\n",
       "      <td>0</td>\n",
       "      <td>0</td>\n",
       "      <td>0</td>\n",
       "      <td>0</td>\n",
       "      <td>0</td>\n",
       "      <td>0</td>\n",
       "      <td>0</td>\n",
       "      <td>...</td>\n",
       "      <td>8</td>\n",
       "      <td>-4</td>\n",
       "      <td>2</td>\n",
       "      <td>0</td>\n",
       "      <td>-3</td>\n",
       "      <td>3</td>\n",
       "      <td>3</td>\n",
       "      <td>-2</td>\n",
       "      <td>1</td>\n",
       "      <td>9</td>\n",
       "    </tr>\n",
       "    <tr>\n",
       "      <th>1</th>\n",
       "      <td>13013</td>\n",
       "      <td>0</td>\n",
       "      <td>0</td>\n",
       "      <td>-1</td>\n",
       "      <td>0</td>\n",
       "      <td>0</td>\n",
       "      <td>0</td>\n",
       "      <td>0</td>\n",
       "      <td>0</td>\n",
       "      <td>0</td>\n",
       "      <td>...</td>\n",
       "      <td>1</td>\n",
       "      <td>5</td>\n",
       "      <td>0</td>\n",
       "      <td>0</td>\n",
       "      <td>1</td>\n",
       "      <td>0</td>\n",
       "      <td>0</td>\n",
       "      <td>1</td>\n",
       "      <td>-2</td>\n",
       "      <td>-1</td>\n",
       "    </tr>\n",
       "    <tr>\n",
       "      <th>2</th>\n",
       "      <td>7102</td>\n",
       "      <td>0</td>\n",
       "      <td>0</td>\n",
       "      <td>0</td>\n",
       "      <td>0</td>\n",
       "      <td>0</td>\n",
       "      <td>0</td>\n",
       "      <td>0</td>\n",
       "      <td>1</td>\n",
       "      <td>1</td>\n",
       "      <td>...</td>\n",
       "      <td>-1</td>\n",
       "      <td>-5</td>\n",
       "      <td>-5</td>\n",
       "      <td>0</td>\n",
       "      <td>0</td>\n",
       "      <td>5</td>\n",
       "      <td>5</td>\n",
       "      <td>-2</td>\n",
       "      <td>3</td>\n",
       "      <td>-5</td>\n",
       "    </tr>\n",
       "    <tr>\n",
       "      <th>3</th>\n",
       "      <td>7637</td>\n",
       "      <td>-2</td>\n",
       "      <td>0</td>\n",
       "      <td>0</td>\n",
       "      <td>0</td>\n",
       "      <td>0</td>\n",
       "      <td>0</td>\n",
       "      <td>0</td>\n",
       "      <td>0</td>\n",
       "      <td>0</td>\n",
       "      <td>...</td>\n",
       "      <td>2</td>\n",
       "      <td>8</td>\n",
       "      <td>1</td>\n",
       "      <td>0</td>\n",
       "      <td>-1</td>\n",
       "      <td>-1</td>\n",
       "      <td>2</td>\n",
       "      <td>2</td>\n",
       "      <td>-1</td>\n",
       "      <td>-1</td>\n",
       "    </tr>\n",
       "    <tr>\n",
       "      <th>4</th>\n",
       "      <td>12350</td>\n",
       "      <td>0</td>\n",
       "      <td>0</td>\n",
       "      <td>0</td>\n",
       "      <td>0</td>\n",
       "      <td>0</td>\n",
       "      <td>0</td>\n",
       "      <td>0</td>\n",
       "      <td>0</td>\n",
       "      <td>0</td>\n",
       "      <td>...</td>\n",
       "      <td>4</td>\n",
       "      <td>1</td>\n",
       "      <td>0</td>\n",
       "      <td>0</td>\n",
       "      <td>4</td>\n",
       "      <td>3</td>\n",
       "      <td>2</td>\n",
       "      <td>1</td>\n",
       "      <td>1</td>\n",
       "      <td>3</td>\n",
       "    </tr>\n",
       "  </tbody>\n",
       "</table>\n",
       "<p>5 rows × 15841 columns</p>\n",
       "</div>"
      ],
      "text/plain": [
       "      ID  score_1  offensive rebound_1  defensive rebound_1  offensive foul_1  \\\n",
       "0  14186       -2                    0                    0                 0   \n",
       "1  13013        0                    0                   -1                 0   \n",
       "2   7102        0                    0                    0                 0   \n",
       "3   7637       -2                    0                    0                 0   \n",
       "4  12350        0                    0                    0                 0   \n",
       "\n",
       "   defensive foul_1  assist_1  lost ball_1  steals_1  bad pass_1    ...      \\\n",
       "0                 0         0            0         0           0    ...       \n",
       "1                 0         0            0         0           0    ...       \n",
       "2                 0         0            0         1           1    ...       \n",
       "3                 0         0            0         0           0    ...       \n",
       "4                 0         0            0         0           0    ...       \n",
       "\n",
       "   offensive rebound_1440  defensive rebound_1440  offensive foul_1440  \\\n",
       "0                       8                      -4                    2   \n",
       "1                       1                       5                    0   \n",
       "2                      -1                      -5                   -5   \n",
       "3                       2                       8                    1   \n",
       "4                       4                       1                    0   \n",
       "\n",
       "   defensive foul_1440  assist_1440  lost ball_1440  steals_1440  \\\n",
       "0                    0           -3               3            3   \n",
       "1                    0            1               0            0   \n",
       "2                    0            0               5            5   \n",
       "3                    0           -1              -1            2   \n",
       "4                    0            4               3            2   \n",
       "\n",
       "   bad pass_1440  block_1440  miss_1440  \n",
       "0             -2           1          9  \n",
       "1              1          -2         -1  \n",
       "2             -2           3         -5  \n",
       "3              2          -1         -1  \n",
       "4              1           1          3  \n",
       "\n",
       "[5 rows x 15841 columns]"
      ]
     },
     "execution_count": 17,
     "metadata": {},
     "output_type": "execute_result"
    }
   ],
   "source": [
    "print(df.shape)\n",
    "print(target.shape)\n",
    "df.head()"
   ]
  },
  {
   "cell_type": "code",
   "execution_count": 101,
   "metadata": {
    "ExecuteTime": {
     "end_time": "2018-02-12T15:03:40.453809Z",
     "start_time": "2018-02-12T15:03:30.475388Z"
    },
    "scrolled": true
   },
   "outputs": [
    {
     "name": "stdout",
     "output_type": "stream",
     "text": [
      "Probability that the half-time leader is the full-time winner 0.743\n"
     ]
    }
   ],
   "source": [
    "df_tot = pd.merge(df, target, on='ID')\n",
    "# When the HT winner is the FT winner\n",
    "same_mt_f = df_tot[((df_tot.score_1440 <= 0) & (df_tot.label == 0)) | ((df_tot.score_1440 >= 0) & (df_tot.label == 1))]\n",
    "print('Probability that the half-time leader is the full-time winner %.3f' % (len(same_mt_f)/len(df_tot)))"
   ]
  },
  {
   "cell_type": "code",
   "execution_count": 66,
   "metadata": {
    "ExecuteTime": {
     "end_time": "2018-02-12T14:10:07.012826Z",
     "start_time": "2018-02-12T14:10:05.402943Z"
    }
   },
   "outputs": [
    {
     "name": "stdout",
     "output_type": "stream",
     "text": [
      "Probability that the home team wins the game at FT 0.564\n",
      "Probability that the home team wins the game at HT 0.589\n"
     ]
    }
   ],
   "source": [
    "print('Probability that the home team wins the game at FT %.3f' % (len(df_tot[df_tot.label == 0])/len(df_tot)))\n",
    "print('Probability that the home team wins the game at HT %.3f' % (len(df_tot[df_tot.score_1440 <= 0])/len(df_tot)))"
   ]
  },
  {
   "cell_type": "code",
   "execution_count": 42,
   "metadata": {
    "ExecuteTime": {
     "end_time": "2018-02-12T13:48:38.938688Z",
     "start_time": "2018-02-12T13:48:38.607782Z"
    }
   },
   "outputs": [
    {
     "data": {
      "image/png": "[encoded data removed]",
      "text/plain": [
       "<matplotlib.figure.Figure at 0x116e88470>"
      ]
     },
     "metadata": {},
     "output_type": "display_data"
    }
   ],
   "source": [
    "corr_ht = df_tot[[k for k in df_tot.columns if '1440' in k and 'defensive foul' not in k]+['label']].corr()\n",
    "sns.heatmap(corr_ht, mask=np.zeros_like(corr_ht, dtype=np.bool), cmap=sns.diverging_palette(220, 10, as_cmap=True),\n",
    "            square=True)\n",
    "_ = plt.title('Features correlation at half-time and winner')"
   ]
  },
  {
   "cell_type": "code",
   "execution_count": 102,
   "metadata": {
    "ExecuteTime": {
     "end_time": "2018-02-12T15:04:21.055615Z",
     "start_time": "2018-02-12T15:03:40.455721Z"
    }
   },
   "outputs": [
    {
     "name": "stdout",
     "output_type": "stream",
     "text": [
      "Current key indicators : {'miss', 'offensive rebound', 'score', 'block', 'steals', 'offensive foul', 'assist', 'lost ball', 'bad pass', 'defensive rebound', 'defensive foul'}\n",
      "Added total (off+def) rebound stats\n"
     ]
    }
   ],
   "source": [
    "# Add new stats\n",
    "ki = set([k.split('_')[0] for k in df_tot.columns if k not in ['label', 'ID']])\n",
    "print('Current key indicators :', ki)\n",
    "\n",
    "# Add total rebound\n",
    "for k in range(1,1441):\n",
    "    df_tot['total rebound_%d' % k] = df_tot['offensive rebound_%d' % k] + df_tot['defensive rebound_%d' % k]\n",
    "\n",
    "# Re-sort columns\n",
    "def sorter(x):\n",
    "    if x not in ['label', 'ID']:\n",
    "        return int(x.split('_')[1])\n",
    "    else:\n",
    "        return 0\n",
    "    \n",
    "df_tot = df_tot[sorted(df_tot.columns, key=sorter)]\n",
    "print('Added total (off+def) rebound stats')"
   ]
  },
  {
   "cell_type": "code",
   "execution_count": 109,
   "metadata": {
    "ExecuteTime": {
     "end_time": "2018-02-12T15:05:26.845062Z",
     "start_time": "2018-02-12T15:05:25.305098Z"
    },
    "scrolled": false
   },
   "outputs": [
    {
     "data": {
      "image/png": "[encoded data removed]",
      "text/plain": [
       "<matplotlib.figure.Figure at 0x119e8bd68>"
      ]
     },
     "metadata": {},
     "output_type": "display_data"
    }
   ],
   "source": [
    "f, ax = plt.subplots()\n",
    "df_tot[[k for k in df_tot.columns if 'score' in k]].mean().plot(ax=ax, label='score')\n",
    "df_tot[[k for k in df_tot.columns if 'total rebound' in k]].mean().plot(ax=ax, label='rebound')\n",
    "df_tot[[k for k in df_tot.columns if 'assist' in k]].mean().plot(ax=ax, label='assist')\n",
    "ax.set_title('Advantage key indicator for the home team')\n",
    "ax.set_xlabel('Seconds')\n",
    "_ = ax.legend()"
   ]
  },
  {
   "cell_type": "markdown",
   "metadata": {},
   "source": [
    "https://github.com/Azure/lstms_for_predictive_maintenance/blob/master/Deep%20Learning%20Basics%20for%20Predictive%20Maintenance.ipynb  \n",
    "Keras LSTM layers expect an input in the shape of a numpy array of 3 dimensions (samples, time steps, features) where samples is the number of training sequences, time steps is the look back window or sequence length and features is the number of features of each sequence at each time step."
   ]
  },
  {
   "cell_type": "code",
   "execution_count": 119,
   "metadata": {
    "ExecuteTime": {
     "end_time": "2018-02-12T15:12:29.645281Z",
     "start_time": "2018-02-12T15:12:29.640898Z"
    }
   },
   "outputs": [
    {
     "name": "stdout",
     "output_type": "stream",
     "text": [
      "Initial Shape (10, 17282)\n"
     ]
    }
   ],
   "source": [
    "# Reformat with only 10 games\n",
    "# For the reformating with reshape the dataframe\n",
    "# from (10, 17282) to (10*1440, n_features)\n",
    "df1 = df_tot.head(10)"
   ]
  },
  {
   "cell_type": "code",
   "execution_count": 159,
   "metadata": {
    "ExecuteTime": {
     "end_time": "2018-02-12T15:32:44.941444Z",
     "start_time": "2018-02-12T15:32:28.073476Z"
    }
   },
   "outputs": [],
   "source": [
    "df1_tot = pd.DataFrame()\n",
    "for sec in range(1,1441):\n",
    "    df_sec = df1[['ID', 'label']+[k for k in df1.columns if k not in ['label', 'ID'] and k.split('_')[1] == str(sec)]]\n",
    "    df_sec.columns = [k.split('_')[0] if k not in ['ID', 'time_step', 'label'] else k for k in df_sec.columns]\n",
    "    df_sec = df_sec.assign(time_step = sec)\n",
    "    df1_tot = pd.concat([df1_tot, df_sec])\n",
    "df1_tot = df1_tot.sort_values(['ID', 'time_step'])"
   ]
  },
  {
   "cell_type": "code",
   "execution_count": 163,
   "metadata": {
    "ExecuteTime": {
     "end_time": "2018-02-12T15:34:29.581901Z",
     "start_time": "2018-02-12T15:34:29.567272Z"
    }
   },
   "outputs": [
    {
     "data": {
      "text/html": [
       "<div>\n",
       "<style scoped>\n",
       "    .dataframe tbody tr th:only-of-type {\n",
       "        vertical-align: middle;\n",
       "    }\n",
       "\n",
       "    .dataframe tbody tr th {\n",
       "        vertical-align: top;\n",
       "    }\n",
       "\n",
       "    .dataframe thead th {\n",
       "        text-align: right;\n",
       "    }\n",
       "</style>\n",
       "<table border=\"1\" class=\"dataframe\">\n",
       "  <thead>\n",
       "    <tr style=\"text-align: right;\">\n",
       "      <th></th>\n",
       "      <th>ID</th>\n",
       "      <th>label</th>\n",
       "      <th>score</th>\n",
       "      <th>offensive rebound</th>\n",
       "      <th>defensive rebound</th>\n",
       "      <th>offensive foul</th>\n",
       "      <th>defensive foul</th>\n",
       "      <th>assist</th>\n",
       "      <th>lost ball</th>\n",
       "      <th>steals</th>\n",
       "      <th>bad pass</th>\n",
       "      <th>block</th>\n",
       "      <th>miss</th>\n",
       "      <th>total rebound</th>\n",
       "      <th>time_step</th>\n",
       "    </tr>\n",
       "  </thead>\n",
       "  <tbody>\n",
       "    <tr>\n",
       "      <th>9</th>\n",
       "      <td>2147</td>\n",
       "      <td>1</td>\n",
       "      <td>0</td>\n",
       "      <td>0</td>\n",
       "      <td>0</td>\n",
       "      <td>0</td>\n",
       "      <td>0</td>\n",
       "      <td>0</td>\n",
       "      <td>0</td>\n",
       "      <td>0</td>\n",
       "      <td>0</td>\n",
       "      <td>0</td>\n",
       "      <td>1</td>\n",
       "      <td>0</td>\n",
       "      <td>1</td>\n",
       "    </tr>\n",
       "    <tr>\n",
       "      <th>9</th>\n",
       "      <td>2147</td>\n",
       "      <td>1</td>\n",
       "      <td>0</td>\n",
       "      <td>0</td>\n",
       "      <td>0</td>\n",
       "      <td>0</td>\n",
       "      <td>0</td>\n",
       "      <td>0</td>\n",
       "      <td>0</td>\n",
       "      <td>0</td>\n",
       "      <td>0</td>\n",
       "      <td>0</td>\n",
       "      <td>1</td>\n",
       "      <td>0</td>\n",
       "      <td>2</td>\n",
       "    </tr>\n",
       "    <tr>\n",
       "      <th>9</th>\n",
       "      <td>2147</td>\n",
       "      <td>1</td>\n",
       "      <td>0</td>\n",
       "      <td>0</td>\n",
       "      <td>0</td>\n",
       "      <td>0</td>\n",
       "      <td>0</td>\n",
       "      <td>0</td>\n",
       "      <td>0</td>\n",
       "      <td>0</td>\n",
       "      <td>0</td>\n",
       "      <td>0</td>\n",
       "      <td>1</td>\n",
       "      <td>0</td>\n",
       "      <td>3</td>\n",
       "    </tr>\n",
       "    <tr>\n",
       "      <th>9</th>\n",
       "      <td>2147</td>\n",
       "      <td>1</td>\n",
       "      <td>0</td>\n",
       "      <td>0</td>\n",
       "      <td>0</td>\n",
       "      <td>0</td>\n",
       "      <td>0</td>\n",
       "      <td>0</td>\n",
       "      <td>0</td>\n",
       "      <td>0</td>\n",
       "      <td>0</td>\n",
       "      <td>0</td>\n",
       "      <td>1</td>\n",
       "      <td>0</td>\n",
       "      <td>4</td>\n",
       "    </tr>\n",
       "    <tr>\n",
       "      <th>9</th>\n",
       "      <td>2147</td>\n",
       "      <td>1</td>\n",
       "      <td>0</td>\n",
       "      <td>0</td>\n",
       "      <td>0</td>\n",
       "      <td>0</td>\n",
       "      <td>0</td>\n",
       "      <td>0</td>\n",
       "      <td>0</td>\n",
       "      <td>0</td>\n",
       "      <td>0</td>\n",
       "      <td>0</td>\n",
       "      <td>1</td>\n",
       "      <td>0</td>\n",
       "      <td>5</td>\n",
       "    </tr>\n",
       "  </tbody>\n",
       "</table>\n",
       "</div>"
      ],
      "text/plain": [
       "     ID  label  score  offensive rebound  defensive rebound  offensive foul  \\\n",
       "9  2147      1      0                  0                  0               0   \n",
       "9  2147      1      0                  0                  0               0   \n",
       "9  2147      1      0                  0                  0               0   \n",
       "9  2147      1      0                  0                  0               0   \n",
       "9  2147      1      0                  0                  0               0   \n",
       "\n",
       "   defensive foul  assist  lost ball  steals  bad pass  block  miss  \\\n",
       "9               0       0          0       0         0      0     1   \n",
       "9               0       0          0       0         0      0     1   \n",
       "9               0       0          0       0         0      0     1   \n",
       "9               0       0          0       0         0      0     1   \n",
       "9               0       0          0       0         0      0     1   \n",
       "\n",
       "   total rebound  time_step  \n",
       "9              0          1  \n",
       "9              0          2  \n",
       "9              0          3  \n",
       "9              0          4  \n",
       "9              0          5  "
      ]
     },
     "execution_count": 163,
     "metadata": {},
     "output_type": "execute_result"
    }
   ],
   "source": [
    "df1_tot.head()"
   ]
  },
  {
   "cell_type": "code",
   "execution_count": 166,
   "metadata": {
    "ExecuteTime": {
     "end_time": "2018-02-12T15:36:03.734078Z",
     "start_time": "2018-02-12T15:36:03.729862Z"
    }
   },
   "outputs": [
    {
     "name": "stdout",
     "output_type": "stream",
     "text": [
      "Initial Shape (10, 17282)\n",
      "Final Shape (14400, 15)\n"
     ]
    }
   ],
   "source": [
    "print('Initial Shape', df1.shape)\n",
    "print('Final Shape', df1_tot.shape)"
   ]
  },
  {
   "cell_type": "code",
   "execution_count": 184,
   "metadata": {
    "ExecuteTime": {
     "end_time": "2018-02-12T15:43:24.266079Z",
     "start_time": "2018-02-12T15:43:24.260437Z"
    }
   },
   "outputs": [],
   "source": [
    "# function to reshape features into (samples, time steps, features) \n",
    "def gen_sequence(df, seq_length, seq_cols):\n",
    "    data_array = df[seq_cols].values\n",
    "    num_elements = data_array.shape[0]\n",
    "    for start, stop in zip(range(0, num_elements-seq_length), range(seq_length, num_elements)):\n",
    "        yield data_array[start:stop, :]"
   ]
  },
  {
   "cell_type": "code",
   "execution_count": 172,
   "metadata": {
    "ExecuteTime": {
     "end_time": "2018-02-12T15:38:45.768123Z",
     "start_time": "2018-02-12T15:38:45.765216Z"
    }
   },
   "outputs": [],
   "source": [
    "cols = ['score', 'offensive rebound', 'defensive rebound',\n",
    "       'offensive foul', 'defensive foul', 'assist', 'lost ball', 'steals',\n",
    "       'bad pass', 'block', 'miss', 'total rebound']"
   ]
  },
  {
   "cell_type": "code",
   "execution_count": 201,
   "metadata": {
    "ExecuteTime": {
     "end_time": "2018-02-12T15:48:38.745430Z",
     "start_time": "2018-02-12T15:48:38.741415Z"
    }
   },
   "outputs": [],
   "source": [
    "seq_gen = (list(gen_sequence(df1_tot[df1_tot['ID']==ID], 500, cols)) \n",
    "           for ID in df1_tot['ID'].unique())"
   ]
  },
  {
   "cell_type": "code",
   "execution_count": 202,
   "metadata": {
    "ExecuteTime": {
     "end_time": "2018-02-12T15:48:40.154854Z",
     "start_time": "2018-02-12T15:48:39.267839Z"
    }
   },
   "outputs": [
    {
     "data": {
      "text/plain": [
       "(9400, 500, 12)"
      ]
     },
     "execution_count": 202,
     "metadata": {},
     "output_type": "execute_result"
    }
   ],
   "source": [
    "seq_array = np.concatenate(list(seq_gen)).astype(np.float32)\n",
    "seq_array.shape"
   ]
  },
  {
   "cell_type": "code",
   "execution_count": 203,
   "metadata": {
    "ExecuteTime": {
     "end_time": "2018-02-12T15:48:43.766561Z",
     "start_time": "2018-02-12T15:48:43.762668Z"
    }
   },
   "outputs": [],
   "source": [
    "def gen_labels(id_df, seq_length, label):\n",
    "    data_array = id_df[label].values\n",
    "    num_elements = data_array.shape[0]\n",
    "    return data_array[seq_length:num_elements, :]"
   ]
  },
  {
   "cell_type": "code",
   "execution_count": 204,
   "metadata": {
    "ExecuteTime": {
     "end_time": "2018-02-12T15:48:47.172515Z",
     "start_time": "2018-02-12T15:48:47.138920Z"
    }
   },
   "outputs": [
    {
     "data": {
      "text/plain": [
       "(9400, 1)"
      ]
     },
     "execution_count": 204,
     "metadata": {},
     "output_type": "execute_result"
    }
   ],
   "source": [
    "label_gen = [gen_labels(df1_tot[df1_tot['ID']==ID], 500, ['label']) \n",
    "             for ID in df1_tot['ID'].unique()]\n",
    "label_array = np.concatenate(label_gen).astype(np.float32)\n",
    "label_array.shape"
   ]
  },
  {
   "cell_type": "code",
   "execution_count": 207,
   "metadata": {
    "ExecuteTime": {
     "end_time": "2018-02-12T15:53:06.506206Z",
     "start_time": "2018-02-12T15:53:05.822687Z"
    }
   },
   "outputs": [],
   "source": [
    "nb_features = seq_array.shape[2]\n",
    "nb_out = label_array.shape[1]\n",
    "\n",
    "model = Sequential()\n",
    "\n",
    "model.add(LSTM(\n",
    "         input_shape=(500, nb_features),\n",
    "         units=100,\n",
    "         return_sequences=True))\n",
    "model.add(Dropout(0.2))\n",
    "\n",
    "model.add(LSTM(\n",
    "          units=50,\n",
    "          return_sequences=False))\n",
    "model.add(Dropout(0.2))\n",
    "\n",
    "model.add(Dense(units=nb_out, activation='sigmoid'))\n",
    "model.compile(loss='binary_crossentropy', optimizer='adam', metrics=['accuracy'])"
   ]
  },
  {
   "cell_type": "code",
   "execution_count": 210,
   "metadata": {
    "ExecuteTime": {
     "end_time": "2018-02-12T15:56:57.694049Z",
     "start_time": "2018-02-12T15:56:57.690930Z"
    },
    "scrolled": true
   },
   "outputs": [],
   "source": [
    "# fit the network\n",
    "model.fit(seq_array, label_array, epochs=10, batch_size=200, validation_split=0.05, verbose=1)"
   ]
  },
  {
   "cell_type": "code",
   "execution_count": null,
   "metadata": {},
   "outputs": [],
   "source": []
  }
 ],
 "metadata": {
  "kernelspec": {
   "display_name": "Python 3",
   "language": "python",
   "name": "python3"
  },
  "language_info": {
   "codemirror_mode": {
    "name": "ipython",
    "version": 3
   },
   "file_extension": ".py",
   "mimetype": "text/x-python",
   "name": "python",
   "nbconvert_exporter": "python",
   "pygments_lexer": "ipython3",
   "version": "3.6.3"
  },
  "toc": {
   "nav_menu": {},
   "number_sections": true,
   "sideBar": true,
   "skip_h1_title": false,
   "toc_cell": false,
   "toc_position": {},
   "toc_section_display": "block",
   "toc_window_display": false
  }
 },
 "nbformat": 4,
 "nbformat_minor": 2
}
