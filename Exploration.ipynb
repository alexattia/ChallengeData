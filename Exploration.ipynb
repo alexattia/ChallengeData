{
 "cells": [
  {
   "cell_type": "code",
   "execution_count": 1,
   "metadata": {
    "ExecuteTime": {
     "end_time": "2018-02-27T16:00:35.346650Z",
     "start_time": "2018-02-27T16:00:25.661095Z"
    }
   },
   "outputs": [
    {
     "name": "stderr",
     "output_type": "stream",
     "text": [
      "/home/alexattia/anaconda3/lib/python3.6/site-packages/h5py/__init__.py:36: FutureWarning: Conversion of the second argument of issubdtype from `float` to `np.floating` is deprecated. In future, it will be treated as `np.float64 == np.dtype(float).type`.\n",
      "  from ._conv import register_converters as _register_converters\n",
      "Using TensorFlow backend.\n"
     ]
    }
   ],
   "source": [
    "import pandas as pd\n",
    "import numpy as np\n",
    "import csv\n",
    "import matplotlib.pyplot as plt\n",
    "import seaborn as sns\n",
    "from sklearn.metrics import confusion_matrix, recall_score, precision_score\n",
    "from keras.models import Sequential\n",
    "from keras.layers import Dense, Dropout, LSTM, Activation\n",
    "%matplotlib inline"
   ]
  },
  {
   "cell_type": "code",
   "execution_count": 2,
   "metadata": {
    "ExecuteTime": {
     "end_time": "2018-02-27T16:01:04.805143Z",
     "start_time": "2018-02-27T16:00:41.376656Z"
    }
   },
   "outputs": [],
   "source": [
    "df = pd.read_csv('./train.csv')"
   ]
  },
  {
   "cell_type": "code",
   "execution_count": 43,
   "metadata": {
    "ExecuteTime": {
     "end_time": "2018-02-27T17:47:15.092329Z",
     "start_time": "2018-02-27T17:47:04.473618Z"
    }
   },
   "outputs": [],
   "source": [
    "df_test = pd.read_csv('./test.csv')"
   ]
  },
  {
   "cell_type": "code",
   "execution_count": 3,
   "metadata": {
    "ExecuteTime": {
     "end_time": "2018-02-27T16:01:11.895343Z",
     "start_time": "2018-02-27T16:01:11.881358Z"
    }
   },
   "outputs": [],
   "source": [
    "target = pd.read_csv('./challenge_output_data_training_file_nba_challenge.csv', sep=';')"
   ]
  },
  {
   "cell_type": "markdown",
   "metadata": {},
   "source": [
    "**Data**   \n",
    "Play-by-play datasets from the last 15 NBA seasons.  \n",
    "Each game is described by 11 variables for every second of the game from the fist halft (1440 seconds, **1440x11 = 15840 columns**). These variables such as : \"offensive rebound\", \"defensive rebound\", \"offensive foul\", \"defensive foul\", \"assist\", \"lost ball\",  \"steals\", \"bad pass\",\"block\", \"miss\" difference between the invited and home team. The scores/key indicators - represent the current score/key indicators differences.\n",
    "\n",
    "The training set : 12576 NBA games.  \n",
    "The test set : 4192 games."
   ]
  },
  {
   "cell_type": "code",
   "execution_count": 4,
   "metadata": {
    "ExecuteTime": {
     "end_time": "2018-02-27T13:18:01.964021Z",
     "start_time": "2018-02-27T13:18:01.918031Z"
    }
   },
   "outputs": [
    {
     "name": "stdout",
     "output_type": "stream",
     "text": [
      "(12576, 15841)\n",
      "(12576, 2)\n"
     ]
    },
    {
     "data": {
      "text/html": [
       "<div>\n",
       "<style>\n",
       "    .dataframe thead tr:only-child th {\n",
       "        text-align: right;\n",
       "    }\n",
       "\n",
       "    .dataframe thead th {\n",
       "        text-align: left;\n",
       "    }\n",
       "\n",
       "    .dataframe tbody tr th {\n",
       "        vertical-align: top;\n",
       "    }\n",
       "</style>\n",
       "<table border=\"1\" class=\"dataframe\">\n",
       "  <thead>\n",
       "    <tr style=\"text-align: right;\">\n",
       "      <th></th>\n",
       "      <th>ID</th>\n",
       "      <th>score_1</th>\n",
       "      <th>offensive rebound_1</th>\n",
       "      <th>defensive rebound_1</th>\n",
       "      <th>offensive foul_1</th>\n",
       "      <th>defensive foul_1</th>\n",
       "      <th>assist_1</th>\n",
       "      <th>lost ball_1</th>\n",
       "      <th>steals_1</th>\n",
       "      <th>bad pass_1</th>\n",
       "      <th>...</th>\n",
       "      <th>offensive rebound_1440</th>\n",
       "      <th>defensive rebound_1440</th>\n",
       "      <th>offensive foul_1440</th>\n",
       "      <th>defensive foul_1440</th>\n",
       "      <th>assist_1440</th>\n",
       "      <th>lost ball_1440</th>\n",
       "      <th>steals_1440</th>\n",
       "      <th>bad pass_1440</th>\n",
       "      <th>block_1440</th>\n",
       "      <th>miss_1440</th>\n",
       "    </tr>\n",
       "  </thead>\n",
       "  <tbody>\n",
       "    <tr>\n",
       "      <th>0</th>\n",
       "      <td>14186</td>\n",
       "      <td>-2</td>\n",
       "      <td>0</td>\n",
       "      <td>0</td>\n",
       "      <td>0</td>\n",
       "      <td>0</td>\n",
       "      <td>0</td>\n",
       "      <td>0</td>\n",
       "      <td>0</td>\n",
       "      <td>0</td>\n",
       "      <td>...</td>\n",
       "      <td>8</td>\n",
       "      <td>-4</td>\n",
       "      <td>2</td>\n",
       "      <td>0</td>\n",
       "      <td>-3</td>\n",
       "      <td>3</td>\n",
       "      <td>3</td>\n",
       "      <td>-2</td>\n",
       "      <td>1</td>\n",
       "      <td>9</td>\n",
       "    </tr>\n",
       "    <tr>\n",
       "      <th>1</th>\n",
       "      <td>13013</td>\n",
       "      <td>0</td>\n",
       "      <td>0</td>\n",
       "      <td>-1</td>\n",
       "      <td>0</td>\n",
       "      <td>0</td>\n",
       "      <td>0</td>\n",
       "      <td>0</td>\n",
       "      <td>0</td>\n",
       "      <td>0</td>\n",
       "      <td>...</td>\n",
       "      <td>1</td>\n",
       "      <td>5</td>\n",
       "      <td>0</td>\n",
       "      <td>0</td>\n",
       "      <td>1</td>\n",
       "      <td>0</td>\n",
       "      <td>0</td>\n",
       "      <td>1</td>\n",
       "      <td>-2</td>\n",
       "      <td>-1</td>\n",
       "    </tr>\n",
       "    <tr>\n",
       "      <th>2</th>\n",
       "      <td>7102</td>\n",
       "      <td>0</td>\n",
       "      <td>0</td>\n",
       "      <td>0</td>\n",
       "      <td>0</td>\n",
       "      <td>0</td>\n",
       "      <td>0</td>\n",
       "      <td>0</td>\n",
       "      <td>1</td>\n",
       "      <td>1</td>\n",
       "      <td>...</td>\n",
       "      <td>-1</td>\n",
       "      <td>-5</td>\n",
       "      <td>-5</td>\n",
       "      <td>0</td>\n",
       "      <td>0</td>\n",
       "      <td>5</td>\n",
       "      <td>5</td>\n",
       "      <td>-2</td>\n",
       "      <td>3</td>\n",
       "      <td>-5</td>\n",
       "    </tr>\n",
       "    <tr>\n",
       "      <th>3</th>\n",
       "      <td>7637</td>\n",
       "      <td>-2</td>\n",
       "      <td>0</td>\n",
       "      <td>0</td>\n",
       "      <td>0</td>\n",
       "      <td>0</td>\n",
       "      <td>0</td>\n",
       "      <td>0</td>\n",
       "      <td>0</td>\n",
       "      <td>0</td>\n",
       "      <td>...</td>\n",
       "      <td>2</td>\n",
       "      <td>8</td>\n",
       "      <td>1</td>\n",
       "      <td>0</td>\n",
       "      <td>-1</td>\n",
       "      <td>-1</td>\n",
       "      <td>2</td>\n",
       "      <td>2</td>\n",
       "      <td>-1</td>\n",
       "      <td>-1</td>\n",
       "    </tr>\n",
       "    <tr>\n",
       "      <th>4</th>\n",
       "      <td>12350</td>\n",
       "      <td>0</td>\n",
       "      <td>0</td>\n",
       "      <td>0</td>\n",
       "      <td>0</td>\n",
       "      <td>0</td>\n",
       "      <td>0</td>\n",
       "      <td>0</td>\n",
       "      <td>0</td>\n",
       "      <td>0</td>\n",
       "      <td>...</td>\n",
       "      <td>4</td>\n",
       "      <td>1</td>\n",
       "      <td>0</td>\n",
       "      <td>0</td>\n",
       "      <td>4</td>\n",
       "      <td>3</td>\n",
       "      <td>2</td>\n",
       "      <td>1</td>\n",
       "      <td>1</td>\n",
       "      <td>3</td>\n",
       "    </tr>\n",
       "  </tbody>\n",
       "</table>\n",
       "<p>5 rows × 15841 columns</p>\n",
       "</div>"
      ],
      "text/plain": [
       "      ID  score_1  offensive rebound_1  defensive rebound_1  offensive foul_1  \\\n",
       "0  14186       -2                    0                    0                 0   \n",
       "1  13013        0                    0                   -1                 0   \n",
       "2   7102        0                    0                    0                 0   \n",
       "3   7637       -2                    0                    0                 0   \n",
       "4  12350        0                    0                    0                 0   \n",
       "\n",
       "   defensive foul_1  assist_1  lost ball_1  steals_1  bad pass_1    ...      \\\n",
       "0                 0         0            0         0           0    ...       \n",
       "1                 0         0            0         0           0    ...       \n",
       "2                 0         0            0         1           1    ...       \n",
       "3                 0         0            0         0           0    ...       \n",
       "4                 0         0            0         0           0    ...       \n",
       "\n",
       "   offensive rebound_1440  defensive rebound_1440  offensive foul_1440  \\\n",
       "0                       8                      -4                    2   \n",
       "1                       1                       5                    0   \n",
       "2                      -1                      -5                   -5   \n",
       "3                       2                       8                    1   \n",
       "4                       4                       1                    0   \n",
       "\n",
       "   defensive foul_1440  assist_1440  lost ball_1440  steals_1440  \\\n",
       "0                    0           -3               3            3   \n",
       "1                    0            1               0            0   \n",
       "2                    0            0               5            5   \n",
       "3                    0           -1              -1            2   \n",
       "4                    0            4               3            2   \n",
       "\n",
       "   bad pass_1440  block_1440  miss_1440  \n",
       "0             -2           1          9  \n",
       "1              1          -2         -1  \n",
       "2             -2           3         -5  \n",
       "3              2          -1         -1  \n",
       "4              1           1          3  \n",
       "\n",
       "[5 rows x 15841 columns]"
      ]
     },
     "execution_count": 4,
     "metadata": {},
     "output_type": "execute_result"
    }
   ],
   "source": [
    "print(df.shape)\n",
    "print(target.shape)\n",
    "df.head()"
   ]
  },
  {
   "cell_type": "code",
   "execution_count": 4,
   "metadata": {
    "ExecuteTime": {
     "end_time": "2018-02-27T16:01:16.976297Z",
     "start_time": "2018-02-27T16:01:15.101104Z"
    },
    "scrolled": true
   },
   "outputs": [
    {
     "name": "stdout",
     "output_type": "stream",
     "text": [
      "Probability that the half-time leader is the full-time winner 0.743\n"
     ]
    }
   ],
   "source": [
    "df_tot = pd.merge(df, target, on='ID')\n",
    "# When the HT winner is the FT winner\n",
    "same_mt_f = df_tot[((df_tot.score_1440 <= 0) & (df_tot.label == 0)) | ((df_tot.score_1440 >= 0) & (df_tot.label == 1))]\n",
    "print('Probability that the half-time leader is the full-time winner %.3f' % (len(same_mt_f)/len(df_tot)))"
   ]
  },
  {
   "cell_type": "code",
   "execution_count": 7,
   "metadata": {
    "ExecuteTime": {
     "end_time": "2018-02-12T14:10:07.012826Z",
     "start_time": "2018-02-12T14:10:05.402943Z"
    }
   },
   "outputs": [
    {
     "name": "stdout",
     "output_type": "stream",
     "text": [
      "Probability that the home team wins the game at FT 0.564\n",
      "Probability that the home team wins the game at HT 0.589\n"
     ]
    }
   ],
   "source": [
    "print('Probability that the home team wins the game at FT %.3f' % (len(df_tot[df_tot.label == 0])/len(df_tot)))\n",
    "print('Probability that the home team wins the game at HT %.3f' % (len(df_tot[df_tot.score_1440 <= 0])/len(df_tot)))"
   ]
  },
  {
   "cell_type": "code",
   "execution_count": 6,
   "metadata": {
    "ExecuteTime": {
     "end_time": "2018-02-27T13:18:11.203994Z",
     "start_time": "2018-02-27T13:18:10.984964Z"
    }
   },
   "outputs": [
    {
     "data": {
      "image/png": "[encoded data removed]",
      "text/plain": [
       "<matplotlib.figure.Figure at 0x7f104f44bb70>"
      ]
     },
     "metadata": {},
     "output_type": "display_data"
    }
   ],
   "source": [
    "corr_ht = df_tot[[k for k in df_tot.columns if '1440' in k and 'defensive foul' not in k]+['label']].corr()\n",
    "sns.heatmap(corr_ht, mask=np.zeros_like(corr_ht, dtype=np.bool), cmap=sns.diverging_palette(220, 10, as_cmap=True),\n",
    "            square=True)\n",
    "_ = plt.title('Features correlation at half-time and winner')"
   ]
  },
  {
   "cell_type": "code",
   "execution_count": 5,
   "metadata": {
    "ExecuteTime": {
     "end_time": "2018-02-27T16:01:41.191795Z",
     "start_time": "2018-02-27T16:01:23.819861Z"
    }
   },
   "outputs": [
    {
     "name": "stdout",
     "output_type": "stream",
     "text": [
      "Current key indicators : {'assist', 'offensive rebound', 'defensive rebound', 'block', 'defensive foul', 'miss', 'steals', 'offensive foul', 'score', 'lost ball', 'bad pass'}\n",
      "Added total (off+def) rebound stats\n"
     ]
    }
   ],
   "source": [
    "# Add new stats\n",
    "ki = set([k.split('_')[0] for k in df_tot.columns if k not in ['label', 'ID']])\n",
    "print('Current key indicators :', ki)\n",
    "\n",
    "# Add total rebound\n",
    "for k in range(1,1441):\n",
    "    df_tot['total rebound_%d' % k] = df_tot['offensive rebound_%d' % k] + df_tot['defensive rebound_%d' % k]\n",
    "\n",
    "# Re-sort columns\n",
    "def sorter(x):\n",
    "    if x not in ['label', 'ID']:\n",
    "        return int(x.split('_')[1])\n",
    "    else:\n",
    "        return 0\n",
    "    \n",
    "df_tot = df_tot[sorted(df_tot.columns, key=sorter)]\n",
    "print('Added total (off+def) rebound stats')"
   ]
  },
  {
   "cell_type": "code",
   "execution_count": 44,
   "metadata": {
    "ExecuteTime": {
     "end_time": "2018-02-27T17:47:22.172527Z",
     "start_time": "2018-02-27T17:47:15.093313Z"
    }
   },
   "outputs": [
    {
     "name": "stdout",
     "output_type": "stream",
     "text": [
      "Current key indicators : {'assist', 'offensive rebound', 'defensive rebound', 'block', 'defensive foul', 'miss', 'steals', 'offensive foul', 'score', 'lost ball', 'bad pass'}\n",
      "Added total (off+def) rebound stats\n"
     ]
    }
   ],
   "source": [
    "# Add new stats\n",
    "ki = set([k.split('_')[0] for k in df_test.columns if k not in ['label', 'ID']])\n",
    "print('Current key indicators :', ki)\n",
    "\n",
    "# Add total rebound\n",
    "for k in range(1,1441):\n",
    "    df_test['total rebound_%d' % k] = df_test['offensive rebound_%d' % k] + df_test['defensive rebound_%d' % k]\n",
    "\n",
    "# Re-sort columns\n",
    "def sorter(x):\n",
    "    if x not in ['label', 'ID']:\n",
    "        return int(x.split('_')[1])\n",
    "    else:\n",
    "        return 0\n",
    "    \n",
    "df_test = df_test[sorted(df_test.columns, key=sorter)]\n",
    "print('Added total (off+def) rebound stats')"
   ]
  },
  {
   "cell_type": "code",
   "execution_count": 10,
   "metadata": {
    "ExecuteTime": {
     "end_time": "2018-02-12T15:05:26.845062Z",
     "start_time": "2018-02-12T15:05:25.305098Z"
    },
    "scrolled": false
   },
   "outputs": [
    {
     "data": {
      "image/png": "[encoded data removed]",
      "text/plain": [
       "<matplotlib.figure.Figure at 0x11a62eeb8>"
      ]
     },
     "metadata": {},
     "output_type": "display_data"
    }
   ],
   "source": [
    "f, ax = plt.subplots()\n",
    "df_tot[[k for k in df_tot.columns if 'score' in k]].mean().plot(ax=ax, label='score')\n",
    "df_tot[[k for k in df_tot.columns if 'total rebound' in k]].mean().plot(ax=ax, label='rebound')\n",
    "df_tot[[k for k in df_tot.columns if 'assist' in k]].mean().plot(ax=ax, label='assist')\n",
    "ax.set_title('Advantage key indicator for the home team')\n",
    "ax.set_xlabel('Seconds')\n",
    "_ = ax.legend()"
   ]
  },
  {
   "cell_type": "markdown",
   "metadata": {},
   "source": [
    "https://github.com/Azure/lstms_for_predictive_maintenance/blob/master/Deep%20Learning%20Basics%20for%20Predictive%20Maintenance.ipynb  \n",
    "Keras LSTM layers expect an input in the shape of a numpy array of 3 dimensions (samples, time steps, features) where samples is the number of training sequences, time steps is the look back window or sequence length and features is the number of features of each sequence at each time step."
   ]
  },
  {
   "cell_type": "code",
   "execution_count": 6,
   "metadata": {
    "ExecuteTime": {
     "end_time": "2018-02-27T14:53:05.895668Z",
     "start_time": "2018-02-27T14:53:05.892867Z"
    }
   },
   "outputs": [
    {
     "data": {
      "text/plain": [
       "(12576, 17282)"
      ]
     },
     "execution_count": 6,
     "metadata": {},
     "output_type": "execute_result"
    }
   ],
   "source": [
    "df_tot.shape"
   ]
  },
  {
   "cell_type": "code",
   "execution_count": 6,
   "metadata": {
    "ExecuteTime": {
     "end_time": "2018-02-27T16:01:49.732512Z",
     "start_time": "2018-02-27T16:01:49.728340Z"
    }
   },
   "outputs": [],
   "source": [
    "# Reformat with only 10 games\n",
    "# For the reformating with reshape the dataframe\n",
    "# from (10, 17282) to (10*1440, n_features)\n",
    "df1 = df_tot#.sample(1000)"
   ]
  },
  {
   "cell_type": "code",
   "execution_count": 7,
   "metadata": {
    "ExecuteTime": {
     "end_time": "2018-02-27T16:10:35.411250Z",
     "start_time": "2018-02-27T16:01:59.416899Z"
    }
   },
   "outputs": [],
   "source": [
    "df1_tot = pd.DataFrame()\n",
    "for sec in range(1,1441):\n",
    "    df_sec = df1[['ID', 'label']+[k for k in df1.columns if k not in ['label', 'ID'] and k.split('_')[1] == str(sec)]]\n",
    "    df_sec.columns = [k.split('_')[0] if k not in ['ID', 'time_step', 'label'] else k for k in df_sec.columns]\n",
    "    df_sec = df_sec.assign(time_step = sec)\n",
    "    df1_tot = pd.concat([df1_tot, df_sec])\n",
    "df1_tot = df1_tot.sort_values(['ID', 'time_step'])"
   ]
  },
  {
   "cell_type": "code",
   "execution_count": 46,
   "metadata": {
    "ExecuteTime": {
     "end_time": "2018-02-27T17:50:22.854395Z",
     "start_time": "2018-02-27T17:47:53.781070Z"
    }
   },
   "outputs": [],
   "source": [
    "df_test_tot = pd.DataFrame()\n",
    "for sec in range(1,1441):\n",
    "    df_sec = df_test[['ID']+[k for k in df_test.columns if k not in ['ID'] and k.split('_')[1] == str(sec)]]\n",
    "    df_sec.columns = [k.split('_')[0] if k not in ['ID', 'time_step'] else k for k in df_sec.columns]\n",
    "    df_sec = df_sec.assign(time_step = sec)\n",
    "    df_test_tot = pd.concat([df_test_tot, df_sec])\n",
    "df_test_tot = df_test_tot.sort_values(['ID', 'time_step'])"
   ]
  },
  {
   "cell_type": "code",
   "execution_count": 8,
   "metadata": {
    "ExecuteTime": {
     "end_time": "2018-02-27T16:11:57.177700Z",
     "start_time": "2018-02-27T16:11:57.165629Z"
    }
   },
   "outputs": [
    {
     "data": {
      "text/html": [
       "<div>\n",
       "<style>\n",
       "    .dataframe thead tr:only-child th {\n",
       "        text-align: right;\n",
       "    }\n",
       "\n",
       "    .dataframe thead th {\n",
       "        text-align: left;\n",
       "    }\n",
       "\n",
       "    .dataframe tbody tr th {\n",
       "        vertical-align: top;\n",
       "    }\n",
       "</style>\n",
       "<table border=\"1\" class=\"dataframe\">\n",
       "  <thead>\n",
       "    <tr style=\"text-align: right;\">\n",
       "      <th></th>\n",
       "      <th>ID</th>\n",
       "      <th>label</th>\n",
       "      <th>score</th>\n",
       "      <th>offensive rebound</th>\n",
       "      <th>defensive rebound</th>\n",
       "      <th>offensive foul</th>\n",
       "      <th>defensive foul</th>\n",
       "      <th>assist</th>\n",
       "      <th>lost ball</th>\n",
       "      <th>steals</th>\n",
       "      <th>bad pass</th>\n",
       "      <th>block</th>\n",
       "      <th>miss</th>\n",
       "      <th>total rebound</th>\n",
       "      <th>time_step</th>\n",
       "    </tr>\n",
       "  </thead>\n",
       "  <tbody>\n",
       "    <tr>\n",
       "      <th>2677</th>\n",
       "      <td>1</td>\n",
       "      <td>1</td>\n",
       "      <td>0</td>\n",
       "      <td>0</td>\n",
       "      <td>0</td>\n",
       "      <td>0</td>\n",
       "      <td>0</td>\n",
       "      <td>0</td>\n",
       "      <td>0</td>\n",
       "      <td>0</td>\n",
       "      <td>0</td>\n",
       "      <td>0</td>\n",
       "      <td>-1</td>\n",
       "      <td>0</td>\n",
       "      <td>1</td>\n",
       "    </tr>\n",
       "    <tr>\n",
       "      <th>2677</th>\n",
       "      <td>1</td>\n",
       "      <td>1</td>\n",
       "      <td>0</td>\n",
       "      <td>0</td>\n",
       "      <td>0</td>\n",
       "      <td>0</td>\n",
       "      <td>0</td>\n",
       "      <td>0</td>\n",
       "      <td>0</td>\n",
       "      <td>0</td>\n",
       "      <td>0</td>\n",
       "      <td>0</td>\n",
       "      <td>-1</td>\n",
       "      <td>0</td>\n",
       "      <td>2</td>\n",
       "    </tr>\n",
       "    <tr>\n",
       "      <th>2677</th>\n",
       "      <td>1</td>\n",
       "      <td>1</td>\n",
       "      <td>0</td>\n",
       "      <td>0</td>\n",
       "      <td>0</td>\n",
       "      <td>0</td>\n",
       "      <td>0</td>\n",
       "      <td>0</td>\n",
       "      <td>0</td>\n",
       "      <td>0</td>\n",
       "      <td>0</td>\n",
       "      <td>0</td>\n",
       "      <td>-1</td>\n",
       "      <td>0</td>\n",
       "      <td>3</td>\n",
       "    </tr>\n",
       "    <tr>\n",
       "      <th>2677</th>\n",
       "      <td>1</td>\n",
       "      <td>1</td>\n",
       "      <td>0</td>\n",
       "      <td>0</td>\n",
       "      <td>0</td>\n",
       "      <td>0</td>\n",
       "      <td>0</td>\n",
       "      <td>0</td>\n",
       "      <td>0</td>\n",
       "      <td>0</td>\n",
       "      <td>0</td>\n",
       "      <td>0</td>\n",
       "      <td>-1</td>\n",
       "      <td>0</td>\n",
       "      <td>4</td>\n",
       "    </tr>\n",
       "    <tr>\n",
       "      <th>2677</th>\n",
       "      <td>1</td>\n",
       "      <td>1</td>\n",
       "      <td>0</td>\n",
       "      <td>0</td>\n",
       "      <td>0</td>\n",
       "      <td>0</td>\n",
       "      <td>0</td>\n",
       "      <td>0</td>\n",
       "      <td>0</td>\n",
       "      <td>0</td>\n",
       "      <td>0</td>\n",
       "      <td>0</td>\n",
       "      <td>-1</td>\n",
       "      <td>0</td>\n",
       "      <td>5</td>\n",
       "    </tr>\n",
       "  </tbody>\n",
       "</table>\n",
       "</div>"
      ],
      "text/plain": [
       "      ID  label  score  offensive rebound  defensive rebound  offensive foul  \\\n",
       "2677   1      1      0                  0                  0               0   \n",
       "2677   1      1      0                  0                  0               0   \n",
       "2677   1      1      0                  0                  0               0   \n",
       "2677   1      1      0                  0                  0               0   \n",
       "2677   1      1      0                  0                  0               0   \n",
       "\n",
       "      defensive foul  assist  lost ball  steals  bad pass  block  miss  \\\n",
       "2677               0       0          0       0         0      0    -1   \n",
       "2677               0       0          0       0         0      0    -1   \n",
       "2677               0       0          0       0         0      0    -1   \n",
       "2677               0       0          0       0         0      0    -1   \n",
       "2677               0       0          0       0         0      0    -1   \n",
       "\n",
       "      total rebound  time_step  \n",
       "2677              0          1  \n",
       "2677              0          2  \n",
       "2677              0          3  \n",
       "2677              0          4  \n",
       "2677              0          5  "
      ]
     },
     "execution_count": 8,
     "metadata": {},
     "output_type": "execute_result"
    }
   ],
   "source": [
    "df1_tot.head()"
   ]
  },
  {
   "cell_type": "code",
   "execution_count": 9,
   "metadata": {
    "ExecuteTime": {
     "end_time": "2018-02-27T16:12:00.129873Z",
     "start_time": "2018-02-27T16:12:00.125094Z"
    }
   },
   "outputs": [
    {
     "name": "stdout",
     "output_type": "stream",
     "text": [
      "Initial Shape (12576, 17282)\n",
      "Final Shape (18109440, 15)\n"
     ]
    }
   ],
   "source": [
    "print('Initial Shape', df1.shape)\n",
    "print('Final Shape', df1_tot.shape)"
   ]
  },
  {
   "cell_type": "code",
   "execution_count": 10,
   "metadata": {
    "ExecuteTime": {
     "end_time": "2018-02-27T16:12:03.063458Z",
     "start_time": "2018-02-27T16:12:02.833505Z"
    }
   },
   "outputs": [],
   "source": [
    "from mcfly import modelgen, find_architecture, storage\n",
    "from keras.models import load_model"
   ]
  },
  {
   "cell_type": "code",
   "execution_count": 11,
   "metadata": {
    "ExecuteTime": {
     "end_time": "2018-02-27T16:12:04.758406Z",
     "start_time": "2018-02-27T16:12:04.753704Z"
    }
   },
   "outputs": [],
   "source": [
    "cols = ['score', 'offensive rebound', 'defensive rebound',\n",
    "       'offensive foul', 'defensive foul', 'assist', 'lost ball', 'steals',\n",
    "       'bad pass', 'block', 'miss', 'total rebound']"
   ]
  },
  {
   "cell_type": "code",
   "execution_count": 14,
   "metadata": {
    "ExecuteTime": {
     "end_time": "2018-02-27T16:15:52.030953Z",
     "start_time": "2018-02-27T16:13:02.521208Z"
    }
   },
   "outputs": [
    {
     "data": {
      "text/plain": [
       "((12576, 1440, 12), (12576, 1))"
      ]
     },
     "execution_count": 14,
     "metadata": {},
     "output_type": "execute_result"
    }
   ],
   "source": [
    "df_X = df1_tot[df1_tot.time_step < 1441]\n",
    "X_train = []\n",
    "y_train = df_X.groupby('ID').mean()['label'].values\n",
    "y_train = y_train.reshape((len(y_train), 1))\n",
    "for id_ in df1_tot.ID.unique():\n",
    "    X_train.append(df_X[df_X.ID == id_][cols].values)\n",
    "X_train = np.array(X_train)\n",
    "X_train.shape, y_train.shape"
   ]
  },
  {
   "cell_type": "code",
   "execution_count": 47,
   "metadata": {
    "ExecuteTime": {
     "end_time": "2018-02-27T17:53:00.114178Z",
     "start_time": "2018-02-27T17:52:35.920358Z"
    }
   },
   "outputs": [
    {
     "data": {
      "text/plain": [
       "(4192, 1440, 12)"
      ]
     },
     "execution_count": 47,
     "metadata": {},
     "output_type": "execute_result"
    }
   ],
   "source": [
    "df_X_test = df_test_tot[df_test_tot.time_step < 1441]\n",
    "X_test = []\n",
    "for id_ in df_X_test.ID.unique():\n",
    "    X_test.append(df_X_test[df_X_test.ID == id_][cols].values)\n",
    "X_test = np.array(X_test)\n",
    "X_test.shape"
   ]
  },
  {
   "cell_type": "code",
   "execution_count": 15,
   "metadata": {
    "ExecuteTime": {
     "end_time": "2018-02-27T16:18:52.202562Z",
     "start_time": "2018-02-27T16:18:52.043082Z"
    }
   },
   "outputs": [],
   "source": [
    "from keras.utils import to_categorical\n",
    "y_train = to_categorical(y_train)"
   ]
  },
  {
   "cell_type": "code",
   "execution_count": 16,
   "metadata": {
    "ExecuteTime": {
     "end_time": "2018-02-27T16:19:05.395431Z",
     "start_time": "2018-02-27T16:18:54.813753Z"
    }
   },
   "outputs": [],
   "source": [
    "from keras.layers import BatchNormalization, Conv2D, Reshape, LSTM, Dropout, Dense, TimeDistributed\n",
    "from keras.optimizers import Adam\n",
    "from keras.regularizers import l2\n",
    "\n",
    "nb_timestep = 1440\n",
    "nb_features = 12\n",
    "\n",
    "my_model = Sequential()\n",
    "\n",
    "my_model.add(BatchNormalization(input_shape = (nb_timestep,nb_features)))\n",
    "my_model.add(Reshape([nb_timestep,nb_features,1]))\n",
    "my_model.add(Conv2D(61, 1,activation=\"relu\"))\n",
    "my_model.add(BatchNormalization())\n",
    "my_model.add(Conv2D(36,1,activation=\"relu\"))\n",
    "my_model.add(BatchNormalization())\n",
    "my_model.add(Reshape([nb_timestep,nb_features*36]))\n",
    "my_model.add(LSTM(49, return_sequences=True))\n",
    "my_model.add(LSTM(35,return_sequences=True))\n",
    "my_model.add(LSTM(71,return_sequences=True))\n",
    "my_model.add(LSTM(19,return_sequences=True))\n",
    "my_model.add(LSTM(65,return_sequences=True))\n",
    "my_model.add(Dropout(0.2))\n",
    "my_model.add(TimeDistributed(Dense(2,activation=\"sigmoid\", kernel_regularizer=l2(0.0001))))\n",
    "my_model.compile(loss='binary_crossentropy', optimizer=Adam(lr=0.0001), metrics=['accuracy'])"
   ]
  },
  {
   "cell_type": "code",
   "execution_count": null,
   "metadata": {
    "ExecuteTime": {
     "end_time": "2018-02-27T17:17:10.333025Z",
     "start_time": "2018-02-27T16:22:39.728058Z"
    }
   },
   "outputs": [],
   "source": [
    "my_model.fit(X_train, y_train, epochs=10, batch_size=32, validation_split=0.15, verbose=1)"
   ]
  },
  {
   "cell_type": "code",
   "execution_count": 48,
   "metadata": {
    "ExecuteTime": {
     "end_time": "2018-02-27T17:55:31.300798Z",
     "start_time": "2018-02-27T17:53:21.707886Z"
    }
   },
   "outputs": [],
   "source": [
    "y_pred = my_model.predict(X_test, batch_size=32)"
   ]
  },
  {
   "cell_type": "code",
   "execution_count": null,
   "metadata": {
    "ExecuteTime": {
     "start_time": "2018-02-27T18:04:00.510Z"
    }
   },
   "outputs": [],
   "source": [
    "y_ = my_model.predict(X_train, batch_size=32)"
   ]
  },
  {
   "cell_type": "code",
   "execution_count": null,
   "metadata": {},
   "outputs": [],
   "source": [
    "from public_accuracy import score_function\n",
    "score_function(np.argmax(y_, axis=1), np.argmax(y_train, axis=1))"
   ]
  },
  {
   "cell_type": "code",
   "execution_count": 71,
   "metadata": {
    "ExecuteTime": {
     "end_time": "2018-02-27T18:01:40.161613Z",
     "start_time": "2018-02-27T18:01:39.945488Z"
    }
   },
   "outputs": [],
   "source": [
    "Pred = pd.DataFrame(np.argmax(y_pred, axis=1), columns= ['label'])\n",
    "Pred['ID'] = df_X_test.groupby('ID').ID.first().values\n",
    "Pred[['ID', 'label']].to_csv('pred_v1.csv', index=False)"
   ]
  }
 ],
 "metadata": {
  "kernelspec": {
   "display_name": "TensorFlow",
   "language": "python",
   "name": "work_env"
  },
  "toc": {
   "nav_menu": {},
   "number_sections": true,
   "sideBar": true,
   "skip_h1_title": false,
   "toc_cell": false,
   "toc_position": {},
   "toc_section_display": "block",
   "toc_window_display": false
  }
 },
 "nbformat": 4,
 "nbformat_minor": 2
}
