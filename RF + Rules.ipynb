{
 "cells": [
  {
   "cell_type": "code",
   "execution_count": 40,
   "metadata": {
    "ExecuteTime": {
     "end_time": "2018-03-01T09:29:02.741710Z",
     "start_time": "2018-03-01T09:29:02.312872Z"
    }
   },
   "outputs": [],
   "source": [
    "import pandas as pd\n",
    "import numpy as np\n",
    "import csv\n",
    "import matplotlib.pyplot as plt\n",
    "import seaborn as sns\n",
    "from sklearn.metrics import confusion_matrix, recall_score, precision_score\n",
    "from keras.models import Sequential\n",
    "from keras.layers import Dense, Dropout, LSTM, Activation\n",
    "from sklearn.model_selection import train_test_split\n",
    "from sklearn.ensemble import RandomForestClassifier\n",
    "import itertools\n",
    "\n",
    "%matplotlib inline"
   ]
  },
  {
   "cell_type": "code",
   "execution_count": 2,
   "metadata": {
    "ExecuteTime": {
     "end_time": "2018-03-01T09:15:47.581794Z",
     "start_time": "2018-03-01T09:15:17.298188Z"
    }
   },
   "outputs": [],
   "source": [
    "train = pd.read_csv('./train.csv')\n",
    "test = pd.read_csv('./test.csv')\n",
    "label = pd.read_csv('./challenge_output_data_training_file_nba_challenge.csv', sep=';')\n",
    "train = pd.merge(train, label, on='ID')"
   ]
  },
  {
   "cell_type": "code",
   "execution_count": 3,
   "metadata": {
    "ExecuteTime": {
     "end_time": "2018-03-01T09:15:49.231344Z",
     "start_time": "2018-03-01T09:15:47.582809Z"
    }
   },
   "outputs": [],
   "source": [
    "df_train, df_val = train_test_split(train, test_size=0.2, random_state=42)"
   ]
  },
  {
   "cell_type": "markdown",
   "metadata": {},
   "source": [
    "### Rules"
   ]
  },
  {
   "cell_type": "code",
   "execution_count": 4,
   "metadata": {
    "ExecuteTime": {
     "end_time": "2018-03-01T09:16:11.666745Z",
     "start_time": "2018-03-01T09:16:11.284382Z"
    }
   },
   "outputs": [
    {
     "name": "stdout",
     "output_type": "stream",
     "text": [
      "Probability that the 8 pt margin half-time leader (0.464 of full train set) is the full-time winner 0.854\n"
     ]
    }
   ],
   "source": [
    "diff_goals = 8\n",
    "temp = df_train[(df_train.score_1440 <= -1*diff_goals) | (df_train.score_1440 >= diff_goals)]\n",
    "same_mt_f = df_train[((df_train.score_1440 <= -1*diff_goals) & (df_train.label == 0)) | ((df_train.score_1440 >= diff_goals) & (df_train.label == 1))]\n",
    "print('Probability that the %d pt margin half-time leader (%.3f of full train set) is the full-time winner %.3f' % (diff_goals, len(temp)/len(df_train), len(same_mt_f)/len(temp)))"
   ]
  },
  {
   "cell_type": "code",
   "execution_count": 6,
   "metadata": {
    "ExecuteTime": {
     "end_time": "2018-03-01T09:16:24.771341Z",
     "start_time": "2018-03-01T09:16:24.462480Z"
    }
   },
   "outputs": [
    {
     "name": "stdout",
     "output_type": "stream",
     "text": [
      "Probability that the 6 assist margin half-time leader (0.138 of remaining train set) is the full-time winner 0.610\n"
     ]
    }
   ],
   "source": [
    "df_train_2 = df_train[~df_train.ID.isin(temp.ID.values)]\n",
    "diff_assists = 6\n",
    "same_mt_f = df_train_2[((df_train_2.assist_1440 <= -1*diff_assists) & (df_train_2.label == 0)) \n",
    "                   | ((df_train_2.assist_1440 >= diff_assists) & (df_train_2.label == 1))]\n",
    "temp2 = df_train_2[(df_train_2.assist_1440 <= -1*diff_assists) | (df_train_2.assist_1440 >= diff_assists)]\n",
    "print('Probability that the %d assist margin half-time leader (%.3f of remaining train set) is the full-time winner %.3f' % (diff_assists, len(temp2)/len(df_train_2), len(same_mt_f)/len(temp2)))"
   ]
  },
  {
   "cell_type": "code",
   "execution_count": 32,
   "metadata": {
    "ExecuteTime": {
     "end_time": "2018-03-01T09:26:14.938778Z",
     "start_time": "2018-03-01T09:26:14.639313Z"
    }
   },
   "outputs": [
    {
     "name": "stdout",
     "output_type": "stream",
     "text": [
      "Probability that the 1 pt margin half-time leader (0.921 of remaining train set) is the full-time winner 0.617\n"
     ]
    }
   ],
   "source": [
    "diff_goals = 1\n",
    "temp = df_train_2[(df_train_2.score_1440 <= -1*diff_goals) | (df_train_2.score_1440 >= diff_goals)]\n",
    "same_mt_f = df_train_2[((df_train_2.score_1440 <= -1*diff_goals) & (df_train_2.label == 0)) | ((df_train_2.score_1440 >= diff_goals) & (df_train_2.label == 1))]\n",
    "print('Probability that the %d pt margin half-time leader (%.3f of remaining train set) is the full-time winner %.3f' % (diff_goals, len(temp)/len(df_train_2), len(same_mt_f)/len(temp)))"
   ]
  },
  {
   "cell_type": "code",
   "execution_count": 123,
   "metadata": {
    "ExecuteTime": {
     "end_time": "2018-03-01T09:56:43.120097Z",
     "start_time": "2018-03-01T09:56:43.077094Z"
    }
   },
   "outputs": [],
   "source": [
    "def predict_from_rules(x): \n",
    "    # Score margin at HT\n",
    "    diff_goals = 8\n",
    "    if x.score_1440 <= -1*diff_goals:\n",
    "        return 0.15\n",
    "    if x.score_1440 >= diff_goals:\n",
    "        return 0.85\n",
    "    \n",
    "    diff_goals = 6\n",
    "    if x.score_1440 <= -1*diff_goals:\n",
    "        return 0.28\n",
    "    if x.score_1440 >= diff_goals:\n",
    "        return 0.72\n",
    "    \n",
    "    diff_goals = 1\n",
    "    if x.score_1440 <= -1*diff_goals:\n",
    "        return 0.38\n",
    "    if x.score_1440 >= diff_goals:\n",
    "        return 0.62\n",
    "    \n",
    "    # Assist margin at HT\n",
    "    diff_assists = 6\n",
    "    if x.assist_1440 <= -1*diff_assists:\n",
    "        return 0.39\n",
    "    if x.assist_1440 >= diff_assists:\n",
    "        return 0.61\n",
    "    \n",
    "    return 0.5"
   ]
  },
  {
   "cell_type": "code",
   "execution_count": 124,
   "metadata": {
    "ExecuteTime": {
     "end_time": "2018-03-01T09:56:44.504593Z",
     "start_time": "2018-03-01T09:56:44.076776Z"
    }
   },
   "outputs": [],
   "source": [
    "df_temp = df_val.copy()\n",
    "df_temp['prediction'] = df_temp.apply(predict_from_rules, axis=1)"
   ]
  },
  {
   "cell_type": "code",
   "execution_count": 125,
   "metadata": {
    "ExecuteTime": {
     "end_time": "2018-03-01T09:56:45.074027Z",
     "start_time": "2018-03-01T09:56:45.054885Z"
    }
   },
   "outputs": [
    {
     "data": {
      "text/plain": [
       "0.7233704292527822"
      ]
     },
     "execution_count": 125,
     "metadata": {},
     "output_type": "execute_result"
    }
   ],
   "source": [
    "(df_temp['prediction'].apply(round) == df_temp['label']).mean()"
   ]
  },
  {
   "cell_type": "markdown",
   "metadata": {},
   "source": [
    "### Random Forest"
   ]
  },
  {
   "cell_type": "code",
   "execution_count": 42,
   "metadata": {
    "ExecuteTime": {
     "end_time": "2018-03-01T09:30:18.461675Z",
     "start_time": "2018-03-01T09:30:18.095748Z"
    }
   },
   "outputs": [],
   "source": [
    "y_train = df_train.label.values\n",
    "X_train = df_train.drop(['ID', 'label'], axis=1)"
   ]
  },
  {
   "cell_type": "code",
   "execution_count": 45,
   "metadata": {
    "ExecuteTime": {
     "end_time": "2018-03-01T09:31:18.948217Z",
     "start_time": "2018-03-01T09:31:18.854917Z"
    }
   },
   "outputs": [],
   "source": [
    "y_val = df_val.label.values\n",
    "X_val = df_val.drop(['ID', 'label'], axis=1)"
   ]
  },
  {
   "cell_type": "code",
   "execution_count": 116,
   "metadata": {
    "ExecuteTime": {
     "end_time": "2018-03-01T09:54:44.526113Z",
     "start_time": "2018-03-01T09:54:44.523045Z"
    }
   },
   "outputs": [],
   "source": [
    "rf = RandomForestClassifier(n_estimators=100, min_samples_leaf=3)"
   ]
  },
  {
   "cell_type": "code",
   "execution_count": 117,
   "metadata": {
    "ExecuteTime": {
     "end_time": "2018-03-01T09:55:06.550328Z",
     "start_time": "2018-03-01T09:54:45.895442Z"
    }
   },
   "outputs": [
    {
     "data": {
      "text/plain": [
       "RandomForestClassifier(bootstrap=True, class_weight=None, criterion='gini',\n",
       "            max_depth=None, max_features='auto', max_leaf_nodes=None,\n",
       "            min_impurity_decrease=0.0, min_impurity_split=None,\n",
       "            min_samples_leaf=3, min_samples_split=3,\n",
       "            min_weight_fraction_leaf=0.0, n_estimators=100, n_jobs=1,\n",
       "            oob_score=False, random_state=None, verbose=0,\n",
       "            warm_start=False)"
      ]
     },
     "execution_count": 117,
     "metadata": {},
     "output_type": "execute_result"
    }
   ],
   "source": [
    "_ = rf.fit(X_train, y_train)"
   ]
  },
  {
   "cell_type": "code",
   "execution_count": 118,
   "metadata": {
    "ExecuteTime": {
     "end_time": "2018-03-01T09:55:06.682537Z",
     "start_time": "2018-03-01T09:55:06.551380Z"
    }
   },
   "outputs": [
    {
     "data": {
      "text/plain": [
       "0.744435612082671"
      ]
     },
     "execution_count": 118,
     "metadata": {},
     "output_type": "execute_result"
    }
   ],
   "source": [
    "y_pred = rf.predict(X_val)\n",
    "np.mean(y_pred == y_val)"
   ]
  },
  {
   "cell_type": "code",
   "execution_count": 130,
   "metadata": {
    "ExecuteTime": {
     "end_time": "2018-03-01T09:57:57.587846Z",
     "start_time": "2018-03-01T09:57:57.452367Z"
    }
   },
   "outputs": [],
   "source": [
    "df_temp['RF_prediction'] = rf.predict_proba(X_val)[:,1]"
   ]
  },
  {
   "cell_type": "code",
   "execution_count": 133,
   "metadata": {
    "ExecuteTime": {
     "end_time": "2018-03-01T09:58:08.969607Z",
     "start_time": "2018-03-01T09:58:08.962036Z"
    }
   },
   "outputs": [
    {
     "data": {
      "text/plain": [
       "0.744435612082671"
      ]
     },
     "execution_count": 133,
     "metadata": {},
     "output_type": "execute_result"
    }
   ],
   "source": [
    "i, k = 2,5\n",
    "df_temp['pred'] = (df_temp['prediction']*i + df_temp['RF_prediction']*k)/(i+k)\n",
    "(df_temp['pred'].apply(round) == df_temp['label']).mean()"
   ]
  },
  {
   "cell_type": "markdown",
   "metadata": {},
   "source": [
    "### Test"
   ]
  },
  {
   "cell_type": "code",
   "execution_count": 153,
   "metadata": {
    "ExecuteTime": {
     "end_time": "2018-03-01T10:03:21.664956Z",
     "start_time": "2018-03-01T10:03:21.295285Z"
    }
   },
   "outputs": [],
   "source": [
    "X_test = test.drop(['ID'], axis=1)\n",
    "test['label'] = rf.predict_proba(X_test)[:,1]\n",
    "test['label'] = test['label'].apply(round)"
   ]
  },
  {
   "cell_type": "code",
   "execution_count": 154,
   "metadata": {
    "ExecuteTime": {
     "end_time": "2018-03-01T10:03:22.504753Z",
     "start_time": "2018-03-01T10:03:22.161465Z"
    }
   },
   "outputs": [],
   "source": [
    "test[['ID', 'label']].to_csv('pred_RF.csv', index=False)"
   ]
  },
  {
   "cell_type": "code",
   "execution_count": null,
   "metadata": {},
   "outputs": [],
   "source": []
  }
 ],
 "metadata": {
  "kernelspec": {
   "display_name": "TensorFlow",
   "language": "python",
   "name": "work_env"
  },
  "language_info": {
   "codemirror_mode": {
    "name": "ipython",
    "version": 3
   },
   "file_extension": ".py",
   "mimetype": "text/x-python",
   "name": "python",
   "nbconvert_exporter": "python",
   "pygments_lexer": "ipython3",
   "version": "3.6.3"
  },
  "toc": {
   "nav_menu": {},
   "number_sections": true,
   "sideBar": true,
   "skip_h1_title": false,
   "toc_cell": false,
   "toc_position": {},
   "toc_section_display": "block",
   "toc_window_display": false
  }
 },
 "nbformat": 4,
 "nbformat_minor": 2
}
