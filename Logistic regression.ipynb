{
 "cells": [
  {
   "cell_type": "code",
   "execution_count": 1,
   "metadata": {
    "collapsed": false
   },
   "outputs": [
    {
     "name": "stderr",
     "output_type": "stream",
     "text": [
      "Using TensorFlow backend.\n"
     ]
    }
   ],
   "source": [
    "import pandas as pd\n",
    "import numpy as np\n",
    "import csv\n",
    "import matplotlib.pyplot as plt\n",
    "import seaborn as sns\n",
    "from sklearn.metrics import confusion_matrix, recall_score, precision_score\n",
    "from keras.models import Sequential\n",
    "from keras.layers import Dense, Dropout, LSTM, Activation\n",
    "from sklearn.model_selection import train_test_split\n",
    "from sklearn.ensemble import RandomForestClassifier\n",
    "import itertools\n",
    "from tqdm import tqdm\n",
    "import feat_eng\n",
    "\n",
    "%matplotlib inline"
   ]
  },
  {
   "cell_type": "markdown",
   "metadata": {},
   "source": [
    "## Load files"
   ]
  },
  {
   "cell_type": "code",
   "execution_count": 3,
   "metadata": {
    "collapsed": false
   },
   "outputs": [
    {
     "name": "stderr",
     "output_type": "stream",
     "text": [
      "100%|██████████| 1439/1439 [01:00<00:00, 23.83it/s]\n",
      "100%|██████████| 1440/1440 [04:04<00:00,  5.90it/s]\n",
      "100%|██████████| 1440/1440 [02:13<00:00, 10.78it/s]"
     ]
    },
    {
     "name": "stdout",
     "output_type": "stream",
     "text": [
      "(10060, 21602) (2516, 21602)\n"
     ]
    },
    {
     "name": "stderr",
     "output_type": "stream",
     "text": [
      "\n"
     ]
    }
   ],
   "source": [
    "train = pd.read_csv('../Challenge/train.csv')\n",
    "label = pd.read_csv('../Challenge/challenge_output_data_training_file_nba_challenge.csv', sep=';')\n",
    "train = pd.merge(train, label, on='ID')\n",
    "\n",
    "train = feat_eng.add_tot_rebounds(train)\n",
    "train = feat_eng.add_fg(train)\n",
    "df_train, df_val = train_test_split(train, test_size=0.2, random_state=42)\n",
    "\n",
    "print(df_train.shape, df_val.shape)"
   ]
  },
  {
   "cell_type": "markdown",
   "metadata": {},
   "source": [
    "## Logistic regression"
   ]
  },
  {
   "cell_type": "code",
   "execution_count": 4,
   "metadata": {
    "collapsed": true
   },
   "outputs": [],
   "source": [
    "y_train = df_train.label.values\n",
    "X_train = df_train.drop(['ID', 'label'], axis=1)\n",
    "\n",
    "y_val = df_val.label.values\n",
    "X_val = df_val.drop(['ID', 'label'], axis=1)"
   ]
  },
  {
   "cell_type": "code",
   "execution_count": 5,
   "metadata": {
    "collapsed": false
   },
   "outputs": [
    {
     "name": "stdout",
     "output_type": "stream",
     "text": [
      "195.97348713874817\n"
     ]
    }
   ],
   "source": [
    "from sklearn import datasets, neighbors, linear_model\n",
    "import time\n",
    "logistic = linear_model.LogisticRegression(C=0.00001, solver='newton-cg')\n",
    "\n",
    "t = time.time()\n",
    "logistic.fit(X_train, y_train)\n",
    "elapsed = time.time() - t\n",
    "print(elapsed)"
   ]
  },
  {
   "cell_type": "code",
   "execution_count": 6,
   "metadata": {
    "collapsed": false
   },
   "outputs": [
    {
     "data": {
      "text/plain": [
       "0.72098569157392689"
      ]
     },
     "execution_count": 6,
     "metadata": {},
     "output_type": "execute_result"
    }
   ],
   "source": [
    "y_pred = logistic.predict(X_val)\n",
    "np.mean(y_pred == y_val)"
   ]
  },
  {
   "cell_type": "markdown",
   "metadata": {},
   "source": [
    "## Output on Test"
   ]
  },
  {
   "cell_type": "code",
   "execution_count": 9,
   "metadata": {
    "collapsed": false
   },
   "outputs": [
    {
     "name": "stderr",
     "output_type": "stream",
     "text": [
      "100%|██████████| 1439/1439 [00:18<00:00, 78.25it/s]\n",
      "100%|██████████| 1440/1440 [01:02<00:00, 23.18it/s]\n",
      "100%|██████████| 1440/1440 [00:18<00:00, 78.84it/s]\n"
     ]
    }
   ],
   "source": [
    "test = pd.read_csv('../Challenge/test.csv')\n",
    "test = feat_eng.add_tot_rebounds(test)\n",
    "test = feat_eng.add_fg(test, test=True)\n",
    "X_test = test.drop(['ID'], axis=1)\n",
    "test['label'] = logistic.predict(X_test)\n",
    "test[['ID', 'label']].to_csv('pred_logreg_opt_raw.csv', index=False)"
   ]
  },
  {
   "cell_type": "markdown",
   "metadata": {},
   "source": [
    "## Feature Importance"
   ]
  },
  {
   "cell_type": "code",
   "execution_count": 100,
   "metadata": {
    "collapsed": false
   },
   "outputs": [
    {
     "data": {
      "text/plain": [
       "array([21585, 21570, 21555, ...,  4665,  4605,  4620])"
      ]
     },
     "execution_count": 100,
     "metadata": {},
     "output_type": "execute_result"
    }
   ],
   "source": [
    "sort_index = np.argsort(logistic.coef_[0])[::-1]\n",
    "sort_index"
   ]
  },
  {
   "cell_type": "code",
   "execution_count": 108,
   "metadata": {
    "collapsed": false,
    "deletable": true,
    "editable": true
   },
   "outputs": [],
   "source": [
    "feat_names = X_train.columns[np.argsort(logistic.coef_[0])[::-1]]\n",
    "feat = np.sort(logistic.coef_[0])[::-1]"
   ]
  },
  {
   "cell_type": "code",
   "execution_count": 109,
   "metadata": {
    "collapsed": false
   },
   "outputs": [],
   "source": [
    "all_features = set([k.split('_')[0] for k in feat_names])\n",
    "feat_min_idx = sorted([min([i for i,k in enumerate(feat_names) if k.split('_')[0] == feat]) for feat in all_features])\n",
    "feat_names2 = feat_names[feat_min_idx]\n",
    "feat2 = feat[feat_min_idx]"
   ]
  },
  {
   "cell_type": "code",
   "execution_count": 110,
   "metadata": {
    "collapsed": true
   },
   "outputs": [],
   "source": [
    "def correct_label(x):\n",
    "    x = x.replace('_','\\n')\n",
    "    x = x.replace(\"defensive\", 'def')\n",
    "    x = x.replace('offensive', 'off')\n",
    "    return x.replace('total', '')"
   ]
  },
  {
   "cell_type": "code",
   "execution_count": 111,
   "metadata": {
    "collapsed": false
   },
   "outputs": [
    {
     "data": {
      "image/png": "[encoded data removed]",
      "text/plain": [
       "<matplotlib.figure.Figure at 0x11d9aa940>"
      ]
     },
     "metadata": {},
     "output_type": "display_data"
    }
   ],
   "source": [
    "f, ax = plt.subplots(figsize=(15,5))\n",
    "sns.barplot(x=feat_names2, y=feat2, order=feat_names2)\n",
    "_=ax.set_xticklabels([correct_label(k.get_text()) for k in ax.get_xticklabels()])"
   ]
  },
  {
   "cell_type": "code",
   "execution_count": null,
   "metadata": {
    "collapsed": true
   },
   "outputs": [],
   "source": []
  }
 ],
 "metadata": {
  "kernelspec": {
   "display_name": "Python 3",
   "language": "python",
   "name": "python3"
  },
  "language_info": {
   "codemirror_mode": {
    "name": "ipython",
    "version": 3
   },
   "file_extension": ".py",
   "mimetype": "text/x-python",
   "name": "python",
   "nbconvert_exporter": "python",
   "pygments_lexer": "ipython3",
   "version": "3.5.4"
  }
 },
 "nbformat": 4,
 "nbformat_minor": 2
}
