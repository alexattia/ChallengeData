{
 "cells": [
  {
   "cell_type": "code",
   "execution_count": 1,
   "metadata": {
    "collapsed": false,
    "deletable": true,
    "editable": true
   },
   "outputs": [
    {
     "name": "stderr",
     "output_type": "stream",
     "text": [
      "Using TensorFlow backend.\n"
     ]
    }
   ],
   "source": [
    "import pandas as pd\n",
    "import numpy as np\n",
    "import csv\n",
    "import matplotlib.pyplot as plt\n",
    "import seaborn as sns\n",
    "from sklearn.metrics import confusion_matrix, recall_score, precision_score\n",
    "from keras.models import Sequential\n",
    "from keras.layers import Dense, Dropout, LSTM, Activation\n",
    "from sklearn.model_selection import train_test_split\n",
    "from sklearn.ensemble import RandomForestClassifier\n",
    "import itertools\n",
    "from tqdm import tqdm\n",
    "import feat_eng\n",
    "\n",
    "%matplotlib inline"
   ]
  },
  {
   "cell_type": "markdown",
   "metadata": {
    "deletable": true,
    "editable": true
   },
   "source": [
    "## Load files"
   ]
  },
  {
   "cell_type": "code",
   "execution_count": 2,
   "metadata": {
    "collapsed": false
   },
   "outputs": [
    {
     "name": "stderr",
     "output_type": "stream",
     "text": [
      "100%|██████████| 1439/1439 [00:44<00:00, 32.29it/s]\n",
      "100%|██████████| 1440/1440 [03:18<00:00,  7.26it/s]\n",
      "100%|██████████| 1440/1440 [03:27<00:00,  6.93it/s]"
     ]
    },
    {
     "name": "stdout",
     "output_type": "stream",
     "text": [
      "(10060, 21602) (2516, 21602)\n"
     ]
    },
    {
     "name": "stderr",
     "output_type": "stream",
     "text": [
      "\n"
     ]
    }
   ],
   "source": [
    "train = pd.read_csv('./train.csv')\n",
    "label = pd.read_csv('./challenge_output_data_training_file_nba_challenge.csv', sep=';')\n",
    "train = pd.merge(train, label, on='ID')\n",
    "\n",
    "train = feat_eng.add_tot_rebounds(train)\n",
    "train = feat_eng.add_fg(train)\n",
    "df_train, df_val = train_test_split(train, test_size=0.2, random_state=42)\n",
    "\n",
    "test = pd.read_csv('./test.csv')\n",
    "\n",
    "print(df_train.shape, df_val.shape)"
   ]
  },
  {
   "cell_type": "markdown",
   "metadata": {
    "deletable": true,
    "editable": true
   },
   "source": [
    "## XGBoost"
   ]
  },
  {
   "cell_type": "code",
   "execution_count": 3,
   "metadata": {
    "collapsed": true,
    "deletable": true,
    "editable": true
   },
   "outputs": [],
   "source": [
    "y_train = df_train.label.values\n",
    "X_train = df_train.drop(['ID', 'label'], axis=1)\n",
    "\n",
    "y_val = df_val.label.values\n",
    "X_val = df_val.drop(['ID', 'label'], axis=1)"
   ]
  },
  {
   "cell_type": "code",
   "execution_count": 4,
   "metadata": {
    "collapsed": true,
    "deletable": true,
    "editable": true
   },
   "outputs": [],
   "source": [
    "# base parameters\n",
    "#XGBClassifier(base_score=0.5, booster='gbtree', colsample_bylevel=1,\n",
    "#       colsample_bytree=1, gamma=0, learning_rate=0.1, max_delta_step=0,\n",
    "#       max_depth=10, min_child_weight=1, missing=None, n_estimators=100,\n",
    "#       n_jobs=1, nthread=None, objective='binary:logistic', random_state=0,\n",
    "#       reg_alpha=0, reg_lambda=1, scale_pos_weight=1, seed=None,\n",
    "#       silent=True, subsample=1)\n",
    "\n",
    "params = {'base_score':0.98,\n",
    "                'booster':'gbtree', \n",
    "                'colsample_bylevel':0.7,\n",
    "                'colsample_bytree':1,\n",
    "                'learning_rate':0.1,\n",
    "                'min_child_weight':10,\n",
    "                'max_delta_step':1,\n",
    "                'max_depth':20,\n",
    "                'n_estimators':100}"
   ]
  },
  {
   "cell_type": "code",
   "execution_count": 5,
   "metadata": {
    "collapsed": false,
    "deletable": true,
    "editable": true
   },
   "outputs": [
    {
     "data": {
      "text/plain": [
       "XGBClassifier(base_score=0.98, booster='gbtree', colsample_bylevel=0.7,\n",
       "       colsample_bytree=1, gamma=0, learning_rate=0.1, max_delta_step=1,\n",
       "       max_depth=20, min_child_weight=10, missing=None, n_estimators=100,\n",
       "       n_jobs=1, nthread=None, objective='binary:logistic', random_state=0,\n",
       "       reg_alpha=0, reg_lambda=1, scale_pos_weight=1, seed=None,\n",
       "       silent=True, subsample=1)"
      ]
     },
     "execution_count": 5,
     "metadata": {},
     "output_type": "execute_result"
    }
   ],
   "source": [
    "# machine learning: XGB\n",
    "from xgboost import XGBClassifier\n",
    "\n",
    "# fit model no training data\n",
    "model = XGBClassifier(**params)\n",
    "model.fit(X_train, y_train)"
   ]
  },
  {
   "cell_type": "code",
   "execution_count": 6,
   "metadata": {
    "collapsed": false,
    "deletable": true,
    "editable": true
   },
   "outputs": [
    {
     "data": {
      "text/plain": [
       "0.73489666136724963"
      ]
     },
     "execution_count": 6,
     "metadata": {},
     "output_type": "execute_result"
    }
   ],
   "source": [
    "# make predictions for validation data\n",
    "y_pred = model.predict(X_val)\n",
    "np.mean(y_pred == y_val) #0.735"
   ]
  },
  {
   "cell_type": "markdown",
   "metadata": {
    "deletable": true,
    "editable": true
   },
   "source": [
    "## Output on Test"
   ]
  },
  {
   "cell_type": "code",
   "execution_count": 15,
   "metadata": {
    "collapsed": false,
    "deletable": true,
    "editable": true
   },
   "outputs": [
    {
     "name": "stderr",
     "output_type": "stream",
     "text": [
      "100%|██████████| 1439/1439 [00:14<00:00, 96.40it/s]\n",
      "100%|██████████| 1440/1440 [00:57<00:00, 24.94it/s]\n",
      "100%|██████████| 1440/1440 [00:23<00:00, 61.19it/s]\n"
     ]
    }
   ],
   "source": [
    "test = pd.read_csv('./test.csv')\n",
    "test = feat_eng.add_tot_rebounds(test)\n",
    "test = feat_eng.add_fg(test, test=True)\n",
    "X_test = test.drop(['ID'], axis=1)"
   ]
  },
  {
   "cell_type": "code",
   "execution_count": 16,
   "metadata": {
    "collapsed": true
   },
   "outputs": [],
   "source": [
    "test['label'] = model.predict(X_test)\n",
    "test[['ID', 'label']].to_csv('pred_xgboost_opt_raw.csv', index=False)"
   ]
  },
  {
   "cell_type": "code",
   "execution_count": 17,
   "metadata": {
    "collapsed": true
   },
   "outputs": [],
   "source": [
    "feat_names = X_train.columns[np.argsort(model.feature_importances_)[::-1]]\n",
    "feat = np.sort(model.feature_importances_)[::-1]"
   ]
  },
  {
   "cell_type": "code",
   "execution_count": 18,
   "metadata": {
    "collapsed": true
   },
   "outputs": [],
   "source": [
    "all_features = set([k.split('_')[0] for k in feat_names])\n",
    "feat_min_idx = sorted([min([i for i,k in enumerate(feat_names) if k.split('_')[0] == feat]) for feat in all_features])\n",
    "feat_names2 = feat_names[feat_min_idx]\n",
    "feat2 = feat[feat_min_idx]"
   ]
  },
  {
   "cell_type": "code",
   "execution_count": 19,
   "metadata": {
    "collapsed": true
   },
   "outputs": [],
   "source": [
    "def correct_label(x):\n",
    "    x = x.replace('_','\\n')\n",
    "    x = x.replace(\"defensive\", 'def')\n",
    "    x = x.replace('offensive', 'off')\n",
    "    return x.replace('total', '')"
   ]
  },
  {
   "cell_type": "code",
   "execution_count": 20,
   "metadata": {
    "collapsed": false
   },
   "outputs": [
    {
     "data": {
      "image/png": "[encoded data removed]",
      "text/plain": [
       "<matplotlib.figure.Figure at 0x1250e4588>"
      ]
     },
     "metadata": {},
     "output_type": "display_data"
    }
   ],
   "source": [
    "f, ax = plt.subplots(figsize=(15,5))\n",
    "sns.barplot(x=feat_names2, y=feat2, order=feat_names2)\n",
    "_=ax.set_xticklabels([correct_label(k.get_text()) for k in ax.get_xticklabels()])"
   ]
  },
  {
   "cell_type": "code",
   "execution_count": null,
   "metadata": {
    "collapsed": true,
    "deletable": true,
    "editable": true
   },
   "outputs": [],
   "source": [
    "# evaluation metric - public accuracy : score_function\n",
    "def score_function(y_true, y_pred):\n",
    "    score = 0\n",
    "    length1 = y_true.shape[0]\n",
    "    for i in range(length1):\n",
    "        if y_pred[i] == y_true[i]:\n",
    "            score += 1\n",
    "    return float(score)/float(length1)\n",
    "\n",
    "#error = score_function(y_test.values, yhat)"
   ]
  }
 ],
 "metadata": {
  "kernelspec": {
   "display_name": "Python 3",
   "language": "python",
   "name": "python3"
  },
  "language_info": {
   "codemirror_mode": {
    "name": "ipython",
    "version": 3
   },
   "file_extension": ".py",
   "mimetype": "text/x-python",
   "name": "python",
   "nbconvert_exporter": "python",
   "pygments_lexer": "ipython3",
   "version": "3.5.4"
  }
 },
 "nbformat": 4,
 "nbformat_minor": 2
}
