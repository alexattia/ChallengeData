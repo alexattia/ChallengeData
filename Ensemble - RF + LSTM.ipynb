{
 "cells": [
  {
   "cell_type": "code",
   "execution_count": 63,
   "metadata": {
    "ExecuteTime": {
     "end_time": "2018-03-06T15:55:33.746123Z",
     "start_time": "2018-03-06T15:55:33.742600Z"
    }
   },
   "outputs": [],
   "source": [
    "import pandas as pd\n",
    "import numpy as np\n",
    "import csv\n",
    "import matplotlib.pyplot as plt\n",
    "import seaborn as sns\n",
    "from sklearn.metrics import confusion_matrix, recall_score, precision_score\n",
    "from keras.models import Sequential\n",
    "from keras.layers import Dense, Dropout, LSTM, Activation\n",
    "from sklearn.model_selection import train_test_split\n",
    "from sklearn.ensemble import RandomForestClassifier\n",
    "import itertools\n",
    "from time import time\n",
    "from tqdm import tqdm\n",
    "import seaborn as sns\n",
    "\n",
    "%matplotlib inline"
   ]
  },
  {
   "cell_type": "code",
   "execution_count": 2,
   "metadata": {
    "ExecuteTime": {
     "end_time": "2018-03-06T13:58:51.662239Z",
     "start_time": "2018-03-06T13:58:19.250047Z"
    }
   },
   "outputs": [],
   "source": [
    "train = pd.read_csv('./train.csv')\n",
    "test = pd.read_csv('./test.csv')\n",
    "label = pd.read_csv('./challenge_output_data_training_file_nba_challenge.csv', sep=';')\n",
    "train = pd.merge(train, label, on='ID')"
   ]
  },
  {
   "cell_type": "markdown",
   "metadata": {},
   "source": [
    "### Feature Engineering"
   ]
  },
  {
   "cell_type": "code",
   "execution_count": 5,
   "metadata": {
    "ExecuteTime": {
     "end_time": "2018-03-06T14:00:51.445124Z",
     "start_time": "2018-03-06T14:00:51.393852Z"
    }
   },
   "outputs": [],
   "source": [
    "import feat_eng"
   ]
  },
  {
   "cell_type": "code",
   "execution_count": 6,
   "metadata": {
    "ExecuteTime": {
     "end_time": "2018-03-06T14:02:57.913712Z",
     "start_time": "2018-03-06T14:00:52.194741Z"
    }
   },
   "outputs": [
    {
     "name": "stderr",
     "output_type": "stream",
     "text": [
      "100%|██████████| 1439/1439 [00:16<00:00, 84.81it/s]\n",
      "100%|██████████| 1440/1440 [01:06<00:00, 21.54it/s]\n",
      "100%|██████████| 1440/1440 [00:21<00:00, 67.91it/s]\n"
     ]
    }
   ],
   "source": [
    "train = feat_eng.add_tot_rebounds(train)\n",
    "train = feat_eng.add_fg(train)"
   ]
  },
  {
   "cell_type": "code",
   "execution_count": 7,
   "metadata": {
    "ExecuteTime": {
     "end_time": "2018-03-06T14:11:34.871969Z",
     "start_time": "2018-03-06T14:11:33.937286Z"
    }
   },
   "outputs": [],
   "source": [
    "df_train, df_val = train_test_split(train, test_size=0.2, random_state=42)"
   ]
  },
  {
   "cell_type": "markdown",
   "metadata": {
    "heading_collapsed": true
   },
   "source": [
    "### Rules"
   ]
  },
  {
   "cell_type": "code",
   "execution_count": 4,
   "metadata": {
    "ExecuteTime": {
     "end_time": "2018-03-01T09:16:11.666745Z",
     "start_time": "2018-03-01T09:16:11.284382Z"
    },
    "hidden": true
   },
   "outputs": [
    {
     "name": "stdout",
     "output_type": "stream",
     "text": [
      "Probability that the 8 pt margin half-time leader (0.464 of full train set) is the full-time winner 0.854\n"
     ]
    }
   ],
   "source": [
    "diff_goals = 8\n",
    "temp = df_train[(df_train.score_1440 <= -1*diff_goals) | (df_train.score_1440 >= diff_goals)]\n",
    "same_mt_f = df_train[((df_train.score_1440 <= -1*diff_goals) & (df_train.label == 0)) | ((df_train.score_1440 >= diff_goals) & (df_train.label == 1))]\n",
    "print('Probability that the %d pt margin half-time leader (%.3f of full train set) is the full-time winner %.3f' % (diff_goals, len(temp)/len(df_train), len(same_mt_f)/len(temp)))"
   ]
  },
  {
   "cell_type": "code",
   "execution_count": 6,
   "metadata": {
    "ExecuteTime": {
     "end_time": "2018-03-01T09:16:24.771341Z",
     "start_time": "2018-03-01T09:16:24.462480Z"
    },
    "hidden": true
   },
   "outputs": [
    {
     "name": "stdout",
     "output_type": "stream",
     "text": [
      "Probability that the 6 assist margin half-time leader (0.138 of remaining train set) is the full-time winner 0.610\n"
     ]
    }
   ],
   "source": [
    "df_train_2 = df_train[~df_train.ID.isin(temp.ID.values)]\n",
    "diff_assists = 6\n",
    "same_mt_f = df_train_2[((df_train_2.assist_1440 <= -1*diff_assists) & (df_train_2.label == 0)) \n",
    "                   | ((df_train_2.assist_1440 >= diff_assists) & (df_train_2.label == 1))]\n",
    "temp2 = df_train_2[(df_train_2.assist_1440 <= -1*diff_assists) | (df_train_2.assist_1440 >= diff_assists)]\n",
    "print('Probability that the %d assist margin half-time leader (%.3f of remaining train set) is the full-time winner %.3f' % (diff_assists, len(temp2)/len(df_train_2), len(same_mt_f)/len(temp2)))"
   ]
  },
  {
   "cell_type": "code",
   "execution_count": 32,
   "metadata": {
    "ExecuteTime": {
     "end_time": "2018-03-01T09:26:14.938778Z",
     "start_time": "2018-03-01T09:26:14.639313Z"
    },
    "hidden": true
   },
   "outputs": [
    {
     "name": "stdout",
     "output_type": "stream",
     "text": [
      "Probability that the 1 pt margin half-time leader (0.921 of remaining train set) is the full-time winner 0.617\n"
     ]
    }
   ],
   "source": [
    "diff_goals = 1\n",
    "temp = df_train_2[(df_train_2.score_1440 <= -1*diff_goals) | (df_train_2.score_1440 >= diff_goals)]\n",
    "same_mt_f = df_train_2[((df_train_2.score_1440 <= -1*diff_goals) & (df_train_2.label == 0)) | ((df_train_2.score_1440 >= diff_goals) & (df_train_2.label == 1))]\n",
    "print('Probability that the %d pt margin half-time leader (%.3f of remaining train set) is the full-time winner %.3f' % (diff_goals, len(temp)/len(df_train_2), len(same_mt_f)/len(temp)))"
   ]
  },
  {
   "cell_type": "code",
   "execution_count": 11,
   "metadata": {
    "ExecuteTime": {
     "end_time": "2018-03-05T15:53:42.708345Z",
     "start_time": "2018-03-05T15:53:42.695287Z"
    },
    "hidden": true
   },
   "outputs": [],
   "source": [
    "def predict_from_rules(x): \n",
    "    # Score margin at HT\n",
    "    diff_goals = 8\n",
    "    if x.score_1440 <= -1*diff_goals:\n",
    "        return 0.15\n",
    "    if x.score_1440 >= diff_goals:\n",
    "        return 0.85\n",
    "    \n",
    "    diff_goals = 6\n",
    "    if x.score_1440 <= -1*diff_goals:\n",
    "        return 0.28\n",
    "    if x.score_1440 >= diff_goals:\n",
    "        return 0.72\n",
    "    \n",
    "    diff_goals = 1\n",
    "    if x.score_1440 <= -1*diff_goals:\n",
    "        return 0.38\n",
    "    if x.score_1440 >= diff_goals:\n",
    "        return 0.62\n",
    "    \n",
    "    # Assist margin at HT\n",
    "    diff_assists = 6\n",
    "    if x.assist_1440 <= -1*diff_assists:\n",
    "        return 0.39\n",
    "    if x.assist_1440 >= diff_assists:\n",
    "        return 0.61\n",
    "    \n",
    "    return 0.5"
   ]
  },
  {
   "cell_type": "code",
   "execution_count": 12,
   "metadata": {
    "ExecuteTime": {
     "end_time": "2018-03-05T15:54:37.382715Z",
     "start_time": "2018-03-05T15:54:36.963269Z"
    },
    "hidden": true
   },
   "outputs": [],
   "source": [
    "df_temp = df_val.copy()\n",
    "df_temp['prediction'] = df_temp.apply(predict_from_rules, axis=1)"
   ]
  },
  {
   "cell_type": "code",
   "execution_count": 15,
   "metadata": {
    "ExecuteTime": {
     "end_time": "2018-03-02T12:51:12.822564Z",
     "start_time": "2018-03-02T12:51:12.740054Z"
    },
    "hidden": true
   },
   "outputs": [
    {
     "data": {
      "text/plain": [
       "0.7233704292527822"
      ]
     },
     "execution_count": 15,
     "metadata": {},
     "output_type": "execute_result"
    }
   ],
   "source": [
    "(df_temp['prediction'].apply(round) == df_temp['label']).mean()"
   ]
  },
  {
   "cell_type": "markdown",
   "metadata": {},
   "source": [
    "### Random Forest"
   ]
  },
  {
   "cell_type": "markdown",
   "metadata": {},
   "source": [
    "#### Grid Search"
   ]
  },
  {
   "cell_type": "code",
   "execution_count": 13,
   "metadata": {
    "ExecuteTime": {
     "end_time": "2018-03-05T15:56:05.178272Z",
     "start_time": "2018-03-05T15:56:05.176136Z"
    }
   },
   "outputs": [],
   "source": [
    "from sklearn.model_selection import GridSearchCV\n",
    "from sklearn.model_selection import RandomizedSearchCV\n",
    "from scipy.stats import randint as sp_randint"
   ]
  },
  {
   "cell_type": "code",
   "execution_count": 26,
   "metadata": {
    "ExecuteTime": {
     "end_time": "2018-03-05T16:49:41.500026Z",
     "start_time": "2018-03-05T16:49:41.104907Z"
    }
   },
   "outputs": [],
   "source": [
    "y = df_train.label.values\n",
    "X = df_train.drop(['ID', 'label'], axis=1)"
   ]
  },
  {
   "cell_type": "code",
   "execution_count": 46,
   "metadata": {
    "ExecuteTime": {
     "end_time": "2018-03-05T18:24:50.175419Z",
     "start_time": "2018-03-05T18:24:50.170300Z"
    }
   },
   "outputs": [],
   "source": [
    "scores = []\n",
    "nb_iter = 25\n",
    "for k in range(nb_iter):\n",
    "    start = time()\n",
    "    params = {\"n_estimators\" : np.random.choice([20, 50, 100, 200]),\n",
    "              \"max_depth\": np.random.choice([2, 3, 5, None]),\n",
    "              \"max_features\":np.random.choice(list(range(1,19, 2))+[None]),\n",
    "              \"min_samples_split\": np.random.randint(2, 20),\n",
    "              \"min_samples_leaf\": np.random.randint(1, 20),\n",
    "              \"bootstrap\": True,\n",
    "              \"oob_score\":True,\n",
    "              \"criterion\": np.random.choice([\"gini\", \"entropy\"])}\n",
    "    rf = RandomForestClassifier(**params)\n",
    "    rf.fit(X, y)\n",
    "    scores.append([rf.oob_score_, params, time()-start])"
   ]
  },
  {
   "cell_type": "code",
   "execution_count": 47,
   "metadata": {
    "ExecuteTime": {
     "end_time": "2018-03-05T18:24:55.001328Z",
     "start_time": "2018-03-05T18:24:54.995921Z"
    },
    "scrolled": true
   },
   "outputs": [],
   "source": [
    "scores = sorted(scores, key=lambda x:x[0], reverse=True)\n",
    "for i, score in enumerate(scores):\n",
    "    print('Model #%d computed in %d sec :' % (i+1, score[2]))\n",
    "    print('OOB score : %.3f with params %s' % (score[0], score[1]))"
   ]
  },
  {
   "cell_type": "code",
   "execution_count": 8,
   "metadata": {
    "ExecuteTime": {
     "end_time": "2018-03-06T14:11:45.937703Z",
     "start_time": "2018-03-06T14:11:45.935708Z"
    }
   },
   "outputs": [],
   "source": [
    "best_params = {'n_estimators': 200, 'max_depth': None, 'max_features': 15, \n",
    "               'min_samples_split': 10, 'min_samples_leaf': 2, 'bootstrap': True, \n",
    "               'oob_score': True, 'criterion': 'entropy'}"
   ]
  },
  {
   "cell_type": "markdown",
   "metadata": {},
   "source": [
    "#### Full training"
   ]
  },
  {
   "cell_type": "code",
   "execution_count": 12,
   "metadata": {
    "ExecuteTime": {
     "end_time": "2018-03-06T14:12:47.177863Z",
     "start_time": "2018-03-06T14:12:46.552251Z"
    }
   },
   "outputs": [],
   "source": [
    "y = train.label.values\n",
    "X = train.drop(['ID', 'label'], axis=1)"
   ]
  },
  {
   "cell_type": "code",
   "execution_count": 13,
   "metadata": {
    "ExecuteTime": {
     "end_time": "2018-03-06T14:15:52.811174Z",
     "start_time": "2018-03-06T14:13:01.470787Z"
    }
   },
   "outputs": [],
   "source": [
    "rf = RandomForestClassifier(**best_params)\n",
    "_ = rf.fit(X, y)\n",
    "print(rf.oob_score_)"
   ]
  },
  {
   "cell_type": "code",
   "execution_count": 28,
   "metadata": {
    "ExecuteTime": {
     "end_time": "2018-03-02T12:56:36.443478Z",
     "start_time": "2018-03-02T12:56:36.280988Z"
    }
   },
   "outputs": [
    {
     "data": {
      "text/plain": [
       "0.7452305246422893"
      ]
     },
     "execution_count": 28,
     "metadata": {},
     "output_type": "execute_result"
    }
   ],
   "source": [
    "y_pred = rf.predict(X_val)\n",
    "np.mean(y_pred == y_val)"
   ]
  },
  {
   "cell_type": "code",
   "execution_count": 21,
   "metadata": {
    "ExecuteTime": {
     "end_time": "2018-03-06T14:27:37.870793Z",
     "start_time": "2018-03-06T14:27:37.430303Z"
    }
   },
   "outputs": [],
   "source": [
    "feat_names = X.columns[np.argsort(rf.feature_importances_)[::-1]]\n",
    "feat = np.sort(rf.feature_importances_)[::-1]"
   ]
  },
  {
   "cell_type": "code",
   "execution_count": 36,
   "metadata": {
    "ExecuteTime": {
     "end_time": "2018-03-06T14:55:43.209593Z",
     "start_time": "2018-03-06T14:55:43.134368Z"
    }
   },
   "outputs": [],
   "source": [
    "all_features = set([k.split('_')[0] for k in feat_names])\n",
    "feat_min_idx = sorted([min([i for i,k in enumerate(feat_names) if k.split('_')[0] == feat]) for feat in all_features])\n",
    "feat_names2 = feat_names[feat_min_idx]\n",
    "feat2 = feat[feat_min_idx]"
   ]
  },
  {
   "cell_type": "code",
   "execution_count": 57,
   "metadata": {
    "ExecuteTime": {
     "end_time": "2018-03-06T15:54:06.738881Z",
     "start_time": "2018-03-06T15:54:06.727522Z"
    }
   },
   "outputs": [],
   "source": [
    "def correct_label(x):\n",
    "    x = x.replace('_','\\n')\n",
    "    x = x.replace(\"defensive\", 'def')\n",
    "    x = x.replace('offensive', 'off')\n",
    "    return x.replace('total', '')"
   ]
  },
  {
   "cell_type": "code",
   "execution_count": 58,
   "metadata": {
    "ExecuteTime": {
     "end_time": "2018-03-06T15:54:08.291676Z",
     "start_time": "2018-03-06T15:54:08.154017Z"
    }
   },
   "outputs": [
    {
     "data": {
      "image/png": "[encoded data removed]",
      "text/plain": [
       "<matplotlib.figure.Figure at 0x7f41a36a7c50>"
      ]
     },
     "metadata": {},
     "output_type": "display_data"
    }
   ],
   "source": [
    "f, ax = plt.subplots(figsize=(15,5))\n",
    "sns.barplot(x=feat_names2, y=feat2, order=feat_names2)\n",
    "_=ax.set_xticklabels([correct_label(k.get_text()) for k in ax.get_xticklabels()])"
   ]
  },
  {
   "cell_type": "markdown",
   "metadata": {},
   "source": [
    "### Ensemble methods"
   ]
  },
  {
   "cell_type": "code",
   "execution_count": 13,
   "metadata": {
    "ExecuteTime": {
     "end_time": "2018-03-01T12:46:16.313911Z",
     "start_time": "2018-03-01T12:46:16.312526Z"
    }
   },
   "outputs": [],
   "source": [
    "from keras.models import load_model\n",
    "my_model = load_model('./my_model_convlstm.h5')"
   ]
  },
  {
   "cell_type": "markdown",
   "metadata": {},
   "source": [
    "#### Data preparation"
   ]
  },
  {
   "cell_type": "code",
   "execution_count": 78,
   "metadata": {
    "ExecuteTime": {
     "end_time": "2018-03-01T14:03:52.610427Z",
     "start_time": "2018-03-01T14:03:52.578229Z"
    }
   },
   "outputs": [],
   "source": [
    "def prepare_data(df, conf, test=False):\n",
    "    \"\"\"\n",
    "    :param conf: score min to keep RF predictions\n",
    "    \"\"\"\n",
    "    to_pred = df[(df['RF_prediction'] > 1-conf) & (df_temp['RF_prediction'] < conf)]\n",
    "    ids = to_pred.ID.values\n",
    "    # Add total rebound\n",
    "    for k in range(1,1441):\n",
    "        to_pred['total rebound_%d' % k] = to_pred['offensive rebound_%d' % k] + to_pred['defensive rebound_%d' % k]\n",
    "    temp = to_pred\n",
    "    if not test:\n",
    "        cols_kept = ['ID', 'label', 'prediction', 'RF_prediction']\n",
    "    else:\n",
    "        cols_kept = ['ID', 'prediction', 'RF_prediction']\n",
    "    cols_values = ['score', 'offensive rebound', 'defensive rebound',\n",
    "           'offensive foul', 'defensive foul', 'assist', 'lost ball',\n",
    "           'steals', 'bad pass', 'block', 'miss', 'total rebound']\n",
    "    cols_sec = [k for k in temp.columns if any(x in k for x in cols_values)]\n",
    "    df_id = pd.DataFrame()\n",
    "\n",
    "    for sec in tqdm(range(1, 1441)):\n",
    "        df_sec = temp[cols_kept + [k for k in cols_sec if k.split('_')[1] == str(sec)]]\n",
    "        df_sec.columns = cols_kept + cols_values\n",
    "        df_sec = df_sec.assign(time_step = sec)\n",
    "        df_id = pd.concat([df_id, df_sec])\n",
    "    df_id.ID = df_id.ID.astype(\"category\")\n",
    "    df_id.ID.cat.set_categories(ids, inplace=True)\n",
    "    df_id = df_id.sort_values([\"ID\", 'time_step'])\n",
    "    X_val = []\n",
    "    for id_ in tqdm(ids):\n",
    "        X_val.append(df_id[df_id.ID == id_][cols_values].values)\n",
    "    X_val = np.array(X_val)\n",
    "    print(X_val.shape)\n",
    "    return X_val, to_pred"
   ]
  },
  {
   "cell_type": "code",
   "execution_count": 59,
   "metadata": {
    "ExecuteTime": {
     "end_time": "2018-03-06T15:54:27.262597Z",
     "start_time": "2018-03-06T15:54:27.258253Z"
    }
   },
   "outputs": [],
   "source": [
    "X_val, to_pred = prepare_data(df_temp, 0.58)"
   ]
  },
  {
   "cell_type": "markdown",
   "metadata": {},
   "source": [
    "#### Prediction"
   ]
  },
  {
   "cell_type": "code",
   "execution_count": 67,
   "metadata": {
    "ExecuteTime": {
     "end_time": "2018-03-01T13:45:11.343214Z",
     "start_time": "2018-03-01T13:45:02.243953Z"
    }
   },
   "outputs": [],
   "source": [
    "y_pred = my_model.predict(X_val, batch_size=32)"
   ]
  },
  {
   "cell_type": "code",
   "execution_count": 60,
   "metadata": {
    "ExecuteTime": {
     "end_time": "2018-03-06T15:54:34.710748Z",
     "start_time": "2018-03-06T15:54:34.706272Z"
    }
   },
   "outputs": [],
   "source": [
    "to_pred['LSTM'] = y_pred[:,1]\n",
    "lstm_pred = to_pred[['ID','LSTM']].set_index('ID').to_dict()['LSTM']"
   ]
  },
  {
   "cell_type": "code",
   "execution_count": 69,
   "metadata": {
    "ExecuteTime": {
     "end_time": "2018-03-01T13:45:11.932275Z",
     "start_time": "2018-03-01T13:45:11.408694Z"
    }
   },
   "outputs": [],
   "source": [
    "df_temp['LSTM'] = df_temp.apply(lambda x:lstm_pred.get(x.ID, x.RF_prediction), axis=1)"
   ]
  },
  {
   "cell_type": "code",
   "execution_count": 75,
   "metadata": {
    "ExecuteTime": {
     "end_time": "2018-03-01T13:45:59.322161Z",
     "start_time": "2018-03-01T13:45:58.395929Z"
    }
   },
   "outputs": [
    {
     "data": {
      "text/plain": [
       "[[(1, 8, 9), 0.75],\n",
       " [(1, 7, 9), 0.7496025437201908],\n",
       " [(1, 9, 6), 0.7496025437201908]]"
      ]
     },
     "execution_count": 75,
     "metadata": {},
     "output_type": "execute_result"
    }
   ],
   "source": [
    "l = []\n",
    "for i,j,k in itertools.permutations(np.arange(10), 3):\n",
    "    df_temp['pred'] = (df_temp['prediction']*i + df_temp['RF_prediction']*k + df_temp['LSTM']*j)/(i+k+j)\n",
    "    r = (df_temp['pred'].apply(round) == df_temp['label']).mean()\n",
    "    l.append([(i,j,k), r])\n",
    "sorted(l, key=lambda x:x[1], reverse=True)[:3]"
   ]
  },
  {
   "cell_type": "markdown",
   "metadata": {},
   "source": [
    "### Test"
   ]
  },
  {
   "cell_type": "markdown",
   "metadata": {},
   "source": [
    "#### RF"
   ]
  },
  {
   "cell_type": "code",
   "execution_count": 46,
   "metadata": {
    "ExecuteTime": {
     "end_time": "2018-03-06T15:19:37.168707Z",
     "start_time": "2018-03-06T15:19:15.110164Z"
    }
   },
   "outputs": [
    {
     "name": "stderr",
     "output_type": "stream",
     "text": [
      "100%|██████████| 1439/1439 [00:00<00:00, 5544.20it/s]\n",
      "100%|██████████| 1440/1440 [00:10<00:00, 141.20it/s]\n",
      "100%|██████████| 1440/1440 [00:09<00:00, 150.36it/s]\n"
     ]
    }
   ],
   "source": [
    "X_test = feat_eng.add_tot_rebounds(test)\n",
    "X_test = feat_eng.add_fg(X_test, test=True)"
   ]
  },
  {
   "cell_type": "code",
   "execution_count": 49,
   "metadata": {
    "ExecuteTime": {
     "end_time": "2018-03-06T15:23:07.962010Z",
     "start_time": "2018-03-06T15:23:03.899939Z"
    }
   },
   "outputs": [],
   "source": [
    "X_test = X_test.drop(['ID'], axis=1)\n",
    "test['label'] = rf.predict_proba(X_test)[:,1]\n",
    "test['label'] = test['label'].apply(round)"
   ]
  },
  {
   "cell_type": "markdown",
   "metadata": {},
   "source": [
    "#### Ensemble"
   ]
  },
  {
   "cell_type": "code",
   "execution_count": 61,
   "metadata": {
    "ExecuteTime": {
     "end_time": "2018-03-06T15:54:42.004518Z",
     "start_time": "2018-03-06T15:54:42.001728Z"
    }
   },
   "outputs": [],
   "source": [
    "X_test = test.drop(['ID'], axis=1)\n",
    "test['RF_prediction'] = rf.predict_proba(X_test)[:,1]\n",
    "test['prediction'] = test.apply(predict_from_rules, axis=1)\n",
    "X_test, to_pred_test = prepare_data(test, 0.58, True)"
   ]
  },
  {
   "cell_type": "code",
   "execution_count": 62,
   "metadata": {
    "ExecuteTime": {
     "end_time": "2018-03-06T15:55:03.911700Z",
     "start_time": "2018-03-06T15:55:03.907245Z"
    }
   },
   "outputs": [],
   "source": [
    "y_ = my_model.predict(X_test, batch_size=32)\n",
    "to_pred_test['LSTM'] = y_[:,1]\n",
    "lstm_pred = to_pred_test[['ID','LSTM']].set_index('ID').to_dict()['LSTM']\n",
    "test['LSTM'] = test.apply(lambda x:lstm_pred.get(x.ID, x.RF_prediction), axis=1)\n",
    "i, j, k = 1, 8, 9\n",
    "test['label'] = (test['prediction']*i + test['RF_prediction']*k + test['LSTM']*j)/(i+k+j)"
   ]
  },
  {
   "cell_type": "code",
   "execution_count": 86,
   "metadata": {
    "ExecuteTime": {
     "end_time": "2018-03-01T14:10:01.877348Z",
     "start_time": "2018-03-01T14:10:01.863254Z"
    }
   },
   "outputs": [],
   "source": [
    "test[['ID', 'label']].to_csv('pred_RF2.csv', index=False)"
   ]
  },
  {
   "cell_type": "code",
   "execution_count": null,
   "metadata": {},
   "outputs": [],
   "source": []
  }
 ],
 "metadata": {
  "kernelspec": {
   "display_name": "TensorFlow",
   "language": "python",
   "name": "work_env"
  },
  "language_info": {
   "codemirror_mode": {
    "name": "ipython",
    "version": 3
   },
   "file_extension": ".py",
   "mimetype": "text/x-python",
   "name": "python",
   "nbconvert_exporter": "python",
   "pygments_lexer": "ipython3",
   "version": "3.6.3"
  },
  "toc": {
   "nav_menu": {},
   "number_sections": true,
   "sideBar": true,
   "skip_h1_title": false,
   "toc_cell": false,
   "toc_position": {},
   "toc_section_display": "block",
   "toc_window_display": false
  }
 },
 "nbformat": 4,
 "nbformat_minor": 2
}
