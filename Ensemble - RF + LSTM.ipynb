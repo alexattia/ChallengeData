{
 "cells": [
  {
   "cell_type": "code",
   "execution_count": 20,
   "metadata": {
    "ExecuteTime": {
     "end_time": "2018-03-01T12:53:30.658404Z",
     "start_time": "2018-03-01T12:53:30.648183Z"
    }
   },
   "outputs": [],
   "source": [
    "import pandas as pd\n",
    "import numpy as np\n",
    "import csv\n",
    "import matplotlib.pyplot as plt\n",
    "import seaborn as sns\n",
    "from sklearn.metrics import confusion_matrix, recall_score, precision_score\n",
    "from keras.models import Sequential\n",
    "from keras.layers import Dense, Dropout, LSTM, Activation\n",
    "from sklearn.model_selection import train_test_split\n",
    "from sklearn.ensemble import RandomForestClassifier\n",
    "import itertools\n",
    "from tqdm import tqdm\n",
    "\n",
    "%matplotlib inline"
   ]
  },
  {
   "cell_type": "code",
   "execution_count": 79,
   "metadata": {
    "ExecuteTime": {
     "end_time": "2018-03-01T14:04:27.607046Z",
     "start_time": "2018-03-01T14:04:19.611124Z"
    }
   },
   "outputs": [],
   "source": [
    "test = pd.read_csv('./test.csv')"
   ]
  },
  {
   "cell_type": "code",
   "execution_count": 2,
   "metadata": {
    "ExecuteTime": {
     "end_time": "2018-03-01T12:45:52.480909Z",
     "start_time": "2018-03-01T12:45:21.527142Z"
    }
   },
   "outputs": [],
   "source": [
    "train = pd.read_csv('./train.csv')\n",
    "test = pd.read_csv('./test.csv')\n",
    "label = pd.read_csv('./challenge_output_data_training_file_nba_challenge.csv', sep=';')\n",
    "train = pd.merge(train, label, on='ID')"
   ]
  },
  {
   "cell_type": "code",
   "execution_count": 3,
   "metadata": {
    "ExecuteTime": {
     "end_time": "2018-03-01T12:45:54.061939Z",
     "start_time": "2018-03-01T12:45:52.481941Z"
    }
   },
   "outputs": [],
   "source": [
    "df_train, df_val = train_test_split(train, test_size=0.2, random_state=42)"
   ]
  },
  {
   "cell_type": "markdown",
   "metadata": {},
   "source": [
    "### Rules"
   ]
  },
  {
   "cell_type": "code",
   "execution_count": 4,
   "metadata": {
    "ExecuteTime": {
     "end_time": "2018-03-01T09:16:11.666745Z",
     "start_time": "2018-03-01T09:16:11.284382Z"
    }
   },
   "outputs": [
    {
     "name": "stdout",
     "output_type": "stream",
     "text": [
      "Probability that the 8 pt margin half-time leader (0.464 of full train set) is the full-time winner 0.854\n"
     ]
    }
   ],
   "source": [
    "diff_goals = 8\n",
    "temp = df_train[(df_train.score_1440 <= -1*diff_goals) | (df_train.score_1440 >= diff_goals)]\n",
    "same_mt_f = df_train[((df_train.score_1440 <= -1*diff_goals) & (df_train.label == 0)) | ((df_train.score_1440 >= diff_goals) & (df_train.label == 1))]\n",
    "print('Probability that the %d pt margin half-time leader (%.3f of full train set) is the full-time winner %.3f' % (diff_goals, len(temp)/len(df_train), len(same_mt_f)/len(temp)))"
   ]
  },
  {
   "cell_type": "code",
   "execution_count": 6,
   "metadata": {
    "ExecuteTime": {
     "end_time": "2018-03-01T09:16:24.771341Z",
     "start_time": "2018-03-01T09:16:24.462480Z"
    }
   },
   "outputs": [
    {
     "name": "stdout",
     "output_type": "stream",
     "text": [
      "Probability that the 6 assist margin half-time leader (0.138 of remaining train set) is the full-time winner 0.610\n"
     ]
    }
   ],
   "source": [
    "df_train_2 = df_train[~df_train.ID.isin(temp.ID.values)]\n",
    "diff_assists = 6\n",
    "same_mt_f = df_train_2[((df_train_2.assist_1440 <= -1*diff_assists) & (df_train_2.label == 0)) \n",
    "                   | ((df_train_2.assist_1440 >= diff_assists) & (df_train_2.label == 1))]\n",
    "temp2 = df_train_2[(df_train_2.assist_1440 <= -1*diff_assists) | (df_train_2.assist_1440 >= diff_assists)]\n",
    "print('Probability that the %d assist margin half-time leader (%.3f of remaining train set) is the full-time winner %.3f' % (diff_assists, len(temp2)/len(df_train_2), len(same_mt_f)/len(temp2)))"
   ]
  },
  {
   "cell_type": "code",
   "execution_count": 32,
   "metadata": {
    "ExecuteTime": {
     "end_time": "2018-03-01T09:26:14.938778Z",
     "start_time": "2018-03-01T09:26:14.639313Z"
    }
   },
   "outputs": [
    {
     "name": "stdout",
     "output_type": "stream",
     "text": [
      "Probability that the 1 pt margin half-time leader (0.921 of remaining train set) is the full-time winner 0.617\n"
     ]
    }
   ],
   "source": [
    "diff_goals = 1\n",
    "temp = df_train_2[(df_train_2.score_1440 <= -1*diff_goals) | (df_train_2.score_1440 >= diff_goals)]\n",
    "same_mt_f = df_train_2[((df_train_2.score_1440 <= -1*diff_goals) & (df_train_2.label == 0)) | ((df_train_2.score_1440 >= diff_goals) & (df_train_2.label == 1))]\n",
    "print('Probability that the %d pt margin half-time leader (%.3f of remaining train set) is the full-time winner %.3f' % (diff_goals, len(temp)/len(df_train_2), len(same_mt_f)/len(temp)))"
   ]
  },
  {
   "cell_type": "code",
   "execution_count": 4,
   "metadata": {
    "ExecuteTime": {
     "end_time": "2018-03-01T12:45:54.074497Z",
     "start_time": "2018-03-01T12:45:54.062896Z"
    }
   },
   "outputs": [],
   "source": [
    "def predict_from_rules(x): \n",
    "    # Score margin at HT\n",
    "    diff_goals = 8\n",
    "    if x.score_1440 <= -1*diff_goals:\n",
    "        return 0.15\n",
    "    if x.score_1440 >= diff_goals:\n",
    "        return 0.85\n",
    "    \n",
    "    diff_goals = 6\n",
    "    if x.score_1440 <= -1*diff_goals:\n",
    "        return 0.28\n",
    "    if x.score_1440 >= diff_goals:\n",
    "        return 0.72\n",
    "    \n",
    "    diff_goals = 1\n",
    "    if x.score_1440 <= -1*diff_goals:\n",
    "        return 0.38\n",
    "    if x.score_1440 >= diff_goals:\n",
    "        return 0.62\n",
    "    \n",
    "    # Assist margin at HT\n",
    "    diff_assists = 6\n",
    "    if x.assist_1440 <= -1*diff_assists:\n",
    "        return 0.39\n",
    "    if x.assist_1440 >= diff_assists:\n",
    "        return 0.61\n",
    "    \n",
    "    return 0.5"
   ]
  },
  {
   "cell_type": "code",
   "execution_count": 5,
   "metadata": {
    "ExecuteTime": {
     "end_time": "2018-03-01T12:45:54.649536Z",
     "start_time": "2018-03-01T12:45:54.075377Z"
    }
   },
   "outputs": [],
   "source": [
    "df_temp = df_val.copy()\n",
    "df_temp['prediction'] = df_temp.apply(predict_from_rules, axis=1)"
   ]
  },
  {
   "cell_type": "code",
   "execution_count": 6,
   "metadata": {
    "ExecuteTime": {
     "end_time": "2018-03-01T12:45:54.655453Z",
     "start_time": "2018-03-01T12:45:54.650442Z"
    }
   },
   "outputs": [
    {
     "data": {
      "text/plain": [
       "0.7233704292527822"
      ]
     },
     "execution_count": 6,
     "metadata": {},
     "output_type": "execute_result"
    }
   ],
   "source": [
    "(df_temp['prediction'].apply(round) == df_temp['label']).mean()"
   ]
  },
  {
   "cell_type": "markdown",
   "metadata": {},
   "source": [
    "### Random Forest"
   ]
  },
  {
   "cell_type": "code",
   "execution_count": 7,
   "metadata": {
    "ExecuteTime": {
     "end_time": "2018-03-01T12:45:55.112274Z",
     "start_time": "2018-03-01T12:45:54.656324Z"
    }
   },
   "outputs": [],
   "source": [
    "y_train = df_train.label.values\n",
    "X_train = df_train.drop(['ID', 'label'], axis=1)"
   ]
  },
  {
   "cell_type": "code",
   "execution_count": 8,
   "metadata": {
    "ExecuteTime": {
     "end_time": "2018-03-01T12:45:55.217708Z",
     "start_time": "2018-03-01T12:45:55.115420Z"
    }
   },
   "outputs": [],
   "source": [
    "y_val = df_val.label.values\n",
    "X_val = df_val.drop(['ID', 'label'], axis=1)"
   ]
  },
  {
   "cell_type": "code",
   "execution_count": 9,
   "metadata": {
    "ExecuteTime": {
     "end_time": "2018-03-01T12:45:55.295848Z",
     "start_time": "2018-03-01T12:45:55.218633Z"
    }
   },
   "outputs": [],
   "source": [
    "rf = RandomForestClassifier(n_estimators=100, min_samples_leaf=3)"
   ]
  },
  {
   "cell_type": "code",
   "execution_count": 10,
   "metadata": {
    "ExecuteTime": {
     "end_time": "2018-03-01T12:46:16.091559Z",
     "start_time": "2018-03-01T12:45:55.297733Z"
    }
   },
   "outputs": [],
   "source": [
    "_ = rf.fit(X_train, y_train)"
   ]
  },
  {
   "cell_type": "code",
   "execution_count": 11,
   "metadata": {
    "ExecuteTime": {
     "end_time": "2018-03-01T12:46:16.208343Z",
     "start_time": "2018-03-01T12:46:16.094524Z"
    }
   },
   "outputs": [
    {
     "data": {
      "text/plain": [
       "0.7452305246422893"
      ]
     },
     "execution_count": 11,
     "metadata": {},
     "output_type": "execute_result"
    }
   ],
   "source": [
    "y_pred = rf.predict(X_val)\n",
    "np.mean(y_pred == y_val)"
   ]
  },
  {
   "cell_type": "code",
   "execution_count": 12,
   "metadata": {
    "ExecuteTime": {
     "end_time": "2018-03-01T12:46:16.311643Z",
     "start_time": "2018-03-01T12:46:16.209211Z"
    }
   },
   "outputs": [],
   "source": [
    "df_temp['RF_prediction'] = rf.predict_proba(X_val)[:,1]"
   ]
  },
  {
   "cell_type": "code",
   "execution_count": 133,
   "metadata": {
    "ExecuteTime": {
     "end_time": "2018-03-01T09:58:08.969607Z",
     "start_time": "2018-03-01T09:58:08.962036Z"
    }
   },
   "outputs": [
    {
     "data": {
      "text/plain": [
       "0.744435612082671"
      ]
     },
     "execution_count": 133,
     "metadata": {},
     "output_type": "execute_result"
    }
   ],
   "source": [
    "i, k = 2,5\n",
    "df_temp['pred'] = (df_temp['prediction']*i + df_temp['RF_prediction']*k)/(i+k)\n",
    "(df_temp['pred'].apply(round) == df_temp['label']).mean()"
   ]
  },
  {
   "cell_type": "markdown",
   "metadata": {},
   "source": [
    "### Ensemble methods"
   ]
  },
  {
   "cell_type": "code",
   "execution_count": 13,
   "metadata": {
    "ExecuteTime": {
     "end_time": "2018-03-01T12:46:16.313911Z",
     "start_time": "2018-03-01T12:46:16.312526Z"
    }
   },
   "outputs": [],
   "source": [
    "from keras.models import load_model"
   ]
  },
  {
   "cell_type": "code",
   "execution_count": 14,
   "metadata": {
    "ExecuteTime": {
     "end_time": "2018-03-01T12:46:19.510644Z",
     "start_time": "2018-03-01T12:46:16.314749Z"
    }
   },
   "outputs": [],
   "source": [
    "my_model = load_model('./my_model_convlstm.h5')"
   ]
  },
  {
   "cell_type": "markdown",
   "metadata": {},
   "source": [
    "#### Data preparation"
   ]
  },
  {
   "cell_type": "code",
   "execution_count": 78,
   "metadata": {
    "ExecuteTime": {
     "end_time": "2018-03-01T14:03:52.610427Z",
     "start_time": "2018-03-01T14:03:52.578229Z"
    }
   },
   "outputs": [],
   "source": [
    "def prepare_data(df, conf, test=False):\n",
    "    \"\"\"\n",
    "    :param conf: score min to keep RF predictions\n",
    "    \"\"\"\n",
    "    to_pred = df[(df['RF_prediction'] > 1-conf) & (df_temp['RF_prediction'] < conf)]\n",
    "    ids = to_pred.ID.values\n",
    "    # Add total rebound\n",
    "    for k in range(1,1441):\n",
    "        to_pred['total rebound_%d' % k] = to_pred['offensive rebound_%d' % k] + to_pred['defensive rebound_%d' % k]\n",
    "    temp = to_pred\n",
    "    if not test:\n",
    "        cols_kept = ['ID', 'label', 'prediction', 'RF_prediction']\n",
    "    else:\n",
    "        cols_kept = ['ID', 'prediction', 'RF_prediction']\n",
    "    cols_values = ['score', 'offensive rebound', 'defensive rebound',\n",
    "           'offensive foul', 'defensive foul', 'assist', 'lost ball',\n",
    "           'steals', 'bad pass', 'block', 'miss', 'total rebound']\n",
    "    cols_sec = [k for k in temp.columns if any(x in k for x in cols_values)]\n",
    "    df_id = pd.DataFrame()\n",
    "\n",
    "    for sec in tqdm(range(1, 1441)):\n",
    "        df_sec = temp[cols_kept + [k for k in cols_sec if k.split('_')[1] == str(sec)]]\n",
    "        df_sec.columns = cols_kept + cols_values\n",
    "        df_sec = df_sec.assign(time_step = sec)\n",
    "        df_id = pd.concat([df_id, df_sec])\n",
    "    df_id.ID = df_id.ID.astype(\"category\")\n",
    "    df_id.ID.cat.set_categories(ids, inplace=True)\n",
    "    df_id = df_id.sort_values([\"ID\", 'time_step'])\n",
    "    X_val = []\n",
    "    for id_ in tqdm(ids):\n",
    "        X_val.append(df_id[df_id.ID == id_][cols_values].values)\n",
    "    X_val = np.array(X_val)\n",
    "    print(X_val.shape)\n",
    "    return X_val, to_pred"
   ]
  },
  {
   "cell_type": "code",
   "execution_count": 66,
   "metadata": {
    "ExecuteTime": {
     "end_time": "2018-03-01T13:44:34.455854Z",
     "start_time": "2018-03-01T13:42:24.980333Z"
    }
   },
   "outputs": [
    {
     "name": "stderr",
     "output_type": "stream",
     "text": [
      "/home/alexattia/anaconda3/lib/python3.6/site-packages/ipykernel_launcher.py:9: SettingWithCopyWarning: \n",
      "A value is trying to be set on a copy of a slice from a DataFrame.\n",
      "Try using .loc[row_indexer,col_indexer] = value instead\n",
      "\n",
      "See the caveats in the documentation: http://pandas.pydata.org/pandas-docs/stable/indexing.html#indexing-view-versus-copy\n",
      "  if __name__ == '__main__':\n",
      "100%|██████████| 1440/1440 [00:45<00:00, 31.58it/s]\n",
      "100%|██████████| 518/518 [00:00<00:00, 1372.35it/s]"
     ]
    },
    {
     "name": "stdout",
     "output_type": "stream",
     "text": [
      "(518, 1440, 12) (518, 1)\n"
     ]
    },
    {
     "name": "stderr",
     "output_type": "stream",
     "text": [
      "\n"
     ]
    }
   ],
   "source": [
    "X_val, to_pred = prepare_data(df_temp, 0.58)"
   ]
  },
  {
   "cell_type": "markdown",
   "metadata": {},
   "source": [
    "#### Prediction"
   ]
  },
  {
   "cell_type": "code",
   "execution_count": 67,
   "metadata": {
    "ExecuteTime": {
     "end_time": "2018-03-01T13:45:11.343214Z",
     "start_time": "2018-03-01T13:45:02.243953Z"
    }
   },
   "outputs": [],
   "source": [
    "y_pred = my_model.predict(X_val, batch_size=32)"
   ]
  },
  {
   "cell_type": "code",
   "execution_count": 68,
   "metadata": {
    "ExecuteTime": {
     "end_time": "2018-03-01T13:45:11.407635Z",
     "start_time": "2018-03-01T13:45:11.344017Z"
    }
   },
   "outputs": [
    {
     "name": "stderr",
     "output_type": "stream",
     "text": [
      "/home/alexattia/anaconda3/lib/python3.6/site-packages/ipykernel_launcher.py:1: SettingWithCopyWarning: \n",
      "A value is trying to be set on a copy of a slice from a DataFrame.\n",
      "Try using .loc[row_indexer,col_indexer] = value instead\n",
      "\n",
      "See the caveats in the documentation: http://pandas.pydata.org/pandas-docs/stable/indexing.html#indexing-view-versus-copy\n",
      "  \"\"\"Entry point for launching an IPython kernel.\n"
     ]
    }
   ],
   "source": [
    "to_pred['LSTM'] = y_pred[:,1]\n",
    "lstm_pred = to_pred[['ID','LSTM']].set_index('ID').to_dict()['LSTM']"
   ]
  },
  {
   "cell_type": "code",
   "execution_count": 69,
   "metadata": {
    "ExecuteTime": {
     "end_time": "2018-03-01T13:45:11.932275Z",
     "start_time": "2018-03-01T13:45:11.408694Z"
    }
   },
   "outputs": [],
   "source": [
    "df_temp['LSTM'] = df_temp.apply(lambda x:lstm_pred.get(x.ID, x.RF_prediction), axis=1)"
   ]
  },
  {
   "cell_type": "code",
   "execution_count": 75,
   "metadata": {
    "ExecuteTime": {
     "end_time": "2018-03-01T13:45:59.322161Z",
     "start_time": "2018-03-01T13:45:58.395929Z"
    }
   },
   "outputs": [
    {
     "data": {
      "text/plain": [
       "[[(1, 8, 9), 0.75],\n",
       " [(1, 7, 9), 0.7496025437201908],\n",
       " [(1, 9, 6), 0.7496025437201908]]"
      ]
     },
     "execution_count": 75,
     "metadata": {},
     "output_type": "execute_result"
    }
   ],
   "source": [
    "l = []\n",
    "for i,j,k in itertools.permutations(np.arange(10), 3):\n",
    "    df_temp['pred'] = (df_temp['prediction']*i + df_temp['RF_prediction']*k + df_temp['LSTM']*j)/(i+k+j)\n",
    "    r = (df_temp['pred'].apply(round) == df_temp['label']).mean()\n",
    "    l.append([(i,j,k), r])\n",
    "sorted(l, key=lambda x:x[1], reverse=True)[:3]"
   ]
  },
  {
   "cell_type": "markdown",
   "metadata": {},
   "source": [
    "### Test"
   ]
  },
  {
   "cell_type": "markdown",
   "metadata": {},
   "source": [
    "#### RF"
   ]
  },
  {
   "cell_type": "code",
   "execution_count": 153,
   "metadata": {
    "ExecuteTime": {
     "end_time": "2018-03-01T10:03:21.664956Z",
     "start_time": "2018-03-01T10:03:21.295285Z"
    }
   },
   "outputs": [],
   "source": [
    "X_test = test.drop(['ID'], axis=1)\n",
    "test['label'] = rf.predict_proba(X_test)[:,1]\n",
    "test['label'] = test['label'].apply(round)"
   ]
  },
  {
   "cell_type": "code",
   "execution_count": 154,
   "metadata": {
    "ExecuteTime": {
     "end_time": "2018-03-01T10:03:22.504753Z",
     "start_time": "2018-03-01T10:03:22.161465Z"
    }
   },
   "outputs": [],
   "source": [
    "test[['ID', 'label']].to_csv('pred_RF.csv', index=False)"
   ]
  },
  {
   "cell_type": "markdown",
   "metadata": {},
   "source": [
    "#### Ensemble"
   ]
  },
  {
   "cell_type": "code",
   "execution_count": 80,
   "metadata": {
    "ExecuteTime": {
     "end_time": "2018-03-01T14:06:15.974639Z",
     "start_time": "2018-03-01T14:04:27.607928Z"
    }
   },
   "outputs": [
    {
     "name": "stderr",
     "output_type": "stream",
     "text": [
      "/home/alexattia/anaconda3/lib/python3.6/site-packages/ipykernel_launcher.py:5: UserWarning: Boolean Series key will be reindexed to match DataFrame index.\n",
      "  \"\"\"\n",
      "/home/alexattia/anaconda3/lib/python3.6/site-packages/ipykernel_launcher.py:9: SettingWithCopyWarning: \n",
      "A value is trying to be set on a copy of a slice from a DataFrame.\n",
      "Try using .loc[row_indexer,col_indexer] = value instead\n",
      "\n",
      "See the caveats in the documentation: http://pandas.pydata.org/pandas-docs/stable/indexing.html#indexing-view-versus-copy\n",
      "  if __name__ == '__main__':\n",
      "100%|██████████| 1440/1440 [00:22<00:00, 63.37it/s]\n",
      "100%|██████████| 306/306 [00:00<00:00, 1431.62it/s]"
     ]
    },
    {
     "name": "stdout",
     "output_type": "stream",
     "text": [
      "(306, 1440, 12)\n"
     ]
    },
    {
     "name": "stderr",
     "output_type": "stream",
     "text": [
      "\n"
     ]
    }
   ],
   "source": [
    "X_test = test.drop(['ID'], axis=1)\n",
    "test['RF_prediction'] = rf.predict_proba(X_test)[:,1]\n",
    "test['prediction'] = test.apply(predict_from_rules, axis=1)\n",
    "X_test, to_pred_test = prepare_data(test, 0.58, True)"
   ]
  },
  {
   "cell_type": "code",
   "execution_count": 81,
   "metadata": {
    "ExecuteTime": {
     "end_time": "2018-03-01T14:07:49.311056Z",
     "start_time": "2018-03-01T14:07:43.127969Z"
    }
   },
   "outputs": [
    {
     "name": "stderr",
     "output_type": "stream",
     "text": [
      "/home/alexattia/anaconda3/lib/python3.6/site-packages/ipykernel_launcher.py:2: SettingWithCopyWarning: \n",
      "A value is trying to be set on a copy of a slice from a DataFrame.\n",
      "Try using .loc[row_indexer,col_indexer] = value instead\n",
      "\n",
      "See the caveats in the documentation: http://pandas.pydata.org/pandas-docs/stable/indexing.html#indexing-view-versus-copy\n",
      "  \n"
     ]
    }
   ],
   "source": [
    "y_ = my_model.predict(X_test, batch_size=32)\n",
    "to_pred_test['LSTM'] = y_[:,1]\n",
    "lstm_pred = to_pred_test[['ID','LSTM']].set_index('ID').to_dict()['LSTM']\n",
    "test['LSTM'] = test.apply(lambda x:lstm_pred.get(x.ID, x.RF_prediction), axis=1)\n",
    "i, j, k = 1, 8, 9\n",
    "test['label'] = (test['prediction']*i + test['RF_prediction']*k + test['LSTM']*j)/(i+k+j)"
   ]
  },
  {
   "cell_type": "code",
   "execution_count": 86,
   "metadata": {
    "ExecuteTime": {
     "end_time": "2018-03-01T14:10:01.877348Z",
     "start_time": "2018-03-01T14:10:01.863254Z"
    }
   },
   "outputs": [],
   "source": [
    "test[['ID', 'label']].to_csv('pred_RF2.csv', index=False)"
   ]
  },
  {
   "cell_type": "code",
   "execution_count": null,
   "metadata": {},
   "outputs": [],
   "source": []
  }
 ],
 "metadata": {
  "kernelspec": {
   "display_name": "TensorFlow",
   "language": "python",
   "name": "work_env"
  },
  "language_info": {
   "codemirror_mode": {
    "name": "ipython",
    "version": 3
   },
   "file_extension": ".py",
   "mimetype": "text/x-python",
   "name": "python",
   "nbconvert_exporter": "python",
   "pygments_lexer": "ipython3",
   "version": "3.6.3"
  },
  "toc": {
   "nav_menu": {},
   "number_sections": true,
   "sideBar": true,
   "skip_h1_title": false,
   "toc_cell": false,
   "toc_position": {},
   "toc_section_display": "block",
   "toc_window_display": false
  }
 },
 "nbformat": 4,
 "nbformat_minor": 2
}
